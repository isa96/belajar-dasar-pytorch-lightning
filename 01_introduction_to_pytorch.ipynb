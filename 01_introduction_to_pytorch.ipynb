{
  "cells": [
    {
      "cell_type": "markdown",
      "id": "3430d66a",
      "metadata": {
        "papermill": {
          "duration": 0.017199,
          "end_time": "2022-05-12T11:44:36.489157",
          "exception": false,
          "start_time": "2022-05-12T11:44:36.471958",
          "status": "completed"
        },
        "tags": [],
        "id": "3430d66a"
      },
      "source": [
        "\n",
        "# Tutorial 1: Introduction to PyTorch\n",
        "\n",
        "* **Author:** Phillip Lippe\n",
        "* **License:** CC BY-SA\n",
        "* **Generated:** 2022-05-12T13:44:14.531736\n",
        "\n",
        "This tutorial will give a short introduction to PyTorch basics, and get you setup for writing your own neural networks.\n",
        "This notebook is part of a lecture series on Deep Learning at the University of Amsterdam.\n",
        "The full list of tutorials can be found at https://uvadlc-notebooks.rtfd.io.\n",
        "\n",
        "\n"
      ]
    },
    {
      "cell_type": "markdown",
      "id": "63c4bc69",
      "metadata": {
        "papermill": {
          "duration": 0.014088,
          "end_time": "2022-05-12T11:44:36.519910",
          "exception": false,
          "start_time": "2022-05-12T11:44:36.505822",
          "status": "completed"
        },
        "tags": [],
        "id": "63c4bc69"
      },
      "source": [
        "## Setup\n",
        "This notebook requires some packages besides pytorch-lightning."
      ]
    },
    {
      "cell_type": "code",
      "execution_count": 1,
      "id": "89b5dbf7",
      "metadata": {
        "execution": {
          "iopub.execute_input": "2022-05-12T11:44:36.552939Z",
          "iopub.status.busy": "2022-05-12T11:44:36.552077Z",
          "iopub.status.idle": "2022-05-12T11:44:40.698923Z",
          "shell.execute_reply": "2022-05-12T11:44:40.697901Z"
        },
        "id": "89b5dbf7",
        "lines_to_next_cell": 0,
        "papermill": {
          "duration": 4.167203,
          "end_time": "2022-05-12T11:44:40.701322",
          "exception": false,
          "start_time": "2022-05-12T11:44:36.534119",
          "status": "completed"
        },
        "tags": [],
        "colab": {
          "base_uri": "https://localhost:8080/"
        },
        "outputId": "a9613700-69ef-484d-e8cc-43db80df5ece"
      },
      "outputs": [
        {
          "output_type": "stream",
          "name": "stdout",
          "text": [
            "\u001b[2K     \u001b[90m━━━━━━━━━━━━━━━━━━━━━━━━━━━━━━━━━━━━━━━\u001b[0m \u001b[32m825.8/825.8 KB\u001b[0m \u001b[31m9.6 MB/s\u001b[0m eta \u001b[36m0:00:00\u001b[0m\n",
            "\u001b[2K     \u001b[90m━━━━━━━━━━━━━━━━━━━━━━━━━━━━━━━━━━━━━━\u001b[0m \u001b[32m952.4/952.4 KB\u001b[0m \u001b[31m33.4 MB/s\u001b[0m eta \u001b[36m0:00:00\u001b[0m\n",
            "\u001b[2K     \u001b[90m━━━━━━━━━━━━━━━━━━━━━━━━━━━━━━━━━━━━━━\u001b[0m \u001b[32m512.4/512.4 KB\u001b[0m \u001b[31m30.4 MB/s\u001b[0m eta \u001b[36m0:00:00\u001b[0m\n",
            "\u001b[2K     \u001b[90m━━━━━━━━━━━━━━━━━━━━━━━━━━━━━━━━━━━━━━━━\u001b[0m \u001b[32m1.6/1.6 MB\u001b[0m \u001b[31m56.9 MB/s\u001b[0m eta \u001b[36m0:00:00\u001b[0m\n",
            "\u001b[?25h"
          ]
        }
      ],
      "source": [
        "! pip install --quiet \"torch>=1.8\" \"pytorch-lightning>=1.4\" \"ipython[notebook]\" \"setuptools==59.5.0\" \"torchmetrics>=0.7\" \"matplotlib\""
      ]
    },
    {
      "cell_type": "markdown",
      "id": "faa9e81e",
      "metadata": {
        "papermill": {
          "duration": 0.012897,
          "end_time": "2022-05-12T11:44:40.728633",
          "exception": false,
          "start_time": "2022-05-12T11:44:40.715736",
          "status": "completed"
        },
        "tags": [],
        "id": "faa9e81e"
      },
      "source": [
        "<div class=\"center-wrapper\"><div class=\"video-wrapper\"><iframe src=\"https://www.youtube.com/embed/wnKZZgFQY-E\" title=\"YouTube video player\" frameborder=\"0\" allow=\"accelerometer; autoplay; clipboard-write; encrypted-media; gyroscope; picture-in-picture\" allowfullscreen></iframe></div></div>\n",
        "Welcome to our PyTorch tutorial for the Deep Learning course 2020 at the University of Amsterdam!\n",
        "The following notebook is meant to give a short introduction to PyTorch basics, and get you setup for writing your own neural networks.\n",
        "PyTorch is an open source machine learning framework that allows you to write your own neural networks and optimize them efficiently.\n",
        "However, PyTorch is not the only framework of its kind.\n",
        "Alternatives to PyTorch include [TensorFlow](https://www.tensorflow.org/), [JAX](https://github.com/google/jax) and [Caffe](http://caffe.berkeleyvision.org/).\n",
        "We choose to teach PyTorch at the University of Amsterdam because it is well established, has a huge developer community (originally developed by Facebook), is very flexible and especially used in research.\n",
        "Many current papers publish their code in PyTorch, and thus it is good to be familiar with PyTorch as well.\n",
        "Meanwhile, TensorFlow (developed by Google) is usually known for being a production-grade deep learning library.\n",
        "Still, if you know one machine learning framework in depth, it is very easy to learn another one because many of them use the same concepts and ideas.\n",
        "For instance, TensorFlow's version 2 was heavily inspired by the most popular features of PyTorch, making the frameworks even more similar.\n",
        "If you are already familiar with PyTorch and have created your own neural network projects, feel free to just skim this notebook.\n",
        "\n",
        "We are of course not the first ones to create a PyTorch tutorial.\n",
        "There are many great tutorials online, including the [\"60-min blitz\"](https://pytorch.org/tutorials/beginner/deep_learning_60min_blitz.html) on the official [PyTorch website](https://pytorch.org/tutorials/).\n",
        "Yet, we choose to create our own tutorial which is designed to give you the basics particularly necessary for the practicals, but still understand how PyTorch works under the hood.\n",
        "Over the next few weeks, we will also keep exploring new PyTorch features in the series of Jupyter notebook tutorials about deep learning.\n",
        "\n",
        "We will use a set of standard libraries that are often used in machine learning projects.\n",
        "If you are running this notebook on Google Colab, all libraries should be pre-installed.\n",
        "If you are running this notebook locally, make sure you have installed our `dl2020` environment ([link](https://github.com/uvadlc/uvadlc_practicals_2020/blob/master/environment.yml)) and have activated it."
      ]
    },
    {
      "cell_type": "code",
      "execution_count": 2,
      "id": "df258032",
      "metadata": {
        "execution": {
          "iopub.execute_input": "2022-05-12T11:44:40.756767Z",
          "iopub.status.busy": "2022-05-12T11:44:40.756012Z",
          "iopub.status.idle": "2022-05-12T11:44:42.475828Z",
          "shell.execute_reply": "2022-05-12T11:44:42.475068Z"
        },
        "papermill": {
          "duration": 1.736237,
          "end_time": "2022-05-12T11:44:42.477856",
          "exception": false,
          "start_time": "2022-05-12T11:44:40.741619",
          "status": "completed"
        },
        "tags": [],
        "id": "df258032"
      },
      "outputs": [],
      "source": [
        "import time\n",
        "\n",
        "import matplotlib.pyplot as plt\n",
        "import numpy as np\n",
        "import torch\n",
        "import torch.nn as nn\n",
        "import torch.utils.data as data\n",
        "\n",
        "%matplotlib inline\n",
        "from IPython.display import set_matplotlib_formats\n",
        "from matplotlib.colors import to_rgba\n",
        "from torch import Tensor\n",
        "from tqdm.notebook import tqdm  # Progress bar\n",
        "\n",
        "set_matplotlib_formats(\"svg\", \"pdf\")"
      ]
    },
    {
      "cell_type": "markdown",
      "id": "143e4d13",
      "metadata": {
        "papermill": {
          "duration": 0.014482,
          "end_time": "2022-05-12T11:44:42.506873",
          "exception": false,
          "start_time": "2022-05-12T11:44:42.492391",
          "status": "completed"
        },
        "tags": [],
        "id": "143e4d13"
      },
      "source": [
        "## The Basics of PyTorch\n",
        "\n",
        "We will start with reviewing the very basic concepts of PyTorch.\n",
        "As a prerequisite, we recommend to be familiar with the `numpy` package as most machine learning frameworks are based on very similar concepts.\n",
        "If you are not familiar with numpy yet, don't worry: here is a [tutorial](https://numpy.org/devdocs/user/quickstart.html) to go through.\n",
        "\n",
        "So, let's start with importing PyTorch.\n",
        "The package is called `torch`, based on its original framework [Torch](http://torch.ch/).\n",
        "As a first step, we can check its version:"
      ]
    },
    {
      "cell_type": "code",
      "execution_count": 3,
      "id": "dad53a11",
      "metadata": {
        "execution": {
          "iopub.execute_input": "2022-05-12T11:44:42.537659Z",
          "iopub.status.busy": "2022-05-12T11:44:42.537047Z",
          "iopub.status.idle": "2022-05-12T11:44:42.541912Z",
          "shell.execute_reply": "2022-05-12T11:44:42.541104Z"
        },
        "papermill": {
          "duration": 0.021328,
          "end_time": "2022-05-12T11:44:42.543502",
          "exception": false,
          "start_time": "2022-05-12T11:44:42.522174",
          "status": "completed"
        },
        "tags": [],
        "id": "dad53a11",
        "outputId": "04e844b8-2695-4c1a-fca7-c482864b791c",
        "colab": {
          "base_uri": "https://localhost:8080/"
        }
      },
      "outputs": [
        {
          "output_type": "stream",
          "name": "stdout",
          "text": [
            "Using torch 1.13.1+cu116\n"
          ]
        }
      ],
      "source": [
        "print(\"Using torch\", torch.__version__)"
      ]
    },
    {
      "cell_type": "markdown",
      "id": "55e54b51",
      "metadata": {
        "papermill": {
          "duration": 0.013161,
          "end_time": "2022-05-12T11:44:42.570309",
          "exception": false,
          "start_time": "2022-05-12T11:44:42.557148",
          "status": "completed"
        },
        "tags": [],
        "id": "55e54b51"
      },
      "source": [
        "At the time of writing this tutorial (mid of August 2021), the current stable version is 1.9.\n",
        "You should therefore see the output `Using torch 1.9.0`, eventually with some extension for the CUDA version on Colab.\n",
        "In case you use the `dl2020` environment, you should see `Using torch 1.6.0` since the environment was provided in October 2020.\n",
        "It is recommended to update the PyTorch version to the newest one.\n",
        "If you see a lower version number than 1.6, make sure you have installed the correct the environment, or ask one of your TAs.\n",
        "In case PyTorch 1.10 or newer will be published during the time of the course, don't worry.\n",
        "The interface between PyTorch versions doesn't change too much, and hence all code should also be runnable with newer versions.\n",
        "\n",
        "As in every machine learning framework, PyTorch provides functions that are stochastic like generating random numbers.\n",
        "However, a very good practice is to setup your code to be reproducible with the exact same random numbers.\n",
        "This is why we set a seed below."
      ]
    },
    {
      "cell_type": "code",
      "execution_count": 4,
      "id": "21cefb24",
      "metadata": {
        "execution": {
          "iopub.execute_input": "2022-05-12T11:44:42.597792Z",
          "iopub.status.busy": "2022-05-12T11:44:42.597390Z",
          "iopub.status.idle": "2022-05-12T11:44:42.605393Z",
          "shell.execute_reply": "2022-05-12T11:44:42.604675Z"
        },
        "papermill": {
          "duration": 0.023511,
          "end_time": "2022-05-12T11:44:42.606931",
          "exception": false,
          "start_time": "2022-05-12T11:44:42.583420",
          "status": "completed"
        },
        "tags": [],
        "id": "21cefb24",
        "outputId": "d33778ed-6158-4dfa-b1c1-890887eabad9",
        "colab": {
          "base_uri": "https://localhost:8080/"
        }
      },
      "outputs": [
        {
          "output_type": "execute_result",
          "data": {
            "text/plain": [
              "<torch._C.Generator at 0x7f3cce8208b0>"
            ]
          },
          "metadata": {},
          "execution_count": 4
        }
      ],
      "source": [
        "torch.manual_seed(42)  # Setting the seed"
      ]
    },
    {
      "cell_type": "markdown",
      "id": "b3ada93e",
      "metadata": {
        "papermill": {
          "duration": 0.013357,
          "end_time": "2022-05-12T11:44:42.636349",
          "exception": false,
          "start_time": "2022-05-12T11:44:42.622992",
          "status": "completed"
        },
        "tags": [],
        "id": "b3ada93e"
      },
      "source": [
        "### Tensors\n",
        "\n",
        "Tensors are the PyTorch equivalent to Numpy arrays, with the addition to also have support for GPU acceleration (more on that later).\n",
        "The name \"tensor\" is a generalization of concepts you already know.\n",
        "For instance, a vector is a 1-D tensor, and a matrix a 2-D tensor.\n",
        "When working with neural networks, we will use tensors of various shapes and number of dimensions.\n",
        "\n",
        "Most common functions you know from numpy can be used on tensors as well.\n",
        "Actually, since numpy arrays are so similar to tensors, we can convert most tensors to numpy arrays (and back) but we don't need it too often.\n",
        "\n",
        "#### Initialization\n",
        "\n",
        "Let's first start by looking at different ways of creating a tensor.\n",
        "There are many possible options, the most simple one is to call\n",
        "`Tensor` passing the desired shape as input argument:"
      ]
    },
    {
      "cell_type": "code",
      "execution_count": 5,
      "id": "2be50059",
      "metadata": {
        "execution": {
          "iopub.execute_input": "2022-05-12T11:44:42.664914Z",
          "iopub.status.busy": "2022-05-12T11:44:42.664452Z",
          "iopub.status.idle": "2022-05-12T11:44:42.670092Z",
          "shell.execute_reply": "2022-05-12T11:44:42.669442Z"
        },
        "papermill": {
          "duration": 0.021794,
          "end_time": "2022-05-12T11:44:42.671546",
          "exception": false,
          "start_time": "2022-05-12T11:44:42.649752",
          "status": "completed"
        },
        "tags": [],
        "id": "2be50059",
        "outputId": "cbf791d6-fbe7-4e54-bf49-096dd7f4e94a",
        "colab": {
          "base_uri": "https://localhost:8080/"
        }
      },
      "outputs": [
        {
          "output_type": "stream",
          "name": "stdout",
          "text": [
            "tensor([[[1.1686e-34, 0.0000e+00, 0.0000e+00, 0.0000e+00],\n",
            "         [0.0000e+00, 0.0000e+00, 0.0000e+00, 0.0000e+00],\n",
            "         [0.0000e+00, 0.0000e+00, 0.0000e+00, 0.0000e+00]],\n",
            "\n",
            "        [[0.0000e+00, 0.0000e+00, 0.0000e+00, 0.0000e+00],\n",
            "         [0.0000e+00, 0.0000e+00, 0.0000e+00, 0.0000e+00],\n",
            "         [0.0000e+00, 0.0000e+00, 0.0000e+00, 0.0000e+00]]])\n"
          ]
        }
      ],
      "source": [
        "x = Tensor(2, 3, 4)\n",
        "print(x)"
      ]
    },
    {
      "cell_type": "markdown",
      "id": "b0ddbeb7",
      "metadata": {
        "papermill": {
          "duration": 0.013462,
          "end_time": "2022-05-12T11:44:42.698184",
          "exception": false,
          "start_time": "2022-05-12T11:44:42.684722",
          "status": "completed"
        },
        "tags": [],
        "id": "b0ddbeb7"
      },
      "source": [
        "The function `torch.Tensor` allocates memory for the desired tensor, but reuses any values that have already been in the memory.\n",
        "To directly assign values to the tensor during initialization, there are many alternatives including:\n",
        "\n",
        "* `torch.zeros`: Creates a tensor filled with zeros\n",
        "* `torch.ones`: Creates a tensor filled with ones\n",
        "* `torch.rand`: Creates a tensor with random values uniformly sampled between 0 and 1\n",
        "* `torch.randn`: Creates a tensor with random values sampled from a normal distribution with mean 0 and variance 1\n",
        "* `torch.arange`: Creates a tensor containing the values $N,N+1,N+2,...,M$\n",
        "* `torch.Tensor` (input list): Creates a tensor from the list elements you provide"
      ]
    },
    {
      "cell_type": "code",
      "execution_count": 6,
      "id": "d528be70",
      "metadata": {
        "execution": {
          "iopub.execute_input": "2022-05-12T11:44:42.726996Z",
          "iopub.status.busy": "2022-05-12T11:44:42.726520Z",
          "iopub.status.idle": "2022-05-12T11:44:42.732222Z",
          "shell.execute_reply": "2022-05-12T11:44:42.731593Z"
        },
        "papermill": {
          "duration": 0.021733,
          "end_time": "2022-05-12T11:44:42.733791",
          "exception": false,
          "start_time": "2022-05-12T11:44:42.712058",
          "status": "completed"
        },
        "tags": [],
        "id": "d528be70",
        "outputId": "e4445158-f21d-4e40-b89b-28de2e138eeb",
        "colab": {
          "base_uri": "https://localhost:8080/"
        }
      },
      "outputs": [
        {
          "output_type": "stream",
          "name": "stdout",
          "text": [
            "tensor([[1., 2.],\n",
            "        [3., 4.]])\n"
          ]
        }
      ],
      "source": [
        "# Create a tensor from a (nested) list\n",
        "x = Tensor([[1, 2], [3, 4]])\n",
        "print(x)"
      ]
    },
    {
      "cell_type": "code",
      "execution_count": 7,
      "id": "0800b194",
      "metadata": {
        "execution": {
          "iopub.execute_input": "2022-05-12T11:44:42.818669Z",
          "iopub.status.busy": "2022-05-12T11:44:42.818195Z",
          "iopub.status.idle": "2022-05-12T11:44:42.823484Z",
          "shell.execute_reply": "2022-05-12T11:44:42.822851Z"
        },
        "papermill": {
          "duration": 0.077338,
          "end_time": "2022-05-12T11:44:42.824950",
          "exception": false,
          "start_time": "2022-05-12T11:44:42.747612",
          "status": "completed"
        },
        "tags": [],
        "id": "0800b194",
        "outputId": "9c511716-0acf-4fd0-b564-6b4126b26cc0",
        "colab": {
          "base_uri": "https://localhost:8080/"
        }
      },
      "outputs": [
        {
          "output_type": "stream",
          "name": "stdout",
          "text": [
            "tensor([[[0.8823, 0.9150, 0.3829, 0.9593],\n",
            "         [0.3904, 0.6009, 0.2566, 0.7936],\n",
            "         [0.9408, 0.1332, 0.9346, 0.5936]],\n",
            "\n",
            "        [[0.8694, 0.5677, 0.7411, 0.4294],\n",
            "         [0.8854, 0.5739, 0.2666, 0.6274],\n",
            "         [0.2696, 0.4414, 0.2969, 0.8317]]])\n"
          ]
        }
      ],
      "source": [
        "# Create a tensor with random values between 0 and 1 with the shape [2, 3, 4]\n",
        "x = torch.rand(2, 3, 4)\n",
        "print(x)"
      ]
    },
    {
      "cell_type": "markdown",
      "id": "bc8a4637",
      "metadata": {
        "papermill": {
          "duration": 0.013136,
          "end_time": "2022-05-12T11:44:42.851415",
          "exception": false,
          "start_time": "2022-05-12T11:44:42.838279",
          "status": "completed"
        },
        "tags": [],
        "id": "bc8a4637"
      },
      "source": [
        "You can obtain the shape of a tensor in the same way as in numpy (`x.shape`), or using the `.size` method:"
      ]
    },
    {
      "cell_type": "code",
      "execution_count": 8,
      "id": "c08ce24f",
      "metadata": {
        "execution": {
          "iopub.execute_input": "2022-05-12T11:44:42.879359Z",
          "iopub.status.busy": "2022-05-12T11:44:42.878881Z",
          "iopub.status.idle": "2022-05-12T11:44:42.883409Z",
          "shell.execute_reply": "2022-05-12T11:44:42.882772Z"
        },
        "papermill": {
          "duration": 0.020086,
          "end_time": "2022-05-12T11:44:42.884919",
          "exception": false,
          "start_time": "2022-05-12T11:44:42.864833",
          "status": "completed"
        },
        "tags": [],
        "id": "c08ce24f",
        "outputId": "d1f06e89-bffc-415f-ac06-cfa8b79a638a",
        "colab": {
          "base_uri": "https://localhost:8080/"
        }
      },
      "outputs": [
        {
          "output_type": "stream",
          "name": "stdout",
          "text": [
            "Shape: torch.Size([2, 3, 4])\n",
            "Size: torch.Size([2, 3, 4])\n",
            "Size: 2 3 4\n"
          ]
        }
      ],
      "source": [
        "shape = x.shape\n",
        "print(\"Shape:\", x.shape)\n",
        "\n",
        "size = x.size()\n",
        "print(\"Size:\", size)\n",
        "\n",
        "dim1, dim2, dim3 = x.size()\n",
        "print(\"Size:\", dim1, dim2, dim3)"
      ]
    },
    {
      "cell_type": "markdown",
      "id": "2248de2f",
      "metadata": {
        "papermill": {
          "duration": 0.014217,
          "end_time": "2022-05-12T11:44:42.912998",
          "exception": false,
          "start_time": "2022-05-12T11:44:42.898781",
          "status": "completed"
        },
        "tags": [],
        "id": "2248de2f"
      },
      "source": [
        "#### Tensor to Numpy, and Numpy to Tensor\n",
        "\n",
        "Tensors can be converted to numpy arrays, and numpy arrays back to tensors.\n",
        "To transform a numpy array into a tensor, we can use the function `torch.from_numpy`:"
      ]
    },
    {
      "cell_type": "code",
      "execution_count": 9,
      "id": "0f793dea",
      "metadata": {
        "execution": {
          "iopub.execute_input": "2022-05-12T11:44:42.943181Z",
          "iopub.status.busy": "2022-05-12T11:44:42.942778Z",
          "iopub.status.idle": "2022-05-12T11:44:42.951031Z",
          "shell.execute_reply": "2022-05-12T11:44:42.950325Z"
        },
        "papermill": {
          "duration": 0.029636,
          "end_time": "2022-05-12T11:44:42.956756",
          "exception": false,
          "start_time": "2022-05-12T11:44:42.927120",
          "status": "completed"
        },
        "tags": [],
        "id": "0f793dea",
        "outputId": "17ca2928-b6d4-456a-859b-fe786c36d0ef",
        "colab": {
          "base_uri": "https://localhost:8080/"
        }
      },
      "outputs": [
        {
          "output_type": "stream",
          "name": "stdout",
          "text": [
            "Numpy array: [[1 2]\n",
            " [3 4]]\n",
            "PyTorch tensor: tensor([[1, 2],\n",
            "        [3, 4]])\n"
          ]
        }
      ],
      "source": [
        "np_arr = np.array([[1, 2], [3, 4]])\n",
        "tensor = torch.from_numpy(np_arr)\n",
        "\n",
        "print(\"Numpy array:\", np_arr)\n",
        "print(\"PyTorch tensor:\", tensor)"
      ]
    },
    {
      "cell_type": "markdown",
      "id": "9f3eaaed",
      "metadata": {
        "papermill": {
          "duration": 0.015573,
          "end_time": "2022-05-12T11:44:42.988099",
          "exception": false,
          "start_time": "2022-05-12T11:44:42.972526",
          "status": "completed"
        },
        "tags": [],
        "id": "9f3eaaed"
      },
      "source": [
        "To transform a PyTorch tensor back to a numpy array, we can use the function `.numpy()` on tensors:"
      ]
    },
    {
      "cell_type": "code",
      "execution_count": 10,
      "id": "f932b2ff",
      "metadata": {
        "execution": {
          "iopub.execute_input": "2022-05-12T11:44:43.231810Z",
          "iopub.status.busy": "2022-05-12T11:44:43.231309Z",
          "iopub.status.idle": "2022-05-12T11:44:43.236712Z",
          "shell.execute_reply": "2022-05-12T11:44:43.235987Z"
        },
        "papermill": {
          "duration": 0.024113,
          "end_time": "2022-05-12T11:44:43.238239",
          "exception": false,
          "start_time": "2022-05-12T11:44:43.214126",
          "status": "completed"
        },
        "tags": [],
        "id": "f932b2ff",
        "outputId": "0db7d944-0140-44ef-bdfd-1f00f7fa4aae",
        "colab": {
          "base_uri": "https://localhost:8080/"
        }
      },
      "outputs": [
        {
          "output_type": "stream",
          "name": "stdout",
          "text": [
            "PyTorch tensor: tensor([0, 1, 2, 3])\n",
            "Numpy array: [0 1 2 3]\n"
          ]
        }
      ],
      "source": [
        "tensor = torch.arange(4)\n",
        "np_arr = tensor.numpy()\n",
        "\n",
        "print(\"PyTorch tensor:\", tensor)\n",
        "print(\"Numpy array:\", np_arr)"
      ]
    },
    {
      "cell_type": "markdown",
      "id": "e588c9b9",
      "metadata": {
        "papermill": {
          "duration": 0.018991,
          "end_time": "2022-05-12T11:44:43.272768",
          "exception": false,
          "start_time": "2022-05-12T11:44:43.253777",
          "status": "completed"
        },
        "tags": [],
        "id": "e588c9b9"
      },
      "source": [
        "The conversion of tensors to numpy require the tensor to be on the CPU, and not the GPU (more on GPU support in a later section).\n",
        "In case you have a tensor on GPU, you need to call `.cpu()` on the tensor beforehand.\n",
        "Hence, you get a line like `np_arr = tensor.cpu().numpy()`."
      ]
    },
    {
      "cell_type": "markdown",
      "id": "53ea3099",
      "metadata": {
        "papermill": {
          "duration": 0.014022,
          "end_time": "2022-05-12T11:44:43.302434",
          "exception": false,
          "start_time": "2022-05-12T11:44:43.288412",
          "status": "completed"
        },
        "tags": [],
        "id": "53ea3099"
      },
      "source": [
        "#### Operations\n",
        "\n",
        "Most operations that exist in numpy, also exist in PyTorch.\n",
        "A full list of operations can be found in the [PyTorch documentation](https://pytorch.org/docs/stable/tensors.html#), but we will review the most important ones here.\n",
        "\n",
        "The simplest operation is to add two tensors:"
      ]
    },
    {
      "cell_type": "code",
      "execution_count": 11,
      "id": "fca47eaf",
      "metadata": {
        "execution": {
          "iopub.execute_input": "2022-05-12T11:44:43.332059Z",
          "iopub.status.busy": "2022-05-12T11:44:43.331589Z",
          "iopub.status.idle": "2022-05-12T11:44:43.338013Z",
          "shell.execute_reply": "2022-05-12T11:44:43.337379Z"
        },
        "papermill": {
          "duration": 0.022745,
          "end_time": "2022-05-12T11:44:43.339453",
          "exception": false,
          "start_time": "2022-05-12T11:44:43.316708",
          "status": "completed"
        },
        "tags": [],
        "id": "fca47eaf",
        "outputId": "20e21529-7968-4ca8-868e-667ec3e79dd9",
        "colab": {
          "base_uri": "https://localhost:8080/"
        }
      },
      "outputs": [
        {
          "output_type": "stream",
          "name": "stdout",
          "text": [
            "X1 tensor([[0.1053, 0.2695, 0.3588],\n",
            "        [0.1994, 0.5472, 0.0062]])\n",
            "X2 tensor([[0.9516, 0.0753, 0.8860],\n",
            "        [0.5832, 0.3376, 0.8090]])\n",
            "Y tensor([[1.0569, 0.3448, 1.2448],\n",
            "        [0.7826, 0.8848, 0.8151]])\n"
          ]
        }
      ],
      "source": [
        "x1 = torch.rand(2, 3)\n",
        "x2 = torch.rand(2, 3)\n",
        "y = x1 + x2\n",
        "\n",
        "print(\"X1\", x1)\n",
        "print(\"X2\", x2)\n",
        "print(\"Y\", y)"
      ]
    },
    {
      "cell_type": "markdown",
      "id": "eb46a086",
      "metadata": {
        "papermill": {
          "duration": 0.013609,
          "end_time": "2022-05-12T11:44:43.366661",
          "exception": false,
          "start_time": "2022-05-12T11:44:43.353052",
          "status": "completed"
        },
        "tags": [],
        "id": "eb46a086"
      },
      "source": [
        "Calling `x1 + x2` creates a new tensor containing the sum of the two inputs.\n",
        "However, we can also use in-place operations that are applied directly on the memory of a tensor.\n",
        "We therefore change the values of `x2` without the chance to re-accessing the values of `x2` before the operation.\n",
        "An example is shown below:"
      ]
    },
    {
      "cell_type": "code",
      "execution_count": 12,
      "id": "8496e562",
      "metadata": {
        "execution": {
          "iopub.execute_input": "2022-05-12T11:44:43.396084Z",
          "iopub.status.busy": "2022-05-12T11:44:43.395539Z",
          "iopub.status.idle": "2022-05-12T11:44:43.401342Z",
          "shell.execute_reply": "2022-05-12T11:44:43.400742Z"
        },
        "papermill": {
          "duration": 0.022114,
          "end_time": "2022-05-12T11:44:43.402788",
          "exception": false,
          "start_time": "2022-05-12T11:44:43.380674",
          "status": "completed"
        },
        "tags": [],
        "id": "8496e562",
        "outputId": "ee919ea1-a78e-41ad-a3b7-e757dd0a62d7",
        "colab": {
          "base_uri": "https://localhost:8080/"
        }
      },
      "outputs": [
        {
          "output_type": "stream",
          "name": "stdout",
          "text": [
            "X1 (before) tensor([[0.5779, 0.9040, 0.5547],\n",
            "        [0.3423, 0.6343, 0.3644]])\n",
            "X2 (before) tensor([[0.7104, 0.9464, 0.7890],\n",
            "        [0.2814, 0.7886, 0.5895]])\n",
            "X1 (after) tensor([[0.5779, 0.9040, 0.5547],\n",
            "        [0.3423, 0.6343, 0.3644]])\n",
            "X2 (after) tensor([[1.2884, 1.8504, 1.3437],\n",
            "        [0.6237, 1.4230, 0.9539]])\n"
          ]
        }
      ],
      "source": [
        "x1 = torch.rand(2, 3)\n",
        "x2 = torch.rand(2, 3)\n",
        "print(\"X1 (before)\", x1)\n",
        "print(\"X2 (before)\", x2)\n",
        "\n",
        "x2.add_(x1)\n",
        "print(\"X1 (after)\", x1)\n",
        "print(\"X2 (after)\", x2)"
      ]
    },
    {
      "cell_type": "markdown",
      "id": "4f5f0f56",
      "metadata": {
        "papermill": {
          "duration": 0.013919,
          "end_time": "2022-05-12T11:44:43.431216",
          "exception": false,
          "start_time": "2022-05-12T11:44:43.417297",
          "status": "completed"
        },
        "tags": [],
        "id": "4f5f0f56"
      },
      "source": [
        "In-place operations are usually marked with a underscore postfix (e.g. \"add_\" instead of \"add\").\n",
        "\n",
        "Another common operation aims at changing the shape of a tensor.\n",
        "A tensor of size (2,3) can be re-organized to any other shape with the same number of elements (e.g. a tensor of size (6), or (3,2), ...).\n",
        "In PyTorch, this operation is called `view`:"
      ]
    },
    {
      "cell_type": "code",
      "execution_count": 13,
      "id": "9b3ac08b",
      "metadata": {
        "execution": {
          "iopub.execute_input": "2022-05-12T11:44:43.460577Z",
          "iopub.status.busy": "2022-05-12T11:44:43.460120Z",
          "iopub.status.idle": "2022-05-12T11:44:43.464918Z",
          "shell.execute_reply": "2022-05-12T11:44:43.464266Z"
        },
        "papermill": {
          "duration": 0.02132,
          "end_time": "2022-05-12T11:44:43.466401",
          "exception": false,
          "start_time": "2022-05-12T11:44:43.445081",
          "status": "completed"
        },
        "tags": [],
        "id": "9b3ac08b",
        "outputId": "3489f210-106c-4d92-a84b-88facd255543",
        "colab": {
          "base_uri": "https://localhost:8080/"
        }
      },
      "outputs": [
        {
          "output_type": "stream",
          "name": "stdout",
          "text": [
            "X tensor([0, 1, 2, 3, 4, 5])\n"
          ]
        }
      ],
      "source": [
        "x = torch.arange(6)\n",
        "print(\"X\", x)"
      ]
    },
    {
      "cell_type": "code",
      "execution_count": 14,
      "id": "2173c9df",
      "metadata": {
        "execution": {
          "iopub.execute_input": "2022-05-12T11:44:43.495922Z",
          "iopub.status.busy": "2022-05-12T11:44:43.495226Z",
          "iopub.status.idle": "2022-05-12T11:44:43.499475Z",
          "shell.execute_reply": "2022-05-12T11:44:43.498878Z"
        },
        "papermill": {
          "duration": 0.020745,
          "end_time": "2022-05-12T11:44:43.500948",
          "exception": false,
          "start_time": "2022-05-12T11:44:43.480203",
          "status": "completed"
        },
        "tags": [],
        "id": "2173c9df",
        "outputId": "54414d28-35d8-4abe-cd86-6cccaed97b11",
        "colab": {
          "base_uri": "https://localhost:8080/"
        }
      },
      "outputs": [
        {
          "output_type": "stream",
          "name": "stdout",
          "text": [
            "X tensor([[0, 1, 2],\n",
            "        [3, 4, 5]])\n"
          ]
        }
      ],
      "source": [
        "x = x.view(2, 3)\n",
        "print(\"X\", x)"
      ]
    },
    {
      "cell_type": "code",
      "execution_count": 15,
      "id": "caaa18cd",
      "metadata": {
        "execution": {
          "iopub.execute_input": "2022-05-12T11:44:43.532678Z",
          "iopub.status.busy": "2022-05-12T11:44:43.532245Z",
          "iopub.status.idle": "2022-05-12T11:44:43.536940Z",
          "shell.execute_reply": "2022-05-12T11:44:43.536322Z"
        },
        "papermill": {
          "duration": 0.022162,
          "end_time": "2022-05-12T11:44:43.538426",
          "exception": false,
          "start_time": "2022-05-12T11:44:43.516264",
          "status": "completed"
        },
        "tags": [],
        "id": "caaa18cd",
        "outputId": "d4393e5a-1cf0-44f7-82b8-c713a5d2714d",
        "colab": {
          "base_uri": "https://localhost:8080/"
        }
      },
      "outputs": [
        {
          "output_type": "stream",
          "name": "stdout",
          "text": [
            "X tensor([[0, 3],\n",
            "        [1, 4],\n",
            "        [2, 5]])\n"
          ]
        }
      ],
      "source": [
        "x = x.permute(1, 0)  # Swapping dimension 0 and 1\n",
        "print(\"X\", x)"
      ]
    },
    {
      "cell_type": "markdown",
      "id": "17a00cb6",
      "metadata": {
        "papermill": {
          "duration": 0.013934,
          "end_time": "2022-05-12T11:44:43.567241",
          "exception": false,
          "start_time": "2022-05-12T11:44:43.553307",
          "status": "completed"
        },
        "tags": [],
        "id": "17a00cb6"
      },
      "source": [
        "Other commonly used operations include matrix multiplications, which are essential for neural networks.\n",
        "Quite often, we have an input vector $\\mathbf{x}$, which is transformed using a learned weight matrix $\\mathbf{W}$.\n",
        "There are multiple ways and functions to perform matrix multiplication, some of which we list below:\n",
        "\n",
        "* `torch.matmul`: Performs the matrix product over two tensors, where the specific behavior depends on the dimensions.\n",
        "If both inputs are matrices (2-dimensional tensors), it performs the standard matrix product.\n",
        "For higher dimensional inputs, the function supports broadcasting (for details see the [documentation](https://pytorch.org/docs/stable/generated/torch.matmul.html?highlight=matmul#torch.matmul)).\n",
        "Can also be written as `a @ b`, similar to numpy.\n",
        "* `torch.mm`: Performs the matrix product over two matrices, but doesn't support broadcasting (see [documentation](https://pytorch.org/docs/stable/generated/torch.mm.html?highlight=torch%20mm#torch.mm))\n",
        "* `torch.bmm`: Performs the matrix product with a support batch dimension.\n",
        "If the first tensor $T$ is of shape ($b\\times n\\times m$), and the second tensor $R$ ($b\\times m\\times p$), the output $O$ is of shape ($b\\times n\\times p$), and has been calculated by performing $b$ matrix multiplications of the submatrices of $T$ and $R$: $O_i = T_i @ R_i$\n",
        "* `torch.einsum`: Performs matrix multiplications and more (i.e. sums of products) using the Einstein summation convention.\n",
        "Explanation of the Einstein sum can be found in assignment 1.\n",
        "\n",
        "Usually, we use `torch.matmul` or `torch.bmm`. We can try a matrix multiplication with `torch.matmul` below."
      ]
    },
    {
      "cell_type": "code",
      "execution_count": 16,
      "id": "bf796dd8",
      "metadata": {
        "execution": {
          "iopub.execute_input": "2022-05-12T11:44:43.597623Z",
          "iopub.status.busy": "2022-05-12T11:44:43.596975Z",
          "iopub.status.idle": "2022-05-12T11:44:43.601290Z",
          "shell.execute_reply": "2022-05-12T11:44:43.600686Z"
        },
        "papermill": {
          "duration": 0.021306,
          "end_time": "2022-05-12T11:44:43.602763",
          "exception": false,
          "start_time": "2022-05-12T11:44:43.581457",
          "status": "completed"
        },
        "tags": [],
        "id": "bf796dd8",
        "outputId": "73996651-d55a-44d8-8e35-57c64e7ccd6b",
        "colab": {
          "base_uri": "https://localhost:8080/"
        }
      },
      "outputs": [
        {
          "output_type": "stream",
          "name": "stdout",
          "text": [
            "X tensor([[0, 1, 2],\n",
            "        [3, 4, 5]])\n"
          ]
        }
      ],
      "source": [
        "x = torch.arange(6)\n",
        "x = x.view(2, 3)\n",
        "print(\"X\", x)"
      ]
    },
    {
      "cell_type": "code",
      "execution_count": 17,
      "id": "4a3c5860",
      "metadata": {
        "execution": {
          "iopub.execute_input": "2022-05-12T11:44:43.633059Z",
          "iopub.status.busy": "2022-05-12T11:44:43.632454Z",
          "iopub.status.idle": "2022-05-12T11:44:43.636641Z",
          "shell.execute_reply": "2022-05-12T11:44:43.636038Z"
        },
        "papermill": {
          "duration": 0.02075,
          "end_time": "2022-05-12T11:44:43.638108",
          "exception": false,
          "start_time": "2022-05-12T11:44:43.617358",
          "status": "completed"
        },
        "tags": [],
        "id": "4a3c5860",
        "outputId": "339a8fcc-d7af-4348-92b5-9f287ca47b57",
        "colab": {
          "base_uri": "https://localhost:8080/"
        }
      },
      "outputs": [
        {
          "output_type": "stream",
          "name": "stdout",
          "text": [
            "W tensor([[0, 1, 2],\n",
            "        [3, 4, 5],\n",
            "        [6, 7, 8]])\n"
          ]
        }
      ],
      "source": [
        "W = torch.arange(9).view(3, 3)  # We can also stack multiple operations in a single line\n",
        "print(\"W\", W)"
      ]
    },
    {
      "cell_type": "code",
      "execution_count": 18,
      "id": "57d7a44e",
      "metadata": {
        "execution": {
          "iopub.execute_input": "2022-05-12T11:44:43.667560Z",
          "iopub.status.busy": "2022-05-12T11:44:43.666897Z",
          "iopub.status.idle": "2022-05-12T11:44:43.671035Z",
          "shell.execute_reply": "2022-05-12T11:44:43.670402Z"
        },
        "papermill": {
          "duration": 0.020378,
          "end_time": "2022-05-12T11:44:43.672489",
          "exception": false,
          "start_time": "2022-05-12T11:44:43.652111",
          "status": "completed"
        },
        "tags": [],
        "id": "57d7a44e",
        "outputId": "c0b11884-b6b1-4986-b79e-2a2c6ccdbe19",
        "colab": {
          "base_uri": "https://localhost:8080/"
        }
      },
      "outputs": [
        {
          "output_type": "stream",
          "name": "stdout",
          "text": [
            "h tensor([[15, 18, 21],\n",
            "        [42, 54, 66]])\n"
          ]
        }
      ],
      "source": [
        "h = torch.matmul(x, W)  # Verify the result by calculating it by hand too!\n",
        "print(\"h\", h)"
      ]
    },
    {
      "cell_type": "markdown",
      "id": "2c4e5903",
      "metadata": {
        "papermill": {
          "duration": 0.015597,
          "end_time": "2022-05-12T11:44:43.702284",
          "exception": false,
          "start_time": "2022-05-12T11:44:43.686687",
          "status": "completed"
        },
        "tags": [],
        "id": "2c4e5903"
      },
      "source": [
        "#### Indexing\n",
        "\n",
        "We often have the situation where we need to select a part of a tensor.\n",
        "Indexing works just like in numpy, so let's try it:"
      ]
    },
    {
      "cell_type": "code",
      "execution_count": 19,
      "id": "18f66333",
      "metadata": {
        "execution": {
          "iopub.execute_input": "2022-05-12T11:44:43.738600Z",
          "iopub.status.busy": "2022-05-12T11:44:43.738130Z",
          "iopub.status.idle": "2022-05-12T11:44:43.743026Z",
          "shell.execute_reply": "2022-05-12T11:44:43.742313Z"
        },
        "papermill": {
          "duration": 0.026422,
          "end_time": "2022-05-12T11:44:43.744557",
          "exception": false,
          "start_time": "2022-05-12T11:44:43.718135",
          "status": "completed"
        },
        "tags": [],
        "id": "18f66333",
        "outputId": "aa3e21d2-998a-46c9-d3b8-9933880ae0fd",
        "colab": {
          "base_uri": "https://localhost:8080/"
        }
      },
      "outputs": [
        {
          "output_type": "stream",
          "name": "stdout",
          "text": [
            "X tensor([[ 0,  1,  2,  3],\n",
            "        [ 4,  5,  6,  7],\n",
            "        [ 8,  9, 10, 11]])\n"
          ]
        }
      ],
      "source": [
        "x = torch.arange(12).view(3, 4)\n",
        "print(\"X\", x)"
      ]
    },
    {
      "cell_type": "code",
      "execution_count": 20,
      "id": "9362fd98",
      "metadata": {
        "execution": {
          "iopub.execute_input": "2022-05-12T11:44:43.779615Z",
          "iopub.status.busy": "2022-05-12T11:44:43.779145Z",
          "iopub.status.idle": "2022-05-12T11:44:43.784104Z",
          "shell.execute_reply": "2022-05-12T11:44:43.783420Z"
        },
        "papermill": {
          "duration": 0.024702,
          "end_time": "2022-05-12T11:44:43.785719",
          "exception": false,
          "start_time": "2022-05-12T11:44:43.761017",
          "status": "completed"
        },
        "tags": [],
        "id": "9362fd98",
        "outputId": "9dd70682-021a-424c-afd4-a0bad8369a9a",
        "colab": {
          "base_uri": "https://localhost:8080/"
        }
      },
      "outputs": [
        {
          "output_type": "stream",
          "name": "stdout",
          "text": [
            "tensor([1, 5, 9])\n"
          ]
        }
      ],
      "source": [
        "print(x[:, 1])  # Second column"
      ]
    },
    {
      "cell_type": "code",
      "execution_count": 21,
      "id": "80f1b1d7",
      "metadata": {
        "execution": {
          "iopub.execute_input": "2022-05-12T11:44:43.822416Z",
          "iopub.status.busy": "2022-05-12T11:44:43.821938Z",
          "iopub.status.idle": "2022-05-12T11:44:43.826643Z",
          "shell.execute_reply": "2022-05-12T11:44:43.825945Z"
        },
        "papermill": {
          "duration": 0.025265,
          "end_time": "2022-05-12T11:44:43.828237",
          "exception": false,
          "start_time": "2022-05-12T11:44:43.802972",
          "status": "completed"
        },
        "tags": [],
        "id": "80f1b1d7",
        "outputId": "fe589b7a-baa5-4742-b12b-8c44b6caa911",
        "colab": {
          "base_uri": "https://localhost:8080/"
        }
      },
      "outputs": [
        {
          "output_type": "stream",
          "name": "stdout",
          "text": [
            "tensor([0, 1, 2, 3])\n"
          ]
        }
      ],
      "source": [
        "print(x[0])  # First row"
      ]
    },
    {
      "cell_type": "code",
      "execution_count": 22,
      "id": "20db07b5",
      "metadata": {
        "execution": {
          "iopub.execute_input": "2022-05-12T11:44:43.862122Z",
          "iopub.status.busy": "2022-05-12T11:44:43.861614Z",
          "iopub.status.idle": "2022-05-12T11:44:43.866678Z",
          "shell.execute_reply": "2022-05-12T11:44:43.865756Z"
        },
        "papermill": {
          "duration": 0.024299,
          "end_time": "2022-05-12T11:44:43.868250",
          "exception": false,
          "start_time": "2022-05-12T11:44:43.843951",
          "status": "completed"
        },
        "tags": [],
        "id": "20db07b5",
        "outputId": "50548a1c-8f97-478d-ae12-bbf88d2bc11b",
        "colab": {
          "base_uri": "https://localhost:8080/"
        }
      },
      "outputs": [
        {
          "output_type": "stream",
          "name": "stdout",
          "text": [
            "tensor([3, 7])\n"
          ]
        }
      ],
      "source": [
        "print(x[:2, -1])  # First two rows, last column"
      ]
    },
    {
      "cell_type": "code",
      "execution_count": 23,
      "id": "8a62424a",
      "metadata": {
        "execution": {
          "iopub.execute_input": "2022-05-12T11:44:43.902294Z",
          "iopub.status.busy": "2022-05-12T11:44:43.901812Z",
          "iopub.status.idle": "2022-05-12T11:44:43.906694Z",
          "shell.execute_reply": "2022-05-12T11:44:43.905919Z"
        },
        "papermill": {
          "duration": 0.024362,
          "end_time": "2022-05-12T11:44:43.908338",
          "exception": false,
          "start_time": "2022-05-12T11:44:43.883976",
          "status": "completed"
        },
        "tags": [],
        "id": "8a62424a",
        "outputId": "063733ea-9b1b-476f-ab76-121b4f643cc9",
        "colab": {
          "base_uri": "https://localhost:8080/"
        }
      },
      "outputs": [
        {
          "output_type": "stream",
          "name": "stdout",
          "text": [
            "tensor([[ 4,  5,  6,  7],\n",
            "        [ 8,  9, 10, 11]])\n"
          ]
        }
      ],
      "source": [
        "print(x[1:3, :])  # Middle two rows"
      ]
    },
    {
      "cell_type": "markdown",
      "id": "f40fbcaf",
      "metadata": {
        "papermill": {
          "duration": 0.016539,
          "end_time": "2022-05-12T11:44:43.941488",
          "exception": false,
          "start_time": "2022-05-12T11:44:43.924949",
          "status": "completed"
        },
        "tags": [],
        "id": "f40fbcaf"
      },
      "source": [
        "### Dynamic Computation Graph and Backpropagation\n",
        "\n",
        "One of the main reasons for using PyTorch in Deep Learning projects is that we can automatically get **gradients/derivatives** of functions that we define.\n",
        "We will mainly use PyTorch for implementing neural networks, and they are just fancy functions.\n",
        "If we use weight matrices in our function that we want to learn, then those are called the **parameters** or simply the **weights**.\n",
        "\n",
        "If our neural network would output a single scalar value, we would talk about taking the **derivative**, but you will see that quite often we will have **multiple** output variables (\"values\"); in that case we talk about **gradients**.\n",
        "It's a more general term.\n",
        "\n",
        "Given an input $\\mathbf{x}$, we define our function by **manipulating** that input, usually by matrix-multiplications with weight matrices and additions with so-called bias vectors.\n",
        "As we manipulate our input, we are automatically creating a **computational graph**.\n",
        "This graph shows how to arrive at our output from our input.\n",
        "PyTorch is a **define-by-run** framework; this means that we can just do our manipulations, and PyTorch will keep track of that graph for us.\n",
        "Thus, we create a dynamic computation graph along the way.\n",
        "\n",
        "So, to recap: the only thing we have to do is to compute the **output**, and then we can ask PyTorch to automatically get the **gradients**.\n",
        "\n",
        "> **Note:  Why do we want gradients?\n",
        "** Consider that we have defined a function, a neural net, that is supposed to compute a certain output $y$ for an input vector $\\mathbf{x}$.\n",
        "We then define an **error measure** that tells us how wrong our network is; how bad it is in predicting output $y$ from input $\\mathbf{x}$.\n",
        "Based on this error measure, we can use the gradients to **update** the weights $\\mathbf{W}$ that were responsible for the output, so that the next time we present input $\\mathbf{x}$ to our network, the output will be closer to what we want.\n",
        "\n",
        "The first thing we have to do is to specify which tensors require gradients.\n",
        "By default, when we create a tensor, it does not require gradients."
      ]
    },
    {
      "cell_type": "code",
      "execution_count": 24,
      "id": "dd88cfab",
      "metadata": {
        "execution": {
          "iopub.execute_input": "2022-05-12T11:44:43.976222Z",
          "iopub.status.busy": "2022-05-12T11:44:43.975387Z",
          "iopub.status.idle": "2022-05-12T11:44:43.980297Z",
          "shell.execute_reply": "2022-05-12T11:44:43.979620Z"
        },
        "papermill": {
          "duration": 0.023995,
          "end_time": "2022-05-12T11:44:43.981820",
          "exception": false,
          "start_time": "2022-05-12T11:44:43.957825",
          "status": "completed"
        },
        "tags": [],
        "id": "dd88cfab",
        "outputId": "213902f7-d05a-461b-8c7e-4064a5bbba19",
        "colab": {
          "base_uri": "https://localhost:8080/"
        }
      },
      "outputs": [
        {
          "output_type": "stream",
          "name": "stdout",
          "text": [
            "False\n"
          ]
        }
      ],
      "source": [
        "x = torch.ones((3,))\n",
        "print(x.requires_grad)"
      ]
    },
    {
      "cell_type": "markdown",
      "id": "74ee330b",
      "metadata": {
        "papermill": {
          "duration": 0.01619,
          "end_time": "2022-05-12T11:44:44.014287",
          "exception": false,
          "start_time": "2022-05-12T11:44:43.998097",
          "status": "completed"
        },
        "tags": [],
        "id": "74ee330b"
      },
      "source": [
        "We can change this for an existing tensor using the function `requires_grad_()` (underscore indicating that this is a in-place operation).\n",
        "Alternatively, when creating a tensor, you can pass the argument\n",
        "`requires_grad=True` to most initializers we have seen above."
      ]
    },
    {
      "cell_type": "code",
      "execution_count": 25,
      "id": "9d41429e",
      "metadata": {
        "execution": {
          "iopub.execute_input": "2022-05-12T11:44:44.048210Z",
          "iopub.status.busy": "2022-05-12T11:44:44.047474Z",
          "iopub.status.idle": "2022-05-12T11:44:44.051628Z",
          "shell.execute_reply": "2022-05-12T11:44:44.051028Z"
        },
        "papermill": {
          "duration": 0.022814,
          "end_time": "2022-05-12T11:44:44.053080",
          "exception": false,
          "start_time": "2022-05-12T11:44:44.030266",
          "status": "completed"
        },
        "tags": [],
        "id": "9d41429e",
        "outputId": "2c7d1e17-a2ac-4e3d-9d3b-a266bfe0c22d",
        "colab": {
          "base_uri": "https://localhost:8080/"
        }
      },
      "outputs": [
        {
          "output_type": "stream",
          "name": "stdout",
          "text": [
            "True\n"
          ]
        }
      ],
      "source": [
        "x.requires_grad_(True)\n",
        "print(x.requires_grad)"
      ]
    },
    {
      "cell_type": "markdown",
      "id": "1606e7cf",
      "metadata": {
        "papermill": {
          "duration": 0.01569,
          "end_time": "2022-05-12T11:44:44.085749",
          "exception": false,
          "start_time": "2022-05-12T11:44:44.070059",
          "status": "completed"
        },
        "tags": [],
        "id": "1606e7cf"
      },
      "source": [
        "In order to get familiar with the concept of a computation graph, we will create one for the following function:\n",
        "\n",
        "$$y = \\frac{1}{|x|}\\sum_i \\left[(x_i + 2)^2 + 3\\right]$$\n",
        "\n",
        "You could imagine that $x$ are our parameters, and we want to optimize (either maximize or minimize) the output $y$.\n",
        "For this, we want to obtain the gradients $\\partial y / \\partial \\mathbf{x}$.\n",
        "For our example, we'll use $\\mathbf{x}=[0,1,2]$ as our input."
      ]
    },
    {
      "cell_type": "code",
      "execution_count": 26,
      "id": "adeab680",
      "metadata": {
        "execution": {
          "iopub.execute_input": "2022-05-12T11:44:44.119279Z",
          "iopub.status.busy": "2022-05-12T11:44:44.118813Z",
          "iopub.status.idle": "2022-05-12T11:44:44.123920Z",
          "shell.execute_reply": "2022-05-12T11:44:44.123288Z"
        },
        "papermill": {
          "duration": 0.024177,
          "end_time": "2022-05-12T11:44:44.125380",
          "exception": false,
          "start_time": "2022-05-12T11:44:44.101203",
          "status": "completed"
        },
        "tags": [],
        "id": "adeab680",
        "outputId": "bd0f62d7-e07c-430a-a9cd-3ecad3b492d9",
        "colab": {
          "base_uri": "https://localhost:8080/"
        }
      },
      "outputs": [
        {
          "output_type": "stream",
          "name": "stdout",
          "text": [
            "X tensor([0., 1., 2.], requires_grad=True)\n"
          ]
        }
      ],
      "source": [
        "x = torch.arange(3, dtype=torch.float32, requires_grad=True)  # Only float tensors can have gradients\n",
        "print(\"X\", x)"
      ]
    },
    {
      "cell_type": "markdown",
      "id": "296441b8",
      "metadata": {
        "papermill": {
          "duration": 0.016221,
          "end_time": "2022-05-12T11:44:44.157486",
          "exception": false,
          "start_time": "2022-05-12T11:44:44.141265",
          "status": "completed"
        },
        "tags": [],
        "id": "296441b8"
      },
      "source": [
        "Now let's build the computation graph step by step.\n",
        "You can combine multiple operations in a single line, but we will\n",
        "separate them here to get a better understanding of how each operation\n",
        "is added to the computation graph."
      ]
    },
    {
      "cell_type": "code",
      "execution_count": 27,
      "id": "4168dae9",
      "metadata": {
        "execution": {
          "iopub.execute_input": "2022-05-12T11:44:44.190122Z",
          "iopub.status.busy": "2022-05-12T11:44:44.189636Z",
          "iopub.status.idle": "2022-05-12T11:44:44.195332Z",
          "shell.execute_reply": "2022-05-12T11:44:44.194690Z"
        },
        "papermill": {
          "duration": 0.023786,
          "end_time": "2022-05-12T11:44:44.196788",
          "exception": false,
          "start_time": "2022-05-12T11:44:44.173002",
          "status": "completed"
        },
        "tags": [],
        "id": "4168dae9",
        "outputId": "cc09a070-7bc4-48b0-975c-c3eb028ee4f0",
        "colab": {
          "base_uri": "https://localhost:8080/"
        }
      },
      "outputs": [
        {
          "output_type": "stream",
          "name": "stdout",
          "text": [
            "Y tensor(12.6667, grad_fn=<MeanBackward0>)\n"
          ]
        }
      ],
      "source": [
        "a = x + 2\n",
        "b = a**2\n",
        "c = b + 3\n",
        "y = c.mean()\n",
        "print(\"Y\", y)"
      ]
    },
    {
      "cell_type": "markdown",
      "id": "2dfedf84",
      "metadata": {
        "papermill": {
          "duration": 0.014832,
          "end_time": "2022-05-12T11:44:44.227271",
          "exception": false,
          "start_time": "2022-05-12T11:44:44.212439",
          "status": "completed"
        },
        "tags": [],
        "id": "2dfedf84"
      },
      "source": [
        "Using the statements above, we have created a computation graph that looks similar to the figure below:\n",
        "\n",
        "<center style=\"width: 100%\"><img src=\"https://github.com/PyTorchLightning/lightning-tutorials/raw/main/course_UvA-DL/01-introduction-to-pytorch/pytorch_computation_graph.svg\" width=\"200px\"></center>\n",
        "\n",
        "We calculate $a$ based on the inputs $x$ and the constant $2$, $b$ is $a$ squared, and so on.\n",
        "The visualization is an abstraction of the dependencies between inputs and outputs of the operations we have applied.\n",
        "Each node of the computation graph has automatically defined a function for calculating the gradients with respect to its inputs, `grad_fn`.\n",
        "You can see this when we printed the output tensor $y$.\n",
        "This is why the computation graph is usually visualized in the reverse direction (arrows point from the result to the inputs).\n",
        "We can perform backpropagation on the computation graph by calling the\n",
        "function `backward()` on the last output, which effectively calculates\n",
        "the gradients for each tensor that has the property\n",
        "`requires_grad=True`:"
      ]
    },
    {
      "cell_type": "code",
      "execution_count": 28,
      "id": "ea065b9c",
      "metadata": {
        "execution": {
          "iopub.execute_input": "2022-05-12T11:44:44.259558Z",
          "iopub.status.busy": "2022-05-12T11:44:44.258818Z",
          "iopub.status.idle": "2022-05-12T11:44:44.486699Z",
          "shell.execute_reply": "2022-05-12T11:44:44.485840Z"
        },
        "papermill": {
          "duration": 0.246256,
          "end_time": "2022-05-12T11:44:44.488899",
          "exception": false,
          "start_time": "2022-05-12T11:44:44.242643",
          "status": "completed"
        },
        "tags": [],
        "id": "ea065b9c"
      },
      "outputs": [],
      "source": [
        "y.backward()"
      ]
    },
    {
      "cell_type": "markdown",
      "id": "f781096d",
      "metadata": {
        "papermill": {
          "duration": 0.016452,
          "end_time": "2022-05-12T11:44:44.521994",
          "exception": false,
          "start_time": "2022-05-12T11:44:44.505542",
          "status": "completed"
        },
        "tags": [],
        "id": "f781096d"
      },
      "source": [
        "`x.grad` will now contain the gradient $\\partial y/ \\partial \\mathcal{x}$, and this gradient indicates how a change in $\\mathbf{x}$ will affect output $y$ given the current input $\\mathbf{x}=[0,1,2]$:"
      ]
    },
    {
      "cell_type": "code",
      "execution_count": 29,
      "id": "ec71974f",
      "metadata": {
        "execution": {
          "iopub.execute_input": "2022-05-12T11:44:44.554342Z",
          "iopub.status.busy": "2022-05-12T11:44:44.553873Z",
          "iopub.status.idle": "2022-05-12T11:44:44.558586Z",
          "shell.execute_reply": "2022-05-12T11:44:44.557949Z"
        },
        "papermill": {
          "duration": 0.023002,
          "end_time": "2022-05-12T11:44:44.560048",
          "exception": false,
          "start_time": "2022-05-12T11:44:44.537046",
          "status": "completed"
        },
        "tags": [],
        "id": "ec71974f",
        "outputId": "82c7647f-c34a-4131-eb5b-6fe851573972",
        "colab": {
          "base_uri": "https://localhost:8080/"
        }
      },
      "outputs": [
        {
          "output_type": "stream",
          "name": "stdout",
          "text": [
            "tensor([1.3333, 2.0000, 2.6667])\n"
          ]
        }
      ],
      "source": [
        "print(x.grad)"
      ]
    },
    {
      "cell_type": "markdown",
      "id": "2ec556f7",
      "metadata": {
        "papermill": {
          "duration": 0.014871,
          "end_time": "2022-05-12T11:44:44.590264",
          "exception": false,
          "start_time": "2022-05-12T11:44:44.575393",
          "status": "completed"
        },
        "tags": [],
        "id": "2ec556f7"
      },
      "source": [
        "We can also verify these gradients by hand.\n",
        "We will calculate the gradients using the chain rule, in the same way as PyTorch did it:\n",
        "\n",
        "$$\\frac{\\partial y}{\\partial x_i} = \\frac{\\partial y}{\\partial c_i}\\frac{\\partial c_i}{\\partial b_i}\\frac{\\partial b_i}{\\partial a_i}\\frac{\\partial a_i}{\\partial x_i}$$\n",
        "\n",
        "Note that we have simplified this equation to index notation, and by using the fact that all operation besides the mean do not combine the elements in the tensor.\n",
        "The partial derivatives are:\n",
        "\n",
        "$$\n",
        "\\frac{\\partial a_i}{\\partial x_i} = 1,\\hspace{1cm}\n",
        "\\frac{\\partial b_i}{\\partial a_i} = 2\\cdot a_i\\hspace{1cm}\n",
        "\\frac{\\partial c_i}{\\partial b_i} = 1\\hspace{1cm}\n",
        "\\frac{\\partial y}{\\partial c_i} = \\frac{1}{3}\n",
        "$$\n",
        "\n",
        "Hence, with the input being $\\mathbf{x}=[0,1,2]$, our gradients are $\\partial y/\\partial \\mathbf{x}=[4/3,2,8/3]$.\n",
        "The previous code cell should have printed the same result."
      ]
    },
    {
      "cell_type": "markdown",
      "id": "b892340e",
      "metadata": {
        "papermill": {
          "duration": 0.015493,
          "end_time": "2022-05-12T11:44:44.620504",
          "exception": false,
          "start_time": "2022-05-12T11:44:44.605011",
          "status": "completed"
        },
        "tags": [],
        "id": "b892340e"
      },
      "source": [
        "### GPU support\n",
        "\n",
        "A crucial feature of PyTorch is the support of GPUs, short for Graphics Processing Unit.\n",
        "A GPU can perform many thousands of small operations in parallel, making it very well suitable for performing large matrix operations in neural networks.\n",
        "When comparing GPUs to CPUs, we can list the following main differences (credit: [Kevin Krewell, 2009](https://blogs.nvidia.com/blog/2009/12/16/whats-the-difference-between-a-cpu-and-a-gpu/))\n",
        "\n",
        "<center style=\"width: 100%\"><img src=\"https://github.com/PyTorchLightning/lightning-tutorials/raw/main/course_UvA-DL/01-introduction-to-pytorch/comparison_CPU_GPU.png\" width=\"700px\"></center>\n",
        "\n",
        "CPUs and GPUs have both different advantages and disadvantages, which is why many computers contain both components and use them for different tasks.\n",
        "In case you are not familiar with GPUs, you can read up more details in this [NVIDIA blog post](https://blogs.nvidia.com/blog/2009/12/16/whats-the-difference-between-a-cpu-and-a-gpu/) or [here](https://www.intel.com/content/www/us/en/products/docs/processors/what-is-a-gpu.html).\n",
        "\n",
        "GPUs can accelerate the training of your network up to a factor of $100$ which is essential for large neural networks.\n",
        "PyTorch implements a lot of functionality for supporting GPUs (mostly those of NVIDIA due to the libraries [CUDA](https://developer.nvidia.com/cuda-zone) and [cuDNN](https://developer.nvidia.com/cudnn)).\n",
        "First, let's check whether you have a GPU available:"
      ]
    },
    {
      "cell_type": "code",
      "execution_count": 30,
      "id": "21ea39bf",
      "metadata": {
        "execution": {
          "iopub.execute_input": "2022-05-12T11:44:44.655135Z",
          "iopub.status.busy": "2022-05-12T11:44:44.654691Z",
          "iopub.status.idle": "2022-05-12T11:44:44.659136Z",
          "shell.execute_reply": "2022-05-12T11:44:44.658501Z"
        },
        "papermill": {
          "duration": 0.024744,
          "end_time": "2022-05-12T11:44:44.660738",
          "exception": false,
          "start_time": "2022-05-12T11:44:44.635994",
          "status": "completed"
        },
        "tags": [],
        "id": "21ea39bf",
        "outputId": "1b080de4-ceea-4814-ac2f-09dd2879e0d4",
        "colab": {
          "base_uri": "https://localhost:8080/"
        }
      },
      "outputs": [
        {
          "output_type": "stream",
          "name": "stdout",
          "text": [
            "Is the GPU available? False\n"
          ]
        }
      ],
      "source": [
        "gpu_avail = torch.cuda.is_available()\n",
        "print(f\"Is the GPU available? {gpu_avail}\")"
      ]
    },
    {
      "cell_type": "markdown",
      "id": "4a7c8317",
      "metadata": {
        "papermill": {
          "duration": 0.015413,
          "end_time": "2022-05-12T11:44:44.693248",
          "exception": false,
          "start_time": "2022-05-12T11:44:44.677835",
          "status": "completed"
        },
        "tags": [],
        "id": "4a7c8317"
      },
      "source": [
        "If you have a GPU on your computer but the command above returns False, make sure you have the correct CUDA-version installed.\n",
        "The `dl2020` environment comes with the CUDA-toolkit 10.1, which is selected for the Lisa supercomputer.\n",
        "Please change it if necessary (CUDA 10.2 is currently common).\n",
        "On Google Colab, make sure that you have selected a GPU in your runtime setup (in the menu, check under `Runtime -> Change runtime type`).\n",
        "\n",
        "By default, all tensors you create are stored on the CPU.\n",
        "We can push a tensor to the GPU by using the function `.to(...)`, or `.cuda()`.\n",
        "However, it is often a good practice to define a `device` object in your code which points to the GPU if you have one, and otherwise to the CPU.\n",
        "Then, you can write your code with respect to this device object, and it allows you to run the same code on both a CPU-only system, and one with a GPU.\n",
        "Let's try it below.\n",
        "We can specify the device as follows:"
      ]
    },
    {
      "cell_type": "code",
      "execution_count": 31,
      "id": "89563f5d",
      "metadata": {
        "execution": {
          "iopub.execute_input": "2022-05-12T11:44:44.725370Z",
          "iopub.status.busy": "2022-05-12T11:44:44.724934Z",
          "iopub.status.idle": "2022-05-12T11:44:44.729675Z",
          "shell.execute_reply": "2022-05-12T11:44:44.728986Z"
        },
        "papermill": {
          "duration": 0.022765,
          "end_time": "2022-05-12T11:44:44.731227",
          "exception": false,
          "start_time": "2022-05-12T11:44:44.708462",
          "status": "completed"
        },
        "tags": [],
        "id": "89563f5d",
        "outputId": "7eeaa384-d4f1-48b3-93a3-2cacdd616c89",
        "colab": {
          "base_uri": "https://localhost:8080/"
        }
      },
      "outputs": [
        {
          "output_type": "stream",
          "name": "stdout",
          "text": [
            "Device cpu\n"
          ]
        }
      ],
      "source": [
        "device = torch.device(\"cuda\") if torch.cuda.is_available() else torch.device(\"cpu\")\n",
        "print(\"Device\", device)"
      ]
    },
    {
      "cell_type": "markdown",
      "id": "0e4dd198",
      "metadata": {
        "papermill": {
          "duration": 0.015261,
          "end_time": "2022-05-12T11:44:44.761463",
          "exception": false,
          "start_time": "2022-05-12T11:44:44.746202",
          "status": "completed"
        },
        "tags": [],
        "id": "0e4dd198"
      },
      "source": [
        "Now let's create a tensor and push it to the device:"
      ]
    },
    {
      "cell_type": "code",
      "execution_count": 32,
      "id": "6cb1ce1a",
      "metadata": {
        "execution": {
          "iopub.execute_input": "2022-05-12T11:44:44.794538Z",
          "iopub.status.busy": "2022-05-12T11:44:44.793969Z",
          "iopub.status.idle": "2022-05-12T11:44:48.969704Z",
          "shell.execute_reply": "2022-05-12T11:44:48.968974Z"
        },
        "papermill": {
          "duration": 4.193858,
          "end_time": "2022-05-12T11:44:48.971327",
          "exception": false,
          "start_time": "2022-05-12T11:44:44.777469",
          "status": "completed"
        },
        "tags": [],
        "id": "6cb1ce1a",
        "outputId": "04b56127-cd49-4bf7-f248-8627c5fa02c6",
        "colab": {
          "base_uri": "https://localhost:8080/"
        }
      },
      "outputs": [
        {
          "output_type": "stream",
          "name": "stdout",
          "text": [
            "X tensor([[0., 0., 0.],\n",
            "        [0., 0., 0.]])\n"
          ]
        }
      ],
      "source": [
        "x = torch.zeros(2, 3)\n",
        "x = x.to(device)\n",
        "print(\"X\", x)"
      ]
    },
    {
      "cell_type": "markdown",
      "id": "1705debc",
      "metadata": {
        "papermill": {
          "duration": 0.015673,
          "end_time": "2022-05-12T11:44:49.004062",
          "exception": false,
          "start_time": "2022-05-12T11:44:48.988389",
          "status": "completed"
        },
        "tags": [],
        "id": "1705debc"
      },
      "source": [
        "In case you have a GPU, you should now see the attribute `device='cuda:0'` being printed next to your tensor.\n",
        "The zero next to cuda indicates that this is the zero-th GPU device on your computer.\n",
        "PyTorch also supports multi-GPU systems, but this you will only need once you have very big networks to train (if interested, see the [PyTorch documentation](https://pytorch.org/docs/stable/distributed.html#distributed-basics)).\n",
        "We can also compare the runtime of a large matrix multiplication on the CPU with a operation on the GPU:"
      ]
    },
    {
      "cell_type": "code",
      "execution_count": 33,
      "id": "172211b0",
      "metadata": {
        "execution": {
          "iopub.execute_input": "2022-05-12T11:44:49.037810Z",
          "iopub.status.busy": "2022-05-12T11:44:49.037170Z",
          "iopub.status.idle": "2022-05-12T11:44:49.553368Z",
          "shell.execute_reply": "2022-05-12T11:44:49.552617Z"
        },
        "papermill": {
          "duration": 0.535227,
          "end_time": "2022-05-12T11:44:49.554964",
          "exception": false,
          "start_time": "2022-05-12T11:44:49.019737",
          "status": "completed"
        },
        "tags": [],
        "id": "172211b0",
        "outputId": "3f43efac-3195-40bf-92d1-880573371e09",
        "colab": {
          "base_uri": "https://localhost:8080/"
        }
      },
      "outputs": [
        {
          "output_type": "stream",
          "name": "stdout",
          "text": [
            "CPU time: 9.30638s\n"
          ]
        }
      ],
      "source": [
        "x = torch.randn(5000, 5000)\n",
        "\n",
        "# CPU version\n",
        "start_time = time.time()\n",
        "_ = torch.matmul(x, x)\n",
        "end_time = time.time()\n",
        "print(f\"CPU time: {(end_time - start_time):6.5f}s\")\n",
        "\n",
        "# GPU version\n",
        "if torch.cuda.is_available():\n",
        "    x = x.to(device)\n",
        "    # CUDA is asynchronous, so we need to use different timing functions\n",
        "    start = torch.cuda.Event(enable_timing=True)\n",
        "    end = torch.cuda.Event(enable_timing=True)\n",
        "    start.record()\n",
        "    _ = torch.matmul(x, x)\n",
        "    end.record()\n",
        "    torch.cuda.synchronize()  # Waits for everything to finish running on the GPU\n",
        "    print(f\"GPU time: {0.001 * start.elapsed_time(end):6.5f}s\")  # Milliseconds to seconds"
      ]
    },
    {
      "cell_type": "markdown",
      "id": "e4c10ef9",
      "metadata": {
        "papermill": {
          "duration": 0.015167,
          "end_time": "2022-05-12T11:44:49.586900",
          "exception": false,
          "start_time": "2022-05-12T11:44:49.571733",
          "status": "completed"
        },
        "tags": [],
        "id": "e4c10ef9"
      },
      "source": [
        "Depending on the size of the operation and the CPU/GPU in your system, the speedup of this operation can be >50x.\n",
        "As `matmul` operations are very common in neural networks, we can already see the great benefit of training a NN on a GPU.\n",
        "The time estimate can be relatively noisy here because we haven't run it for multiple times.\n",
        "Feel free to extend this, but it also takes longer to run.\n",
        "\n",
        "When generating random numbers, the seed between CPU and GPU is not synchronized.\n",
        "Hence, we need to set the seed on the GPU separately to ensure a reproducible code.\n",
        "Note that due to different GPU architectures, running the same code on different GPUs does not guarantee the same random numbers.\n",
        "Still, we don't want that our code gives us a different output every time we run it on the exact same hardware.\n",
        "Hence, we also set the seed on the GPU:"
      ]
    },
    {
      "cell_type": "code",
      "execution_count": 34,
      "id": "f745f2bc",
      "metadata": {
        "execution": {
          "iopub.execute_input": "2022-05-12T11:44:49.618735Z",
          "iopub.status.busy": "2022-05-12T11:44:49.618389Z",
          "iopub.status.idle": "2022-05-12T11:44:49.622500Z",
          "shell.execute_reply": "2022-05-12T11:44:49.621897Z"
        },
        "papermill": {
          "duration": 0.021752,
          "end_time": "2022-05-12T11:44:49.623954",
          "exception": false,
          "start_time": "2022-05-12T11:44:49.602202",
          "status": "completed"
        },
        "tags": [],
        "id": "f745f2bc"
      },
      "outputs": [],
      "source": [
        "# GPU operations have a separate seed we also want to set\n",
        "if torch.cuda.is_available():\n",
        "    torch.cuda.manual_seed(42)\n",
        "    torch.cuda.manual_seed_all(42)\n",
        "\n",
        "# Additionally, some operations on a GPU are implemented stochastic for efficiency\n",
        "# We want to ensure that all operations are deterministic on GPU (if used) for reproducibility\n",
        "torch.backends.cudnn.determinstic = True\n",
        "torch.backends.cudnn.benchmark = False"
      ]
    },
    {
      "cell_type": "markdown",
      "id": "d9038634",
      "metadata": {
        "papermill": {
          "duration": 0.01524,
          "end_time": "2022-05-12T11:44:49.654657",
          "exception": false,
          "start_time": "2022-05-12T11:44:49.639417",
          "status": "completed"
        },
        "tags": [],
        "id": "d9038634"
      },
      "source": [
        "## Learning by example: Continuous XOR\n",
        "<div class=\"center-wrapper\"><div class=\"video-wrapper\"><iframe src=\"https://www.youtube.com/embed/schbjeU5X2g\" title=\"YouTube video player\" frameborder=\"0\" allow=\"accelerometer; autoplay; clipboard-write; encrypted-media; gyroscope; picture-in-picture\" allowfullscreen></iframe></div></div>\n",
        "\n",
        "If we want to build a neural network in PyTorch, we could specify all our parameters (weight matrices, bias vectors) using `Tensors` (with `requires_grad=True`), ask PyTorch to calculate the gradients and then adjust the parameters.\n",
        "But things can quickly get cumbersome if we have a lot of parameters.\n",
        "In PyTorch, there is a package called `torch.nn` that makes building neural networks more convenient.\n",
        "\n",
        "We will introduce the libraries and all additional parts you might need to train a neural network in PyTorch, using a simple example classifier on a simple yet well known example: XOR.\n",
        "Given two binary inputs $x_1$ and $x_2$, the label to predict is $1$ if either $x_1$ or $x_2$ is $1$ while the other is $0$, or the label is $0$ in all other cases.\n",
        "The example became famous by the fact that a single neuron, i.e. a linear classifier, cannot learn this simple function.\n",
        "Hence, we will learn how to build a small neural network that can learn this function.\n",
        "To make it a little bit more interesting, we move the XOR into continuous space and introduce some gaussian noise on the binary inputs.\n",
        "Our desired separation of an XOR dataset could look as follows:\n",
        "\n",
        "<center style=\"width: 100%\"><img src=\"https://github.com/PyTorchLightning/lightning-tutorials/raw/main/course_UvA-DL/01-introduction-to-pytorch/continuous_xor.svg\" width=\"350px\"></center>"
      ]
    },
    {
      "cell_type": "markdown",
      "id": "7b98682a",
      "metadata": {
        "papermill": {
          "duration": 0.015126,
          "end_time": "2022-05-12T11:44:49.685122",
          "exception": false,
          "start_time": "2022-05-12T11:44:49.669996",
          "status": "completed"
        },
        "tags": [],
        "id": "7b98682a"
      },
      "source": [
        "### The model\n",
        "\n",
        "The package `torch.nn` defines a series of useful classes like linear networks layers, activation functions, loss functions etc.\n",
        "A full list can be found [here](https://pytorch.org/docs/stable/nn.html).\n",
        "In case you need a certain network layer, check the documentation of the package first before writing the layer yourself as the package likely contains the code for it already.\n",
        "We import it below:"
      ]
    },
    {
      "cell_type": "markdown",
      "id": "a09bee23",
      "metadata": {
        "papermill": {
          "duration": 0.015664,
          "end_time": "2022-05-12T11:44:49.779625",
          "exception": false,
          "start_time": "2022-05-12T11:44:49.763961",
          "status": "completed"
        },
        "tags": [],
        "id": "a09bee23"
      },
      "source": [
        "Additionally to `torch.nn`, there is also `torch.nn.functional`.\n",
        "It contains functions that are used in network layers.\n",
        "This is in contrast to `torch.nn` which defines them as `nn.Modules` (more on it below), and `torch.nn` actually uses a lot of functionalities from `torch.nn.functional`.\n",
        "Hence, the functional package is useful in many situations, and so we import it as well here."
      ]
    },
    {
      "cell_type": "markdown",
      "id": "18363ce3",
      "metadata": {
        "lines_to_next_cell": 2,
        "papermill": {
          "duration": 0.015687,
          "end_time": "2022-05-12T11:44:49.810866",
          "exception": false,
          "start_time": "2022-05-12T11:44:49.795179",
          "status": "completed"
        },
        "tags": [],
        "id": "18363ce3"
      },
      "source": [
        "#### nn.Module\n",
        "\n",
        "In PyTorch, a neural network is built up out of modules.\n",
        "Modules can contain other modules, and a neural network is considered to be a module itself as well.\n",
        "The basic template of a module is as follows:"
      ]
    },
    {
      "cell_type": "code",
      "execution_count": 35,
      "id": "f1a9cc19",
      "metadata": {
        "execution": {
          "iopub.execute_input": "2022-05-12T11:44:49.845870Z",
          "iopub.status.busy": "2022-05-12T11:44:49.845383Z",
          "iopub.status.idle": "2022-05-12T11:44:49.849782Z",
          "shell.execute_reply": "2022-05-12T11:44:49.849106Z"
        },
        "lines_to_next_cell": 2,
        "papermill": {
          "duration": 0.024448,
          "end_time": "2022-05-12T11:44:49.851415",
          "exception": false,
          "start_time": "2022-05-12T11:44:49.826967",
          "status": "completed"
        },
        "tags": [],
        "id": "f1a9cc19"
      },
      "outputs": [],
      "source": [
        "class MyModule(nn.Module):\n",
        "    def __init__(self):\n",
        "        super().__init__()\n",
        "        # Some init for my module\n",
        "\n",
        "    def forward(self, x):\n",
        "        # Function for performing the calculation of the module.\n",
        "        pass"
      ]
    },
    {
      "cell_type": "markdown",
      "id": "f99fed81",
      "metadata": {
        "lines_to_next_cell": 2,
        "papermill": {
          "duration": 0.015329,
          "end_time": "2022-05-12T11:44:49.882236",
          "exception": false,
          "start_time": "2022-05-12T11:44:49.866907",
          "status": "completed"
        },
        "tags": [],
        "id": "f99fed81"
      },
      "source": [
        "The forward function is where the computation of the module is taken place, and is executed when you call the module (`nn = MyModule(); nn(x)`).\n",
        "In the init function, we usually create the parameters of the module, using `nn.Parameter`, or defining other modules that are used in the forward function.\n",
        "The backward calculation is done automatically, but could be overwritten as well if wanted.\n",
        "\n",
        "#### Simple classifier\n",
        "We can now make use of the pre-defined modules in the `torch.nn` package, and define our own small neural network.\n",
        "We will use a minimal network with a input layer, one hidden layer with tanh as activation function, and a output layer.\n",
        "In other words, our networks should look something like this:\n",
        "\n",
        "<center width=\"100%\"><img src=\"https://github.com/PyTorchLightning/lightning-tutorials/raw/main/course_UvA-DL/01-introduction-to-pytorch/small_neural_network.svg\" width=\"300px\"></center>\n",
        "\n",
        "The input neurons are shown in blue, which represent the coordinates $x_1$ and $x_2$ of a data point.\n",
        "The hidden neurons including a tanh activation are shown in white, and the output neuron in red.\n",
        "In PyTorch, we can define this as follows:"
      ]
    },
    {
      "cell_type": "code",
      "execution_count": 36,
      "id": "8d35d753",
      "metadata": {
        "execution": {
          "iopub.execute_input": "2022-05-12T11:44:49.915216Z",
          "iopub.status.busy": "2022-05-12T11:44:49.914630Z",
          "iopub.status.idle": "2022-05-12T11:44:49.919768Z",
          "shell.execute_reply": "2022-05-12T11:44:49.919067Z"
        },
        "papermill": {
          "duration": 0.023908,
          "end_time": "2022-05-12T11:44:49.921442",
          "exception": false,
          "start_time": "2022-05-12T11:44:49.897534",
          "status": "completed"
        },
        "tags": [],
        "id": "8d35d753"
      },
      "outputs": [],
      "source": [
        "class SimpleClassifier(nn.Module):\n",
        "    def __init__(self, num_inputs, num_hidden, num_outputs):\n",
        "        super().__init__()\n",
        "        # Initialize the modules we need to build the network\n",
        "        self.linear1 = nn.Linear(num_inputs, num_hidden)\n",
        "        self.act_fn = nn.Tanh()\n",
        "        self.linear2 = nn.Linear(num_hidden, num_outputs)\n",
        "\n",
        "    def forward(self, x):\n",
        "        # Perform the calculation of the model to determine the prediction\n",
        "        x = self.linear1(x)\n",
        "        x = self.act_fn(x)\n",
        "        x = self.linear2(x)\n",
        "        return x"
      ]
    },
    {
      "cell_type": "markdown",
      "id": "a5eb3088",
      "metadata": {
        "papermill": {
          "duration": 0.016244,
          "end_time": "2022-05-12T11:44:49.954879",
          "exception": false,
          "start_time": "2022-05-12T11:44:49.938635",
          "status": "completed"
        },
        "tags": [],
        "id": "a5eb3088"
      },
      "source": [
        "For the examples in this notebook, we will use a tiny neural network with two input neurons and four hidden neurons.\n",
        "As we perform binary classification, we will use a single output neuron.\n",
        "Note that we do not apply a sigmoid on the output yet.\n",
        "This is because other functions, especially the loss, are more efficient and precise to calculate on the original outputs instead of the sigmoid output.\n",
        "We will discuss the detailed reason later."
      ]
    },
    {
      "cell_type": "code",
      "execution_count": 37,
      "id": "e09ef283",
      "metadata": {
        "execution": {
          "iopub.execute_input": "2022-05-12T11:44:49.987821Z",
          "iopub.status.busy": "2022-05-12T11:44:49.987346Z",
          "iopub.status.idle": "2022-05-12T11:44:49.992594Z",
          "shell.execute_reply": "2022-05-12T11:44:49.991951Z"
        },
        "papermill": {
          "duration": 0.023574,
          "end_time": "2022-05-12T11:44:49.994116",
          "exception": false,
          "start_time": "2022-05-12T11:44:49.970542",
          "status": "completed"
        },
        "tags": [],
        "id": "e09ef283",
        "outputId": "1fdd07af-5936-4c99-9d13-8731e360a62f",
        "colab": {
          "base_uri": "https://localhost:8080/"
        }
      },
      "outputs": [
        {
          "output_type": "stream",
          "name": "stdout",
          "text": [
            "SimpleClassifier(\n",
            "  (linear1): Linear(in_features=2, out_features=4, bias=True)\n",
            "  (act_fn): Tanh()\n",
            "  (linear2): Linear(in_features=4, out_features=1, bias=True)\n",
            ")\n"
          ]
        }
      ],
      "source": [
        "model = SimpleClassifier(num_inputs=2, num_hidden=4, num_outputs=1)\n",
        "# Printing a module shows all its submodules\n",
        "print(model)"
      ]
    },
    {
      "cell_type": "markdown",
      "id": "ed582eb5",
      "metadata": {
        "papermill": {
          "duration": 0.015436,
          "end_time": "2022-05-12T11:44:50.025407",
          "exception": false,
          "start_time": "2022-05-12T11:44:50.009971",
          "status": "completed"
        },
        "tags": [],
        "id": "ed582eb5"
      },
      "source": [
        "Printing the model lists all submodules it contains.\n",
        "The parameters of a module can be obtained by using its `parameters()` functions, or `named_parameters()` to get a name to each parameter object.\n",
        "For our small neural network, we have the following parameters:"
      ]
    },
    {
      "cell_type": "code",
      "execution_count": 38,
      "id": "cc016db5",
      "metadata": {
        "execution": {
          "iopub.execute_input": "2022-05-12T11:44:50.059042Z",
          "iopub.status.busy": "2022-05-12T11:44:50.058596Z",
          "iopub.status.idle": "2022-05-12T11:44:50.062911Z",
          "shell.execute_reply": "2022-05-12T11:44:50.062315Z"
        },
        "papermill": {
          "duration": 0.022484,
          "end_time": "2022-05-12T11:44:50.064342",
          "exception": false,
          "start_time": "2022-05-12T11:44:50.041858",
          "status": "completed"
        },
        "tags": [],
        "id": "cc016db5",
        "outputId": "6f47057a-039b-48a9-8bc5-9dd7321b47e4",
        "colab": {
          "base_uri": "https://localhost:8080/"
        }
      },
      "outputs": [
        {
          "output_type": "stream",
          "name": "stdout",
          "text": [
            "Parameter linear1.weight, shape torch.Size([4, 2])\n",
            "Parameter linear1.bias, shape torch.Size([4])\n",
            "Parameter linear2.weight, shape torch.Size([1, 4])\n",
            "Parameter linear2.bias, shape torch.Size([1])\n"
          ]
        }
      ],
      "source": [
        "for name, param in model.named_parameters():\n",
        "    print(f\"Parameter {name}, shape {param.shape}\")"
      ]
    },
    {
      "cell_type": "markdown",
      "id": "73819d56",
      "metadata": {
        "papermill": {
          "duration": 0.015409,
          "end_time": "2022-05-12T11:44:50.095767",
          "exception": false,
          "start_time": "2022-05-12T11:44:50.080358",
          "status": "completed"
        },
        "tags": [],
        "id": "73819d56"
      },
      "source": [
        "Each linear layer has a weight matrix of the shape `[output, input]`, and a bias of the shape `[output]`.\n",
        "The tanh activation function does not have any parameters.\n",
        "Note that parameters are only registered for `nn.Module` objects that are direct object attributes, i.e. `self.a = ...`.\n",
        "If you define a list of modules, the parameters of those are not registered for the outer module and can cause some issues when you try to optimize your module.\n",
        "There are alternatives, like `nn.ModuleList`, `nn.ModuleDict` and `nn.Sequential`, that allow you to have different data structures of modules.\n",
        "We will use them in a few later tutorials and explain them there."
      ]
    },
    {
      "cell_type": "markdown",
      "id": "82210e53",
      "metadata": {
        "papermill": {
          "duration": 0.015614,
          "end_time": "2022-05-12T11:44:50.127010",
          "exception": false,
          "start_time": "2022-05-12T11:44:50.111396",
          "status": "completed"
        },
        "tags": [],
        "id": "82210e53"
      },
      "source": [
        "### The data\n",
        "\n",
        "PyTorch also provides a few functionalities to load the training and\n",
        "test data efficiently, summarized in the package `torch.utils.data`."
      ]
    },
    {
      "cell_type": "markdown",
      "id": "d19e084e",
      "metadata": {
        "papermill": {
          "duration": 0.015535,
          "end_time": "2022-05-12T11:44:50.190051",
          "exception": false,
          "start_time": "2022-05-12T11:44:50.174516",
          "status": "completed"
        },
        "tags": [],
        "id": "d19e084e"
      },
      "source": [
        "The data package defines two classes which are the standard interface for handling data in PyTorch: `data.Dataset`, and `data.DataLoader`.\n",
        "The dataset class provides an uniform interface to access the\n",
        "training/test data, while the data loader makes sure to efficiently load\n",
        "and stack the data points from the dataset into batches during training."
      ]
    },
    {
      "cell_type": "markdown",
      "id": "03598d83",
      "metadata": {
        "papermill": {
          "duration": 0.015405,
          "end_time": "2022-05-12T11:44:50.221266",
          "exception": false,
          "start_time": "2022-05-12T11:44:50.205861",
          "status": "completed"
        },
        "tags": [],
        "id": "03598d83"
      },
      "source": [
        "#### The dataset class\n",
        "\n",
        "The dataset class summarizes the basic functionality of a dataset in a natural way.\n",
        "To define a dataset in PyTorch, we simply specify two functions: `__getitem__`, and `__len__`.\n",
        "The get-item function has to return the $i$-th data point in the dataset, while the len function returns the size of the dataset.\n",
        "For the XOR dataset, we can define the dataset class as follows:"
      ]
    },
    {
      "cell_type": "code",
      "execution_count": 39,
      "id": "5d66713c",
      "metadata": {
        "execution": {
          "iopub.execute_input": "2022-05-12T11:44:50.254673Z",
          "iopub.status.busy": "2022-05-12T11:44:50.254198Z",
          "iopub.status.idle": "2022-05-12T11:44:50.260981Z",
          "shell.execute_reply": "2022-05-12T11:44:50.260364Z"
        },
        "papermill": {
          "duration": 0.025247,
          "end_time": "2022-05-12T11:44:50.262481",
          "exception": false,
          "start_time": "2022-05-12T11:44:50.237234",
          "status": "completed"
        },
        "tags": [],
        "id": "5d66713c"
      },
      "outputs": [],
      "source": [
        "class XORDataset(data.Dataset):\n",
        "    def __init__(self, size, std=0.1):\n",
        "        \"\"\"\n",
        "        Inputs:\n",
        "            size - Number of data points we want to generate\n",
        "            std - Standard deviation of the noise (see generate_continuous_xor function)\n",
        "        \"\"\"\n",
        "        super().__init__()\n",
        "        self.size = size\n",
        "        self.std = std\n",
        "        self.generate_continuous_xor()\n",
        "\n",
        "    def generate_continuous_xor(self):\n",
        "        # Each data point in the XOR dataset has two variables, x and y, that can be either 0 or 1\n",
        "        # The label is their XOR combination, i.e. 1 if only x or only y is 1 while the other is 0.\n",
        "        # If x=y, the label is 0.\n",
        "        data = torch.randint(low=0, high=2, size=(self.size, 2), dtype=torch.float32)\n",
        "        label = (data.sum(dim=1) == 1).to(torch.long)\n",
        "        # To make it slightly more challenging, we add a bit of gaussian noise to the data points.\n",
        "        data += self.std * torch.randn(data.shape)\n",
        "\n",
        "        self.data = data\n",
        "        self.label = label\n",
        "\n",
        "    def __len__(self):\n",
        "        # Number of data point we have. Alternatively self.data.shape[0], or self.label.shape[0]\n",
        "        return self.size\n",
        "\n",
        "    def __getitem__(self, idx):\n",
        "        # Return the idx-th data point of the dataset\n",
        "        # If we have multiple things to return (data point and label), we can return them as tuple\n",
        "        data_point = self.data[idx]\n",
        "        data_label = self.label[idx]\n",
        "        return data_point, data_label"
      ]
    },
    {
      "cell_type": "markdown",
      "id": "e6d27353",
      "metadata": {
        "papermill": {
          "duration": 0.015559,
          "end_time": "2022-05-12T11:44:50.293863",
          "exception": false,
          "start_time": "2022-05-12T11:44:50.278304",
          "status": "completed"
        },
        "tags": [],
        "id": "e6d27353"
      },
      "source": [
        "Let's try to create such a dataset and inspect it:"
      ]
    },
    {
      "cell_type": "code",
      "execution_count": 40,
      "id": "2d3d3a98",
      "metadata": {
        "execution": {
          "iopub.execute_input": "2022-05-12T11:44:50.326854Z",
          "iopub.status.busy": "2022-05-12T11:44:50.326427Z",
          "iopub.status.idle": "2022-05-12T11:44:50.332601Z",
          "shell.execute_reply": "2022-05-12T11:44:50.331951Z"
        },
        "papermill": {
          "duration": 0.024535,
          "end_time": "2022-05-12T11:44:50.334161",
          "exception": false,
          "start_time": "2022-05-12T11:44:50.309626",
          "status": "completed"
        },
        "tags": [],
        "id": "2d3d3a98",
        "outputId": "b4958957-f472-447c-d06c-5ee52c44e3c0",
        "colab": {
          "base_uri": "https://localhost:8080/"
        }
      },
      "outputs": [
        {
          "output_type": "stream",
          "name": "stdout",
          "text": [
            "Size of dataset: 200\n",
            "Data point 0: (tensor([0.9632, 0.1117]), tensor(1))\n"
          ]
        }
      ],
      "source": [
        "dataset = XORDataset(size=200)\n",
        "print(\"Size of dataset:\", len(dataset))\n",
        "print(\"Data point 0:\", dataset[0])"
      ]
    },
    {
      "cell_type": "markdown",
      "id": "22638699",
      "metadata": {
        "lines_to_next_cell": 2,
        "papermill": {
          "duration": 0.015588,
          "end_time": "2022-05-12T11:44:50.365423",
          "exception": false,
          "start_time": "2022-05-12T11:44:50.349835",
          "status": "completed"
        },
        "tags": [],
        "id": "22638699"
      },
      "source": [
        "To better relate to the dataset, we visualize the samples below."
      ]
    },
    {
      "cell_type": "code",
      "execution_count": 41,
      "id": "c498b015",
      "metadata": {
        "execution": {
          "iopub.execute_input": "2022-05-12T11:44:50.398644Z",
          "iopub.status.busy": "2022-05-12T11:44:50.397912Z",
          "iopub.status.idle": "2022-05-12T11:44:50.403448Z",
          "shell.execute_reply": "2022-05-12T11:44:50.402837Z"
        },
        "papermill": {
          "duration": 0.023688,
          "end_time": "2022-05-12T11:44:50.404910",
          "exception": false,
          "start_time": "2022-05-12T11:44:50.381222",
          "status": "completed"
        },
        "tags": [],
        "id": "c498b015"
      },
      "outputs": [],
      "source": [
        "def visualize_samples(data, label):\n",
        "    if isinstance(data, Tensor):\n",
        "        data = data.cpu().numpy()\n",
        "    if isinstance(label, Tensor):\n",
        "        label = label.cpu().numpy()\n",
        "    data_0 = data[label == 0]\n",
        "    data_1 = data[label == 1]\n",
        "\n",
        "    plt.figure(figsize=(4, 4))\n",
        "    plt.scatter(data_0[:, 0], data_0[:, 1], edgecolor=\"#333\", label=\"Class 0\")\n",
        "    plt.scatter(data_1[:, 0], data_1[:, 1], edgecolor=\"#333\", label=\"Class 1\")\n",
        "    plt.title(\"Dataset samples\")\n",
        "    plt.ylabel(r\"$x_2$\")\n",
        "    plt.xlabel(r\"$x_1$\")\n",
        "    plt.legend()"
      ]
    },
    {
      "cell_type": "code",
      "execution_count": 42,
      "id": "f00ab628",
      "metadata": {
        "execution": {
          "iopub.execute_input": "2022-05-12T11:44:50.442736Z",
          "iopub.status.busy": "2022-05-12T11:44:50.442270Z",
          "iopub.status.idle": "2022-05-12T11:44:51.050788Z",
          "shell.execute_reply": "2022-05-12T11:44:51.050098Z"
        },
        "papermill": {
          "duration": 0.631045,
          "end_time": "2022-05-12T11:44:51.053184",
          "exception": false,
          "start_time": "2022-05-12T11:44:50.422139",
          "status": "completed"
        },
        "tags": [],
        "id": "f00ab628",
        "outputId": "44d966a3-f205-418f-ded7-e80d6e642d0a",
        "colab": {
          "base_uri": "https://localhost:8080/",
          "height": 390
        }
      },
      "outputs": [
        {
          "output_type": "display_data",
          "data": {
            "text/plain": [
              "<Figure size 288x288 with 1 Axes>"
            ],
            "image/svg+xml": "<?xml version=\"1.0\" encoding=\"utf-8\" standalone=\"no\"?>\n<!DOCTYPE svg PUBLIC \"-//W3C//DTD SVG 1.1//EN\"\n  \"http://www.w3.org/Graphics/SVG/1.1/DTD/svg11.dtd\">\n<!-- Created with matplotlib (https://matplotlib.org/) -->\n<svg height=\"277.314375pt\" version=\"1.1\" viewBox=\"0 0 288.985258 277.314375\" width=\"288.985258pt\" xmlns=\"http://www.w3.org/2000/svg\" xmlns:xlink=\"http://www.w3.org/1999/xlink\">\n <defs>\n  <style type=\"text/css\">\n*{stroke-linecap:butt;stroke-linejoin:round;}\n  </style>\n </defs>\n <g id=\"figure_1\">\n  <g id=\"patch_1\">\n   <path d=\"M 0 277.314375 \nL 288.985258 277.314375 \nL 288.985258 0 \nL 0 0 \nz\n\" style=\"fill:none;\"/>\n  </g>\n  <g id=\"axes_1\">\n   <g id=\"patch_2\">\n    <path d=\"M 52.160938 239.758125 \nL 275.360937 239.758125 \nL 275.360937 22.318125 \nL 52.160938 22.318125 \nz\n\" style=\"fill:#ffffff;\"/>\n   </g>\n   <g id=\"PathCollection_1\">\n    <defs>\n     <path d=\"M 0 3 \nC 0.795609 3 1.55874 2.683901 2.12132 2.12132 \nC 2.683901 1.55874 3 0.795609 3 0 \nC 3 -0.795609 2.683901 -1.55874 2.12132 -2.12132 \nC 1.55874 -2.683901 0.795609 -3 0 -3 \nC -0.795609 -3 -1.55874 -2.683901 -2.12132 -2.12132 \nC -2.683901 -1.55874 -3 -0.795609 -3 0 \nC -3 0.795609 -2.683901 1.55874 -2.12132 2.12132 \nC -1.55874 2.683901 -0.795609 3 0 3 \nz\n\" id=\"mb605862fc8\" style=\"stroke:#333333;\"/>\n    </defs>\n    <g clip-path=\"url(#pfe8b1e6faf)\">\n     <use style=\"fill:#1f77b4;stroke:#333333;\" x=\"96.31168\" xlink:href=\"#mb605862fc8\" y=\"193.325344\"/>\n     <use style=\"fill:#1f77b4;stroke:#333333;\" x=\"232.057657\" xlink:href=\"#mb605862fc8\" y=\"62.145049\"/>\n     <use style=\"fill:#1f77b4;stroke:#333333;\" x=\"258.979442\" xlink:href=\"#mb605862fc8\" y=\"63.780462\"/>\n     <use style=\"fill:#1f77b4;stroke:#333333;\" x=\"108.913368\" xlink:href=\"#mb605862fc8\" y=\"204.409578\"/>\n     <use style=\"fill:#1f77b4;stroke:#333333;\" x=\"101.325808\" xlink:href=\"#mb605862fc8\" y=\"205.043015\"/>\n     <use style=\"fill:#1f77b4;stroke:#333333;\" x=\"70.983454\" xlink:href=\"#mb605862fc8\" y=\"189.560429\"/>\n     <use style=\"fill:#1f77b4;stroke:#333333;\" x=\"242.885541\" xlink:href=\"#mb605862fc8\" y=\"58.566133\"/>\n     <use style=\"fill:#1f77b4;stroke:#333333;\" x=\"232.016709\" xlink:href=\"#mb605862fc8\" y=\"51.440521\"/>\n     <use style=\"fill:#1f77b4;stroke:#333333;\" x=\"93.978943\" xlink:href=\"#mb605862fc8\" y=\"204.550687\"/>\n     <use style=\"fill:#1f77b4;stroke:#333333;\" x=\"237.538974\" xlink:href=\"#mb605862fc8\" y=\"53.572047\"/>\n     <use style=\"fill:#1f77b4;stroke:#333333;\" x=\"103.543109\" xlink:href=\"#mb605862fc8\" y=\"200.309835\"/>\n     <use style=\"fill:#1f77b4;stroke:#333333;\" x=\"255.555098\" xlink:href=\"#mb605862fc8\" y=\"32.201761\"/>\n     <use style=\"fill:#1f77b4;stroke:#333333;\" x=\"238.058002\" xlink:href=\"#mb605862fc8\" y=\"62.589723\"/>\n     <use style=\"fill:#1f77b4;stroke:#333333;\" x=\"232.170061\" xlink:href=\"#mb605862fc8\" y=\"57.754453\"/>\n     <use style=\"fill:#1f77b4;stroke:#333333;\" x=\"94.264177\" xlink:href=\"#mb605862fc8\" y=\"212.626168\"/>\n     <use style=\"fill:#1f77b4;stroke:#333333;\" x=\"89.231835\" xlink:href=\"#mb605862fc8\" y=\"185.037671\"/>\n     <use style=\"fill:#1f77b4;stroke:#333333;\" x=\"251.267421\" xlink:href=\"#mb605862fc8\" y=\"90.813692\"/>\n     <use style=\"fill:#1f77b4;stroke:#333333;\" x=\"254.815479\" xlink:href=\"#mb605862fc8\" y=\"83.753102\"/>\n     <use style=\"fill:#1f77b4;stroke:#333333;\" x=\"226.105337\" xlink:href=\"#mb605862fc8\" y=\"59.138235\"/>\n     <use style=\"fill:#1f77b4;stroke:#333333;\" x=\"82.022892\" xlink:href=\"#mb605862fc8\" y=\"209.202243\"/>\n     <use style=\"fill:#1f77b4;stroke:#333333;\" x=\"253.973129\" xlink:href=\"#mb605862fc8\" y=\"32.62492\"/>\n     <use style=\"fill:#1f77b4;stroke:#333333;\" x=\"245.15091\" xlink:href=\"#mb605862fc8\" y=\"59.955798\"/>\n     <use style=\"fill:#1f77b4;stroke:#333333;\" x=\"114.421987\" xlink:href=\"#mb605862fc8\" y=\"175.83743\"/>\n     <use style=\"fill:#1f77b4;stroke:#333333;\" x=\"228.657784\" xlink:href=\"#mb605862fc8\" y=\"32.336249\"/>\n     <use style=\"fill:#1f77b4;stroke:#333333;\" x=\"99.781014\" xlink:href=\"#mb605862fc8\" y=\"194.777215\"/>\n     <use style=\"fill:#1f77b4;stroke:#333333;\" x=\"227.807175\" xlink:href=\"#mb605862fc8\" y=\"51.50491\"/>\n     <use style=\"fill:#1f77b4;stroke:#333333;\" x=\"86.881354\" xlink:href=\"#mb605862fc8\" y=\"179.492748\"/>\n     <use style=\"fill:#1f77b4;stroke:#333333;\" x=\"250.727063\" xlink:href=\"#mb605862fc8\" y=\"48.77409\"/>\n     <use style=\"fill:#1f77b4;stroke:#333333;\" x=\"246.39628\" xlink:href=\"#mb605862fc8\" y=\"61.512745\"/>\n     <use style=\"fill:#1f77b4;stroke:#333333;\" x=\"240.179519\" xlink:href=\"#mb605862fc8\" y=\"43.69401\"/>\n     <use style=\"fill:#1f77b4;stroke:#333333;\" x=\"92.34098\" xlink:href=\"#mb605862fc8\" y=\"184.373252\"/>\n     <use style=\"fill:#1f77b4;stroke:#333333;\" x=\"104.506115\" xlink:href=\"#mb605862fc8\" y=\"209.709719\"/>\n     <use style=\"fill:#1f77b4;stroke:#333333;\" x=\"87.360439\" xlink:href=\"#mb605862fc8\" y=\"169.625602\"/>\n     <use style=\"fill:#1f77b4;stroke:#333333;\" x=\"97.745486\" xlink:href=\"#mb605862fc8\" y=\"201.318829\"/>\n     <use style=\"fill:#1f77b4;stroke:#333333;\" x=\"112.202457\" xlink:href=\"#mb605862fc8\" y=\"200.867622\"/>\n     <use style=\"fill:#1f77b4;stroke:#333333;\" x=\"93.386735\" xlink:href=\"#mb605862fc8\" y=\"195.701852\"/>\n     <use style=\"fill:#1f77b4;stroke:#333333;\" x=\"112.962408\" xlink:href=\"#mb605862fc8\" y=\"212.211753\"/>\n     <use style=\"fill:#1f77b4;stroke:#333333;\" x=\"213.923524\" xlink:href=\"#mb605862fc8\" y=\"39.620323\"/>\n     <use style=\"fill:#1f77b4;stroke:#333333;\" x=\"253.408944\" xlink:href=\"#mb605862fc8\" y=\"64.604829\"/>\n     <use style=\"fill:#1f77b4;stroke:#333333;\" x=\"238.202599\" xlink:href=\"#mb605862fc8\" y=\"63.759786\"/>\n     <use style=\"fill:#1f77b4;stroke:#333333;\" x=\"93.334759\" xlink:href=\"#mb605862fc8\" y=\"205.410605\"/>\n     <use style=\"fill:#1f77b4;stroke:#333333;\" x=\"222.697015\" xlink:href=\"#mb605862fc8\" y=\"89.092646\"/>\n     <use style=\"fill:#1f77b4;stroke:#333333;\" x=\"246.067518\" xlink:href=\"#mb605862fc8\" y=\"56.781365\"/>\n     <use style=\"fill:#1f77b4;stroke:#333333;\" x=\"97.908356\" xlink:href=\"#mb605862fc8\" y=\"212.127081\"/>\n     <use style=\"fill:#1f77b4;stroke:#333333;\" x=\"110.608912\" xlink:href=\"#mb605862fc8\" y=\"217.677792\"/>\n     <use style=\"fill:#1f77b4;stroke:#333333;\" x=\"119.278606\" xlink:href=\"#mb605862fc8\" y=\"177.02797\"/>\n     <use style=\"fill:#1f77b4;stroke:#333333;\" x=\"229.431275\" xlink:href=\"#mb605862fc8\" y=\"71.868079\"/>\n     <use style=\"fill:#1f77b4;stroke:#333333;\" x=\"217.108023\" xlink:href=\"#mb605862fc8\" y=\"44.358713\"/>\n     <use style=\"fill:#1f77b4;stroke:#333333;\" x=\"90.421001\" xlink:href=\"#mb605862fc8\" y=\"205.813556\"/>\n     <use style=\"fill:#1f77b4;stroke:#333333;\" x=\"230.637614\" xlink:href=\"#mb605862fc8\" y=\"68.485687\"/>\n     <use style=\"fill:#1f77b4;stroke:#333333;\" x=\"98.642521\" xlink:href=\"#mb605862fc8\" y=\"201.033344\"/>\n     <use style=\"fill:#1f77b4;stroke:#333333;\" x=\"242.296554\" xlink:href=\"#mb605862fc8\" y=\"33.609264\"/>\n     <use style=\"fill:#1f77b4;stroke:#333333;\" x=\"95.167044\" xlink:href=\"#mb605862fc8\" y=\"188.760034\"/>\n     <use style=\"fill:#1f77b4;stroke:#333333;\" x=\"227.659933\" xlink:href=\"#mb605862fc8\" y=\"76.575953\"/>\n     <use style=\"fill:#1f77b4;stroke:#333333;\" x=\"239.162594\" xlink:href=\"#mb605862fc8\" y=\"47.436505\"/>\n     <use style=\"fill:#1f77b4;stroke:#333333;\" x=\"70.985535\" xlink:href=\"#mb605862fc8\" y=\"190.609003\"/>\n     <use style=\"fill:#1f77b4;stroke:#333333;\" x=\"216.984682\" xlink:href=\"#mb605862fc8\" y=\"47.197067\"/>\n     <use style=\"fill:#1f77b4;stroke:#333333;\" x=\"247.342435\" xlink:href=\"#mb605862fc8\" y=\"65.6149\"/>\n     <use style=\"fill:#1f77b4;stroke:#333333;\" x=\"82.942512\" xlink:href=\"#mb605862fc8\" y=\"196.823089\"/>\n     <use style=\"fill:#1f77b4;stroke:#333333;\" x=\"94.610207\" xlink:href=\"#mb605862fc8\" y=\"229.874489\"/>\n     <use style=\"fill:#1f77b4;stroke:#333333;\" x=\"94.065144\" xlink:href=\"#mb605862fc8\" y=\"199.872245\"/>\n     <use style=\"fill:#1f77b4;stroke:#333333;\" x=\"75.9265\" xlink:href=\"#mb605862fc8\" y=\"200.007537\"/>\n     <use style=\"fill:#1f77b4;stroke:#333333;\" x=\"261.562131\" xlink:href=\"#mb605862fc8\" y=\"65.752612\"/>\n     <use style=\"fill:#1f77b4;stroke:#333333;\" x=\"227.651459\" xlink:href=\"#mb605862fc8\" y=\"73.759575\"/>\n     <use style=\"fill:#1f77b4;stroke:#333333;\" x=\"253.566025\" xlink:href=\"#mb605862fc8\" y=\"39.679857\"/>\n     <use style=\"fill:#1f77b4;stroke:#333333;\" x=\"76.490724\" xlink:href=\"#mb605862fc8\" y=\"185.321057\"/>\n     <use style=\"fill:#1f77b4;stroke:#333333;\" x=\"238.897525\" xlink:href=\"#mb605862fc8\" y=\"82.429587\"/>\n     <use style=\"fill:#1f77b4;stroke:#333333;\" x=\"249.223089\" xlink:href=\"#mb605862fc8\" y=\"89.661589\"/>\n     <use style=\"fill:#1f77b4;stroke:#333333;\" x=\"118.387936\" xlink:href=\"#mb605862fc8\" y=\"218.303568\"/>\n     <use style=\"fill:#1f77b4;stroke:#333333;\" x=\"108.710707\" xlink:href=\"#mb605862fc8\" y=\"207.070547\"/>\n     <use style=\"fill:#1f77b4;stroke:#333333;\" x=\"94.960359\" xlink:href=\"#mb605862fc8\" y=\"190.023846\"/>\n     <use style=\"fill:#1f77b4;stroke:#333333;\" x=\"95.804305\" xlink:href=\"#mb605862fc8\" y=\"187.711556\"/>\n     <use style=\"fill:#1f77b4;stroke:#333333;\" x=\"239.509346\" xlink:href=\"#mb605862fc8\" y=\"53.869424\"/>\n     <use style=\"fill:#1f77b4;stroke:#333333;\" x=\"226.971018\" xlink:href=\"#mb605862fc8\" y=\"88.154106\"/>\n     <use style=\"fill:#1f77b4;stroke:#333333;\" x=\"94.916859\" xlink:href=\"#mb605862fc8\" y=\"195.521558\"/>\n     <use style=\"fill:#1f77b4;stroke:#333333;\" x=\"106.991269\" xlink:href=\"#mb605862fc8\" y=\"186.850471\"/>\n     <use style=\"fill:#1f77b4;stroke:#333333;\" x=\"108.567957\" xlink:href=\"#mb605862fc8\" y=\"194.117803\"/>\n     <use style=\"fill:#1f77b4;stroke:#333333;\" x=\"239.227411\" xlink:href=\"#mb605862fc8\" y=\"37.590473\"/>\n     <use style=\"fill:#1f77b4;stroke:#333333;\" x=\"238.317384\" xlink:href=\"#mb605862fc8\" y=\"35.754283\"/>\n     <use style=\"fill:#1f77b4;stroke:#333333;\" x=\"96.994499\" xlink:href=\"#mb605862fc8\" y=\"208.108344\"/>\n     <use style=\"fill:#1f77b4;stroke:#333333;\" x=\"250.032038\" xlink:href=\"#mb605862fc8\" y=\"37.701594\"/>\n     <use style=\"fill:#1f77b4;stroke:#333333;\" x=\"232.359401\" xlink:href=\"#mb605862fc8\" y=\"72.374698\"/>\n     <use style=\"fill:#1f77b4;stroke:#333333;\" x=\"248.199716\" xlink:href=\"#mb605862fc8\" y=\"33.573869\"/>\n     <use style=\"fill:#1f77b4;stroke:#333333;\" x=\"88.429047\" xlink:href=\"#mb605862fc8\" y=\"192.95304\"/>\n     <use style=\"fill:#1f77b4;stroke:#333333;\" x=\"234.27057\" xlink:href=\"#mb605862fc8\" y=\"47.995435\"/>\n     <use style=\"fill:#1f77b4;stroke:#333333;\" x=\"98.536004\" xlink:href=\"#mb605862fc8\" y=\"212.515425\"/>\n     <use style=\"fill:#1f77b4;stroke:#333333;\" x=\"107.800107\" xlink:href=\"#mb605862fc8\" y=\"204.310706\"/>\n     <use style=\"fill:#1f77b4;stroke:#333333;\" x=\"87.726796\" xlink:href=\"#mb605862fc8\" y=\"191.216589\"/>\n     <use style=\"fill:#1f77b4;stroke:#333333;\" x=\"212.816998\" xlink:href=\"#mb605862fc8\" y=\"53.841351\"/>\n     <use style=\"fill:#1f77b4;stroke:#333333;\" x=\"225.168168\" xlink:href=\"#mb605862fc8\" y=\"47.841136\"/>\n     <use style=\"fill:#1f77b4;stroke:#333333;\" x=\"202.642744\" xlink:href=\"#mb605862fc8\" y=\"44.693113\"/>\n     <use style=\"fill:#1f77b4;stroke:#333333;\" x=\"86.981531\" xlink:href=\"#mb605862fc8\" y=\"191.534849\"/>\n     <use style=\"fill:#1f77b4;stroke:#333333;\" x=\"116.687423\" xlink:href=\"#mb605862fc8\" y=\"206.975146\"/>\n     <use style=\"fill:#1f77b4;stroke:#333333;\" x=\"91.776781\" xlink:href=\"#mb605862fc8\" y=\"209.817871\"/>\n     <use style=\"fill:#1f77b4;stroke:#333333;\" x=\"225.892096\" xlink:href=\"#mb605862fc8\" y=\"90.705434\"/>\n     <use style=\"fill:#1f77b4;stroke:#333333;\" x=\"102.087238\" xlink:href=\"#mb605862fc8\" y=\"195.303274\"/>\n     <use style=\"fill:#1f77b4;stroke:#333333;\" x=\"94.905243\" xlink:href=\"#mb605862fc8\" y=\"189.148117\"/>\n     <use style=\"fill:#1f77b4;stroke:#333333;\" x=\"89.515988\" xlink:href=\"#mb605862fc8\" y=\"200.223394\"/>\n     <use style=\"fill:#1f77b4;stroke:#333333;\" x=\"99.167164\" xlink:href=\"#mb605862fc8\" y=\"208.206126\"/>\n     <use style=\"fill:#1f77b4;stroke:#333333;\" x=\"211.577945\" xlink:href=\"#mb605862fc8\" y=\"57.867977\"/>\n     <use style=\"fill:#1f77b4;stroke:#333333;\" x=\"220.751413\" xlink:href=\"#mb605862fc8\" y=\"41.469595\"/>\n     <use style=\"fill:#1f77b4;stroke:#333333;\" x=\"72.137778\" xlink:href=\"#mb605862fc8\" y=\"214.445482\"/>\n     <use style=\"fill:#1f77b4;stroke:#333333;\" x=\"235.916363\" xlink:href=\"#mb605862fc8\" y=\"80.464924\"/>\n    </g>\n   </g>\n   <g id=\"PathCollection_2\">\n    <defs>\n     <path d=\"M 0 3 \nC 0.795609 3 1.55874 2.683901 2.12132 2.12132 \nC 2.683901 1.55874 3 0.795609 3 0 \nC 3 -0.795609 2.683901 -1.55874 2.12132 -2.12132 \nC 1.55874 -2.683901 0.795609 -3 0 -3 \nC -0.795609 -3 -1.55874 -2.683901 -2.12132 -2.12132 \nC -2.683901 -1.55874 -3 -0.795609 -3 0 \nC -3 0.795609 -2.683901 1.55874 -2.12132 2.12132 \nC -1.55874 2.683901 -0.795609 3 0 3 \nz\n\" id=\"mf5c840f96a\" style=\"stroke:#333333;\"/>\n    </defs>\n    <g clip-path=\"url(#pfe8b1e6faf)\">\n     <use style=\"fill:#ff7f0e;stroke:#333333;\" x=\"230.877063\" xlink:href=\"#mf5c840f96a\" y=\"180.913557\"/>\n     <use style=\"fill:#ff7f0e;stroke:#333333;\" x=\"243.842427\" xlink:href=\"#mf5c840f96a\" y=\"181.183986\"/>\n     <use style=\"fill:#ff7f0e;stroke:#333333;\" x=\"232.017097\" xlink:href=\"#mf5c840f96a\" y=\"198.932324\"/>\n     <use style=\"fill:#ff7f0e;stroke:#333333;\" x=\"89.746376\" xlink:href=\"#mf5c840f96a\" y=\"45.392998\"/>\n     <use style=\"fill:#ff7f0e;stroke:#333333;\" x=\"250.686437\" xlink:href=\"#mf5c840f96a\" y=\"201.599728\"/>\n     <use style=\"fill:#ff7f0e;stroke:#333333;\" x=\"100.400405\" xlink:href=\"#mf5c840f96a\" y=\"63.553489\"/>\n     <use style=\"fill:#ff7f0e;stroke:#333333;\" x=\"219.862038\" xlink:href=\"#mf5c840f96a\" y=\"211.350014\"/>\n     <use style=\"fill:#ff7f0e;stroke:#333333;\" x=\"130.59866\" xlink:href=\"#mf5c840f96a\" y=\"59.599027\"/>\n     <use style=\"fill:#ff7f0e;stroke:#333333;\" x=\"247.536058\" xlink:href=\"#mf5c840f96a\" y=\"217.196966\"/>\n     <use style=\"fill:#ff7f0e;stroke:#333333;\" x=\"214.797166\" xlink:href=\"#mf5c840f96a\" y=\"185.557909\"/>\n     <use style=\"fill:#ff7f0e;stroke:#333333;\" x=\"229.906907\" xlink:href=\"#mf5c840f96a\" y=\"173.017888\"/>\n     <use style=\"fill:#ff7f0e;stroke:#333333;\" x=\"65.731142\" xlink:href=\"#mf5c840f96a\" y=\"44.566804\"/>\n     <use style=\"fill:#ff7f0e;stroke:#333333;\" x=\"116.585574\" xlink:href=\"#mf5c840f96a\" y=\"45.533014\"/>\n     <use style=\"fill:#ff7f0e;stroke:#333333;\" x=\"96.4775\" xlink:href=\"#mf5c840f96a\" y=\"76.495825\"/>\n     <use style=\"fill:#ff7f0e;stroke:#333333;\" x=\"96.788387\" xlink:href=\"#mf5c840f96a\" y=\"42.091466\"/>\n     <use style=\"fill:#ff7f0e;stroke:#333333;\" x=\"75.708547\" xlink:href=\"#mf5c840f96a\" y=\"39.030573\"/>\n     <use style=\"fill:#ff7f0e;stroke:#333333;\" x=\"233.922057\" xlink:href=\"#mf5c840f96a\" y=\"201.757218\"/>\n     <use style=\"fill:#ff7f0e;stroke:#333333;\" x=\"216.28277\" xlink:href=\"#mf5c840f96a\" y=\"180.766731\"/>\n     <use style=\"fill:#ff7f0e;stroke:#333333;\" x=\"225.945553\" xlink:href=\"#mf5c840f96a\" y=\"182.832732\"/>\n     <use style=\"fill:#ff7f0e;stroke:#333333;\" x=\"107.888844\" xlink:href=\"#mf5c840f96a\" y=\"59.25904\"/>\n     <use style=\"fill:#ff7f0e;stroke:#333333;\" x=\"212.266314\" xlink:href=\"#mf5c840f96a\" y=\"192.147409\"/>\n     <use style=\"fill:#ff7f0e;stroke:#333333;\" x=\"257.089413\" xlink:href=\"#mf5c840f96a\" y=\"200.542537\"/>\n     <use style=\"fill:#ff7f0e;stroke:#333333;\" x=\"248.528097\" xlink:href=\"#mf5c840f96a\" y=\"198.107913\"/>\n     <use style=\"fill:#ff7f0e;stroke:#333333;\" x=\"223.275659\" xlink:href=\"#mf5c840f96a\" y=\"202.11576\"/>\n     <use style=\"fill:#ff7f0e;stroke:#333333;\" x=\"254.62465\" xlink:href=\"#mf5c840f96a\" y=\"176.456154\"/>\n     <use style=\"fill:#ff7f0e;stroke:#333333;\" x=\"83.200733\" xlink:href=\"#mf5c840f96a\" y=\"70.175377\"/>\n     <use style=\"fill:#ff7f0e;stroke:#333333;\" x=\"251.724096\" xlink:href=\"#mf5c840f96a\" y=\"179.390064\"/>\n     <use style=\"fill:#ff7f0e;stroke:#333333;\" x=\"110.819287\" xlink:href=\"#mf5c840f96a\" y=\"55.123203\"/>\n     <use style=\"fill:#ff7f0e;stroke:#333333;\" x=\"232.126351\" xlink:href=\"#mf5c840f96a\" y=\"178.669064\"/>\n     <use style=\"fill:#ff7f0e;stroke:#333333;\" x=\"68.497902\" xlink:href=\"#mf5c840f96a\" y=\"56.973626\"/>\n     <use style=\"fill:#ff7f0e;stroke:#333333;\" x=\"95.226666\" xlink:href=\"#mf5c840f96a\" y=\"66.120244\"/>\n     <use style=\"fill:#ff7f0e;stroke:#333333;\" x=\"223.392974\" xlink:href=\"#mf5c840f96a\" y=\"208.672634\"/>\n     <use style=\"fill:#ff7f0e;stroke:#333333;\" x=\"214.945261\" xlink:href=\"#mf5c840f96a\" y=\"183.133722\"/>\n     <use style=\"fill:#ff7f0e;stroke:#333333;\" x=\"100.205618\" xlink:href=\"#mf5c840f96a\" y=\"60.661631\"/>\n     <use style=\"fill:#ff7f0e;stroke:#333333;\" x=\"244.127174\" xlink:href=\"#mf5c840f96a\" y=\"183.85959\"/>\n     <use style=\"fill:#ff7f0e;stroke:#333333;\" x=\"100.782099\" xlink:href=\"#mf5c840f96a\" y=\"68.534007\"/>\n     <use style=\"fill:#ff7f0e;stroke:#333333;\" x=\"97.685973\" xlink:href=\"#mf5c840f96a\" y=\"71.284393\"/>\n     <use style=\"fill:#ff7f0e;stroke:#333333;\" x=\"261.24119\" xlink:href=\"#mf5c840f96a\" y=\"209.357586\"/>\n     <use style=\"fill:#ff7f0e;stroke:#333333;\" x=\"231.536281\" xlink:href=\"#mf5c840f96a\" y=\"180.074569\"/>\n     <use style=\"fill:#ff7f0e;stroke:#333333;\" x=\"84.432042\" xlink:href=\"#mf5c840f96a\" y=\"55.826098\"/>\n     <use style=\"fill:#ff7f0e;stroke:#333333;\" x=\"114.704427\" xlink:href=\"#mf5c840f96a\" y=\"57.881371\"/>\n     <use style=\"fill:#ff7f0e;stroke:#333333;\" x=\"118.139583\" xlink:href=\"#mf5c840f96a\" y=\"40.282525\"/>\n     <use style=\"fill:#ff7f0e;stroke:#333333;\" x=\"244.331312\" xlink:href=\"#mf5c840f96a\" y=\"206.328325\"/>\n     <use style=\"fill:#ff7f0e;stroke:#333333;\" x=\"84.937455\" xlink:href=\"#mf5c840f96a\" y=\"59.985039\"/>\n     <use style=\"fill:#ff7f0e;stroke:#333333;\" x=\"229.111028\" xlink:href=\"#mf5c840f96a\" y=\"185.254639\"/>\n     <use style=\"fill:#ff7f0e;stroke:#333333;\" x=\"99.865846\" xlink:href=\"#mf5c840f96a\" y=\"73.50443\"/>\n     <use style=\"fill:#ff7f0e;stroke:#333333;\" x=\"107.774522\" xlink:href=\"#mf5c840f96a\" y=\"50.128195\"/>\n     <use style=\"fill:#ff7f0e;stroke:#333333;\" x=\"106.681533\" xlink:href=\"#mf5c840f96a\" y=\"53.57626\"/>\n     <use style=\"fill:#ff7f0e;stroke:#333333;\" x=\"220.300095\" xlink:href=\"#mf5c840f96a\" y=\"186.154142\"/>\n     <use style=\"fill:#ff7f0e;stroke:#333333;\" x=\"84.93114\" xlink:href=\"#mf5c840f96a\" y=\"77.508109\"/>\n     <use style=\"fill:#ff7f0e;stroke:#333333;\" x=\"105.491498\" xlink:href=\"#mf5c840f96a\" y=\"48.161599\"/>\n     <use style=\"fill:#ff7f0e;stroke:#333333;\" x=\"212.017878\" xlink:href=\"#mf5c840f96a\" y=\"182.204423\"/>\n     <use style=\"fill:#ff7f0e;stroke:#333333;\" x=\"238.780524\" xlink:href=\"#mf5c840f96a\" y=\"210.592034\"/>\n     <use style=\"fill:#ff7f0e;stroke:#333333;\" x=\"102.920944\" xlink:href=\"#mf5c840f96a\" y=\"48.671279\"/>\n     <use style=\"fill:#ff7f0e;stroke:#333333;\" x=\"109.227118\" xlink:href=\"#mf5c840f96a\" y=\"67.791241\"/>\n     <use style=\"fill:#ff7f0e;stroke:#333333;\" x=\"218.916511\" xlink:href=\"#mf5c840f96a\" y=\"195.110735\"/>\n     <use style=\"fill:#ff7f0e;stroke:#333333;\" x=\"210.412471\" xlink:href=\"#mf5c840f96a\" y=\"197.807546\"/>\n     <use style=\"fill:#ff7f0e;stroke:#333333;\" x=\"106.409234\" xlink:href=\"#mf5c840f96a\" y=\"62.370039\"/>\n     <use style=\"fill:#ff7f0e;stroke:#333333;\" x=\"62.306392\" xlink:href=\"#mf5c840f96a\" y=\"69.539331\"/>\n     <use style=\"fill:#ff7f0e;stroke:#333333;\" x=\"91.834453\" xlink:href=\"#mf5c840f96a\" y=\"77.469177\"/>\n     <use style=\"fill:#ff7f0e;stroke:#333333;\" x=\"109.483259\" xlink:href=\"#mf5c840f96a\" y=\"52.116365\"/>\n     <use style=\"fill:#ff7f0e;stroke:#333333;\" x=\"87.52736\" xlink:href=\"#mf5c840f96a\" y=\"63.223243\"/>\n     <use style=\"fill:#ff7f0e;stroke:#333333;\" x=\"94.034599\" xlink:href=\"#mf5c840f96a\" y=\"55.768785\"/>\n     <use style=\"fill:#ff7f0e;stroke:#333333;\" x=\"110.113367\" xlink:href=\"#mf5c840f96a\" y=\"68.261083\"/>\n     <use style=\"fill:#ff7f0e;stroke:#333333;\" x=\"257.318305\" xlink:href=\"#mf5c840f96a\" y=\"202.317721\"/>\n     <use style=\"fill:#ff7f0e;stroke:#333333;\" x=\"79.762115\" xlink:href=\"#mf5c840f96a\" y=\"39.847979\"/>\n     <use style=\"fill:#ff7f0e;stroke:#333333;\" x=\"258.048499\" xlink:href=\"#mf5c840f96a\" y=\"185.012766\"/>\n     <use style=\"fill:#ff7f0e;stroke:#333333;\" x=\"244.789162\" xlink:href=\"#mf5c840f96a\" y=\"171.865302\"/>\n     <use style=\"fill:#ff7f0e;stroke:#333333;\" x=\"214.47439\" xlink:href=\"#mf5c840f96a\" y=\"211.299351\"/>\n     <use style=\"fill:#ff7f0e;stroke:#333333;\" x=\"218.387835\" xlink:href=\"#mf5c840f96a\" y=\"227.253664\"/>\n     <use style=\"fill:#ff7f0e;stroke:#333333;\" x=\"98.247032\" xlink:href=\"#mf5c840f96a\" y=\"41.347367\"/>\n     <use style=\"fill:#ff7f0e;stroke:#333333;\" x=\"221.09122\" xlink:href=\"#mf5c840f96a\" y=\"178.959826\"/>\n     <use style=\"fill:#ff7f0e;stroke:#333333;\" x=\"207.783237\" xlink:href=\"#mf5c840f96a\" y=\"165.02484\"/>\n     <use style=\"fill:#ff7f0e;stroke:#333333;\" x=\"84.486389\" xlink:href=\"#mf5c840f96a\" y=\"47.120304\"/>\n     <use style=\"fill:#ff7f0e;stroke:#333333;\" x=\"108.320496\" xlink:href=\"#mf5c840f96a\" y=\"59.847104\"/>\n     <use style=\"fill:#ff7f0e;stroke:#333333;\" x=\"247.02495\" xlink:href=\"#mf5c840f96a\" y=\"184.293941\"/>\n     <use style=\"fill:#ff7f0e;stroke:#333333;\" x=\"92.024123\" xlink:href=\"#mf5c840f96a\" y=\"51.399993\"/>\n     <use style=\"fill:#ff7f0e;stroke:#333333;\" x=\"103.976033\" xlink:href=\"#mf5c840f96a\" y=\"61.578541\"/>\n     <use style=\"fill:#ff7f0e;stroke:#333333;\" x=\"102.375453\" xlink:href=\"#mf5c840f96a\" y=\"64.816787\"/>\n     <use style=\"fill:#ff7f0e;stroke:#333333;\" x=\"230.527021\" xlink:href=\"#mf5c840f96a\" y=\"177.171327\"/>\n     <use style=\"fill:#ff7f0e;stroke:#333333;\" x=\"238.484799\" xlink:href=\"#mf5c840f96a\" y=\"167.950176\"/>\n     <use style=\"fill:#ff7f0e;stroke:#333333;\" x=\"247.340005\" xlink:href=\"#mf5c840f96a\" y=\"185.179964\"/>\n     <use style=\"fill:#ff7f0e;stroke:#333333;\" x=\"134.8086\" xlink:href=\"#mf5c840f96a\" y=\"59.304711\"/>\n     <use style=\"fill:#ff7f0e;stroke:#333333;\" x=\"213.726653\" xlink:href=\"#mf5c840f96a\" y=\"213.578161\"/>\n     <use style=\"fill:#ff7f0e;stroke:#333333;\" x=\"265.215483\" xlink:href=\"#mf5c840f96a\" y=\"212.626448\"/>\n     <use style=\"fill:#ff7f0e;stroke:#333333;\" x=\"226.839442\" xlink:href=\"#mf5c840f96a\" y=\"209.593202\"/>\n     <use style=\"fill:#ff7f0e;stroke:#333333;\" x=\"88.454985\" xlink:href=\"#mf5c840f96a\" y=\"69.802283\"/>\n     <use style=\"fill:#ff7f0e;stroke:#333333;\" x=\"86.200641\" xlink:href=\"#mf5c840f96a\" y=\"59.30147\"/>\n     <use style=\"fill:#ff7f0e;stroke:#333333;\" x=\"249.708568\" xlink:href=\"#mf5c840f96a\" y=\"212.467168\"/>\n     <use style=\"fill:#ff7f0e;stroke:#333333;\" x=\"86.639713\" xlink:href=\"#mf5c840f96a\" y=\"66.734504\"/>\n     <use style=\"fill:#ff7f0e;stroke:#333333;\" x=\"72.549088\" xlink:href=\"#mf5c840f96a\" y=\"61.78785\"/>\n     <use style=\"fill:#ff7f0e;stroke:#333333;\" x=\"116.327234\" xlink:href=\"#mf5c840f96a\" y=\"48.616483\"/>\n     <use style=\"fill:#ff7f0e;stroke:#333333;\" x=\"89.624632\" xlink:href=\"#mf5c840f96a\" y=\"51.591563\"/>\n     <use style=\"fill:#ff7f0e;stroke:#333333;\" x=\"257.369976\" xlink:href=\"#mf5c840f96a\" y=\"209.982902\"/>\n     <use style=\"fill:#ff7f0e;stroke:#333333;\" x=\"209.334228\" xlink:href=\"#mf5c840f96a\" y=\"191.955712\"/>\n     <use style=\"fill:#ff7f0e;stroke:#333333;\" x=\"98.138755\" xlink:href=\"#mf5c840f96a\" y=\"44.566278\"/>\n     <use style=\"fill:#ff7f0e;stroke:#333333;\" x=\"254.619078\" xlink:href=\"#mf5c840f96a\" y=\"207.56031\"/>\n    </g>\n   </g>\n   <g id=\"matplotlib.axis_1\">\n    <g id=\"xtick_1\">\n     <g id=\"line2d_1\">\n      <defs>\n       <path d=\"M 0 0 \nL 0 3.5 \n\" id=\"mf1574b3e40\" style=\"stroke:#000000;stroke-width:0.8;\"/>\n      </defs>\n      <g>\n       <use style=\"stroke:#000000;stroke-width:0.8;\" x=\"62.596276\" xlink:href=\"#mf1574b3e40\" y=\"239.758125\"/>\n      </g>\n     </g>\n     <g id=\"text_1\">\n      <!-- −0.25 -->\n      <defs>\n       <path d=\"M 10.59375 35.5 \nL 73.1875 35.5 \nL 73.1875 27.203125 \nL 10.59375 27.203125 \nz\n\" id=\"DejaVuSans-8722\"/>\n       <path d=\"M 31.78125 66.40625 \nQ 24.171875 66.40625 20.328125 58.90625 \nQ 16.5 51.421875 16.5 36.375 \nQ 16.5 21.390625 20.328125 13.890625 \nQ 24.171875 6.390625 31.78125 6.390625 \nQ 39.453125 6.390625 43.28125 13.890625 \nQ 47.125 21.390625 47.125 36.375 \nQ 47.125 51.421875 43.28125 58.90625 \nQ 39.453125 66.40625 31.78125 66.40625 \nz\nM 31.78125 74.21875 \nQ 44.046875 74.21875 50.515625 64.515625 \nQ 56.984375 54.828125 56.984375 36.375 \nQ 56.984375 17.96875 50.515625 8.265625 \nQ 44.046875 -1.421875 31.78125 -1.421875 \nQ 19.53125 -1.421875 13.0625 8.265625 \nQ 6.59375 17.96875 6.59375 36.375 \nQ 6.59375 54.828125 13.0625 64.515625 \nQ 19.53125 74.21875 31.78125 74.21875 \nz\n\" id=\"DejaVuSans-48\"/>\n       <path d=\"M 10.6875 12.40625 \nL 21 12.40625 \nL 21 0 \nL 10.6875 0 \nz\n\" id=\"DejaVuSans-46\"/>\n       <path d=\"M 19.1875 8.296875 \nL 53.609375 8.296875 \nL 53.609375 0 \nL 7.328125 0 \nL 7.328125 8.296875 \nQ 12.9375 14.109375 22.625 23.890625 \nQ 32.328125 33.6875 34.8125 36.53125 \nQ 39.546875 41.84375 41.421875 45.53125 \nQ 43.3125 49.21875 43.3125 52.78125 \nQ 43.3125 58.59375 39.234375 62.25 \nQ 35.15625 65.921875 28.609375 65.921875 \nQ 23.96875 65.921875 18.8125 64.3125 \nQ 13.671875 62.703125 7.8125 59.421875 \nL 7.8125 69.390625 \nQ 13.765625 71.78125 18.9375 73 \nQ 24.125 74.21875 28.421875 74.21875 \nQ 39.75 74.21875 46.484375 68.546875 \nQ 53.21875 62.890625 53.21875 53.421875 \nQ 53.21875 48.921875 51.53125 44.890625 \nQ 49.859375 40.875 45.40625 35.40625 \nQ 44.1875 33.984375 37.640625 27.21875 \nQ 31.109375 20.453125 19.1875 8.296875 \nz\n\" id=\"DejaVuSans-50\"/>\n       <path d=\"M 10.796875 72.90625 \nL 49.515625 72.90625 \nL 49.515625 64.59375 \nL 19.828125 64.59375 \nL 19.828125 46.734375 \nQ 21.96875 47.46875 24.109375 47.828125 \nQ 26.265625 48.1875 28.421875 48.1875 \nQ 40.625 48.1875 47.75 41.5 \nQ 54.890625 34.8125 54.890625 23.390625 \nQ 54.890625 11.625 47.5625 5.09375 \nQ 40.234375 -1.421875 26.90625 -1.421875 \nQ 22.3125 -1.421875 17.546875 -0.640625 \nQ 12.796875 0.140625 7.71875 1.703125 \nL 7.71875 11.625 \nQ 12.109375 9.234375 16.796875 8.0625 \nQ 21.484375 6.890625 26.703125 6.890625 \nQ 35.15625 6.890625 40.078125 11.328125 \nQ 45.015625 15.765625 45.015625 23.390625 \nQ 45.015625 31 40.078125 35.4375 \nQ 35.15625 39.890625 26.703125 39.890625 \nQ 22.75 39.890625 18.8125 39.015625 \nQ 14.890625 38.140625 10.796875 36.28125 \nz\n\" id=\"DejaVuSans-53\"/>\n      </defs>\n      <g transform=\"translate(47.27362 254.356562)scale(0.1 -0.1)\">\n       <use xlink:href=\"#DejaVuSans-8722\"/>\n       <use x=\"83.789062\" xlink:href=\"#DejaVuSans-48\"/>\n       <use x=\"147.412109\" xlink:href=\"#DejaVuSans-46\"/>\n       <use x=\"179.199219\" xlink:href=\"#DejaVuSans-50\"/>\n       <use x=\"242.822266\" xlink:href=\"#DejaVuSans-53\"/>\n      </g>\n     </g>\n    </g>\n    <g id=\"xtick_2\">\n     <g id=\"line2d_2\">\n      <g>\n       <use style=\"stroke:#000000;stroke-width:0.8;\" x=\"97.272305\" xlink:href=\"#mf1574b3e40\" y=\"239.758125\"/>\n      </g>\n     </g>\n     <g id=\"text_2\">\n      <!-- 0.00 -->\n      <g transform=\"translate(86.139492 254.356562)scale(0.1 -0.1)\">\n       <use xlink:href=\"#DejaVuSans-48\"/>\n       <use x=\"63.623047\" xlink:href=\"#DejaVuSans-46\"/>\n       <use x=\"95.410156\" xlink:href=\"#DejaVuSans-48\"/>\n       <use x=\"159.033203\" xlink:href=\"#DejaVuSans-48\"/>\n      </g>\n     </g>\n    </g>\n    <g id=\"xtick_3\">\n     <g id=\"line2d_3\">\n      <g>\n       <use style=\"stroke:#000000;stroke-width:0.8;\" x=\"131.948333\" xlink:href=\"#mf1574b3e40\" y=\"239.758125\"/>\n      </g>\n     </g>\n     <g id=\"text_3\">\n      <!-- 0.25 -->\n      <g transform=\"translate(120.81552 254.356562)scale(0.1 -0.1)\">\n       <use xlink:href=\"#DejaVuSans-48\"/>\n       <use x=\"63.623047\" xlink:href=\"#DejaVuSans-46\"/>\n       <use x=\"95.410156\" xlink:href=\"#DejaVuSans-50\"/>\n       <use x=\"159.033203\" xlink:href=\"#DejaVuSans-53\"/>\n      </g>\n     </g>\n    </g>\n    <g id=\"xtick_4\">\n     <g id=\"line2d_4\">\n      <g>\n       <use style=\"stroke:#000000;stroke-width:0.8;\" x=\"166.624361\" xlink:href=\"#mf1574b3e40\" y=\"239.758125\"/>\n      </g>\n     </g>\n     <g id=\"text_4\">\n      <!-- 0.50 -->\n      <g transform=\"translate(155.491548 254.356562)scale(0.1 -0.1)\">\n       <use xlink:href=\"#DejaVuSans-48\"/>\n       <use x=\"63.623047\" xlink:href=\"#DejaVuSans-46\"/>\n       <use x=\"95.410156\" xlink:href=\"#DejaVuSans-53\"/>\n       <use x=\"159.033203\" xlink:href=\"#DejaVuSans-48\"/>\n      </g>\n     </g>\n    </g>\n    <g id=\"xtick_5\">\n     <g id=\"line2d_5\">\n      <g>\n       <use style=\"stroke:#000000;stroke-width:0.8;\" x=\"201.300389\" xlink:href=\"#mf1574b3e40\" y=\"239.758125\"/>\n      </g>\n     </g>\n     <g id=\"text_5\">\n      <!-- 0.75 -->\n      <defs>\n       <path d=\"M 8.203125 72.90625 \nL 55.078125 72.90625 \nL 55.078125 68.703125 \nL 28.609375 0 \nL 18.3125 0 \nL 43.21875 64.59375 \nL 8.203125 64.59375 \nz\n\" id=\"DejaVuSans-55\"/>\n      </defs>\n      <g transform=\"translate(190.167577 254.356562)scale(0.1 -0.1)\">\n       <use xlink:href=\"#DejaVuSans-48\"/>\n       <use x=\"63.623047\" xlink:href=\"#DejaVuSans-46\"/>\n       <use x=\"95.410156\" xlink:href=\"#DejaVuSans-55\"/>\n       <use x=\"159.033203\" xlink:href=\"#DejaVuSans-53\"/>\n      </g>\n     </g>\n    </g>\n    <g id=\"xtick_6\">\n     <g id=\"line2d_6\">\n      <g>\n       <use style=\"stroke:#000000;stroke-width:0.8;\" x=\"235.976417\" xlink:href=\"#mf1574b3e40\" y=\"239.758125\"/>\n      </g>\n     </g>\n     <g id=\"text_6\">\n      <!-- 1.00 -->\n      <defs>\n       <path d=\"M 12.40625 8.296875 \nL 28.515625 8.296875 \nL 28.515625 63.921875 \nL 10.984375 60.40625 \nL 10.984375 69.390625 \nL 28.421875 72.90625 \nL 38.28125 72.90625 \nL 38.28125 8.296875 \nL 54.390625 8.296875 \nL 54.390625 0 \nL 12.40625 0 \nz\n\" id=\"DejaVuSans-49\"/>\n      </defs>\n      <g transform=\"translate(224.843605 254.356562)scale(0.1 -0.1)\">\n       <use xlink:href=\"#DejaVuSans-49\"/>\n       <use x=\"63.623047\" xlink:href=\"#DejaVuSans-46\"/>\n       <use x=\"95.410156\" xlink:href=\"#DejaVuSans-48\"/>\n       <use x=\"159.033203\" xlink:href=\"#DejaVuSans-48\"/>\n      </g>\n     </g>\n    </g>\n    <g id=\"xtick_7\">\n     <g id=\"line2d_7\">\n      <g>\n       <use style=\"stroke:#000000;stroke-width:0.8;\" x=\"270.652446\" xlink:href=\"#mf1574b3e40\" y=\"239.758125\"/>\n      </g>\n     </g>\n     <g id=\"text_7\">\n      <!-- 1.25 -->\n      <g transform=\"translate(259.519633 254.356562)scale(0.1 -0.1)\">\n       <use xlink:href=\"#DejaVuSans-49\"/>\n       <use x=\"63.623047\" xlink:href=\"#DejaVuSans-46\"/>\n       <use x=\"95.410156\" xlink:href=\"#DejaVuSans-50\"/>\n       <use x=\"159.033203\" xlink:href=\"#DejaVuSans-53\"/>\n      </g>\n     </g>\n    </g>\n    <g id=\"text_8\">\n     <!-- $x_1$ -->\n     <defs>\n      <path d=\"M 60.015625 54.6875 \nL 34.90625 27.875 \nL 50.296875 0 \nL 39.984375 0 \nL 28.421875 21.6875 \nL 8.296875 0 \nL -2.59375 0 \nL 24.3125 28.8125 \nL 10.015625 54.6875 \nL 20.3125 54.6875 \nL 30.8125 34.90625 \nL 49.125 54.6875 \nz\n\" id=\"DejaVuSans-Oblique-120\"/>\n     </defs>\n     <g transform=\"translate(158.410938 268.034687)scale(0.1 -0.1)\">\n      <use transform=\"translate(0 0.3125)\" xlink:href=\"#DejaVuSans-Oblique-120\"/>\n      <use transform=\"translate(59.179688 -16.09375)scale(0.7)\" xlink:href=\"#DejaVuSans-49\"/>\n     </g>\n    </g>\n   </g>\n   <g id=\"matplotlib.axis_2\">\n    <g id=\"ytick_1\">\n     <g id=\"line2d_8\">\n      <defs>\n       <path d=\"M 0 0 \nL -3.5 0 \n\" id=\"m3d0ca2abec\" style=\"stroke:#000000;stroke-width:0.8;\"/>\n      </defs>\n      <g>\n       <use style=\"stroke:#000000;stroke-width:0.8;\" x=\"52.160938\" xlink:href=\"#m3d0ca2abec\" y=\"223.94267\"/>\n      </g>\n     </g>\n     <g id=\"text_9\">\n      <!-- −0.2 -->\n      <g transform=\"translate(20.878125 227.741889)scale(0.1 -0.1)\">\n       <use xlink:href=\"#DejaVuSans-8722\"/>\n       <use x=\"83.789062\" xlink:href=\"#DejaVuSans-48\"/>\n       <use x=\"147.412109\" xlink:href=\"#DejaVuSans-46\"/>\n       <use x=\"179.199219\" xlink:href=\"#DejaVuSans-50\"/>\n      </g>\n     </g>\n    </g>\n    <g id=\"ytick_2\">\n     <g id=\"line2d_9\">\n      <g>\n       <use style=\"stroke:#000000;stroke-width:0.8;\" x=\"52.160938\" xlink:href=\"#m3d0ca2abec\" y=\"196.335617\"/>\n      </g>\n     </g>\n     <g id=\"text_10\">\n      <!-- 0.0 -->\n      <g transform=\"translate(29.257812 200.134836)scale(0.1 -0.1)\">\n       <use xlink:href=\"#DejaVuSans-48\"/>\n       <use x=\"63.623047\" xlink:href=\"#DejaVuSans-46\"/>\n       <use x=\"95.410156\" xlink:href=\"#DejaVuSans-48\"/>\n      </g>\n     </g>\n    </g>\n    <g id=\"ytick_3\">\n     <g id=\"line2d_10\">\n      <g>\n       <use style=\"stroke:#000000;stroke-width:0.8;\" x=\"52.160938\" xlink:href=\"#m3d0ca2abec\" y=\"168.728564\"/>\n      </g>\n     </g>\n     <g id=\"text_11\">\n      <!-- 0.2 -->\n      <g transform=\"translate(29.257812 172.527783)scale(0.1 -0.1)\">\n       <use xlink:href=\"#DejaVuSans-48\"/>\n       <use x=\"63.623047\" xlink:href=\"#DejaVuSans-46\"/>\n       <use x=\"95.410156\" xlink:href=\"#DejaVuSans-50\"/>\n      </g>\n     </g>\n    </g>\n    <g id=\"ytick_4\">\n     <g id=\"line2d_11\">\n      <g>\n       <use style=\"stroke:#000000;stroke-width:0.8;\" x=\"52.160938\" xlink:href=\"#m3d0ca2abec\" y=\"141.12151\"/>\n      </g>\n     </g>\n     <g id=\"text_12\">\n      <!-- 0.4 -->\n      <defs>\n       <path d=\"M 37.796875 64.3125 \nL 12.890625 25.390625 \nL 37.796875 25.390625 \nz\nM 35.203125 72.90625 \nL 47.609375 72.90625 \nL 47.609375 25.390625 \nL 58.015625 25.390625 \nL 58.015625 17.1875 \nL 47.609375 17.1875 \nL 47.609375 0 \nL 37.796875 0 \nL 37.796875 17.1875 \nL 4.890625 17.1875 \nL 4.890625 26.703125 \nz\n\" id=\"DejaVuSans-52\"/>\n      </defs>\n      <g transform=\"translate(29.257812 144.920729)scale(0.1 -0.1)\">\n       <use xlink:href=\"#DejaVuSans-48\"/>\n       <use x=\"63.623047\" xlink:href=\"#DejaVuSans-46\"/>\n       <use x=\"95.410156\" xlink:href=\"#DejaVuSans-52\"/>\n      </g>\n     </g>\n    </g>\n    <g id=\"ytick_5\">\n     <g id=\"line2d_12\">\n      <g>\n       <use style=\"stroke:#000000;stroke-width:0.8;\" x=\"52.160938\" xlink:href=\"#m3d0ca2abec\" y=\"113.514457\"/>\n      </g>\n     </g>\n     <g id=\"text_13\">\n      <!-- 0.6 -->\n      <defs>\n       <path d=\"M 33.015625 40.375 \nQ 26.375 40.375 22.484375 35.828125 \nQ 18.609375 31.296875 18.609375 23.390625 \nQ 18.609375 15.53125 22.484375 10.953125 \nQ 26.375 6.390625 33.015625 6.390625 \nQ 39.65625 6.390625 43.53125 10.953125 \nQ 47.40625 15.53125 47.40625 23.390625 \nQ 47.40625 31.296875 43.53125 35.828125 \nQ 39.65625 40.375 33.015625 40.375 \nz\nM 52.59375 71.296875 \nL 52.59375 62.3125 \nQ 48.875 64.0625 45.09375 64.984375 \nQ 41.3125 65.921875 37.59375 65.921875 \nQ 27.828125 65.921875 22.671875 59.328125 \nQ 17.53125 52.734375 16.796875 39.40625 \nQ 19.671875 43.65625 24.015625 45.921875 \nQ 28.375 48.1875 33.59375 48.1875 \nQ 44.578125 48.1875 50.953125 41.515625 \nQ 57.328125 34.859375 57.328125 23.390625 \nQ 57.328125 12.15625 50.6875 5.359375 \nQ 44.046875 -1.421875 33.015625 -1.421875 \nQ 20.359375 -1.421875 13.671875 8.265625 \nQ 6.984375 17.96875 6.984375 36.375 \nQ 6.984375 53.65625 15.1875 63.9375 \nQ 23.390625 74.21875 37.203125 74.21875 \nQ 40.921875 74.21875 44.703125 73.484375 \nQ 48.484375 72.75 52.59375 71.296875 \nz\n\" id=\"DejaVuSans-54\"/>\n      </defs>\n      <g transform=\"translate(29.257812 117.313676)scale(0.1 -0.1)\">\n       <use xlink:href=\"#DejaVuSans-48\"/>\n       <use x=\"63.623047\" xlink:href=\"#DejaVuSans-46\"/>\n       <use x=\"95.410156\" xlink:href=\"#DejaVuSans-54\"/>\n      </g>\n     </g>\n    </g>\n    <g id=\"ytick_6\">\n     <g id=\"line2d_13\">\n      <g>\n       <use style=\"stroke:#000000;stroke-width:0.8;\" x=\"52.160938\" xlink:href=\"#m3d0ca2abec\" y=\"85.907404\"/>\n      </g>\n     </g>\n     <g id=\"text_14\">\n      <!-- 0.8 -->\n      <defs>\n       <path d=\"M 31.78125 34.625 \nQ 24.75 34.625 20.71875 30.859375 \nQ 16.703125 27.09375 16.703125 20.515625 \nQ 16.703125 13.921875 20.71875 10.15625 \nQ 24.75 6.390625 31.78125 6.390625 \nQ 38.8125 6.390625 42.859375 10.171875 \nQ 46.921875 13.96875 46.921875 20.515625 \nQ 46.921875 27.09375 42.890625 30.859375 \nQ 38.875 34.625 31.78125 34.625 \nz\nM 21.921875 38.8125 \nQ 15.578125 40.375 12.03125 44.71875 \nQ 8.5 49.078125 8.5 55.328125 \nQ 8.5 64.0625 14.71875 69.140625 \nQ 20.953125 74.21875 31.78125 74.21875 \nQ 42.671875 74.21875 48.875 69.140625 \nQ 55.078125 64.0625 55.078125 55.328125 \nQ 55.078125 49.078125 51.53125 44.71875 \nQ 48 40.375 41.703125 38.8125 \nQ 48.828125 37.15625 52.796875 32.3125 \nQ 56.78125 27.484375 56.78125 20.515625 \nQ 56.78125 9.90625 50.3125 4.234375 \nQ 43.84375 -1.421875 31.78125 -1.421875 \nQ 19.734375 -1.421875 13.25 4.234375 \nQ 6.78125 9.90625 6.78125 20.515625 \nQ 6.78125 27.484375 10.78125 32.3125 \nQ 14.796875 37.15625 21.921875 38.8125 \nz\nM 18.3125 54.390625 \nQ 18.3125 48.734375 21.84375 45.5625 \nQ 25.390625 42.390625 31.78125 42.390625 \nQ 38.140625 42.390625 41.71875 45.5625 \nQ 45.3125 48.734375 45.3125 54.390625 \nQ 45.3125 60.0625 41.71875 63.234375 \nQ 38.140625 66.40625 31.78125 66.40625 \nQ 25.390625 66.40625 21.84375 63.234375 \nQ 18.3125 60.0625 18.3125 54.390625 \nz\n\" id=\"DejaVuSans-56\"/>\n      </defs>\n      <g transform=\"translate(29.257812 89.706623)scale(0.1 -0.1)\">\n       <use xlink:href=\"#DejaVuSans-48\"/>\n       <use x=\"63.623047\" xlink:href=\"#DejaVuSans-46\"/>\n       <use x=\"95.410156\" xlink:href=\"#DejaVuSans-56\"/>\n      </g>\n     </g>\n    </g>\n    <g id=\"ytick_7\">\n     <g id=\"line2d_14\">\n      <g>\n       <use style=\"stroke:#000000;stroke-width:0.8;\" x=\"52.160938\" xlink:href=\"#m3d0ca2abec\" y=\"58.300351\"/>\n      </g>\n     </g>\n     <g id=\"text_15\">\n      <!-- 1.0 -->\n      <g transform=\"translate(29.257812 62.099569)scale(0.1 -0.1)\">\n       <use xlink:href=\"#DejaVuSans-49\"/>\n       <use x=\"63.623047\" xlink:href=\"#DejaVuSans-46\"/>\n       <use x=\"95.410156\" xlink:href=\"#DejaVuSans-48\"/>\n      </g>\n     </g>\n    </g>\n    <g id=\"ytick_8\">\n     <g id=\"line2d_15\">\n      <g>\n       <use style=\"stroke:#000000;stroke-width:0.8;\" x=\"52.160938\" xlink:href=\"#m3d0ca2abec\" y=\"30.693297\"/>\n      </g>\n     </g>\n     <g id=\"text_16\">\n      <!-- 1.2 -->\n      <g transform=\"translate(29.257812 34.492516)scale(0.1 -0.1)\">\n       <use xlink:href=\"#DejaVuSans-49\"/>\n       <use x=\"63.623047\" xlink:href=\"#DejaVuSans-46\"/>\n       <use x=\"95.410156\" xlink:href=\"#DejaVuSans-50\"/>\n      </g>\n     </g>\n    </g>\n    <g id=\"text_17\">\n     <!-- $x_2$ -->\n     <g transform=\"translate(14.798438 136.388125)rotate(-90)scale(0.1 -0.1)\">\n      <use transform=\"translate(0 0.3125)\" xlink:href=\"#DejaVuSans-Oblique-120\"/>\n      <use transform=\"translate(59.179688 -16.09375)scale(0.7)\" xlink:href=\"#DejaVuSans-50\"/>\n     </g>\n    </g>\n   </g>\n   <g id=\"patch_3\">\n    <path d=\"M 52.160938 239.758125 \nL 52.160938 22.318125 \n\" style=\"fill:none;stroke:#000000;stroke-linecap:square;stroke-linejoin:miter;stroke-width:0.8;\"/>\n   </g>\n   <g id=\"patch_4\">\n    <path d=\"M 275.360937 239.758125 \nL 275.360937 22.318125 \n\" style=\"fill:none;stroke:#000000;stroke-linecap:square;stroke-linejoin:miter;stroke-width:0.8;\"/>\n   </g>\n   <g id=\"patch_5\">\n    <path d=\"M 52.160937 239.758125 \nL 275.360937 239.758125 \n\" style=\"fill:none;stroke:#000000;stroke-linecap:square;stroke-linejoin:miter;stroke-width:0.8;\"/>\n   </g>\n   <g id=\"patch_6\">\n    <path d=\"M 52.160937 22.318125 \nL 275.360937 22.318125 \n\" style=\"fill:none;stroke:#000000;stroke-linecap:square;stroke-linejoin:miter;stroke-width:0.8;\"/>\n   </g>\n   <g id=\"text_18\">\n    <!-- Dataset samples -->\n    <defs>\n     <path d=\"M 19.671875 64.796875 \nL 19.671875 8.109375 \nL 31.59375 8.109375 \nQ 46.6875 8.109375 53.6875 14.9375 \nQ 60.6875 21.78125 60.6875 36.53125 \nQ 60.6875 51.171875 53.6875 57.984375 \nQ 46.6875 64.796875 31.59375 64.796875 \nz\nM 9.8125 72.90625 \nL 30.078125 72.90625 \nQ 51.265625 72.90625 61.171875 64.09375 \nQ 71.09375 55.28125 71.09375 36.53125 \nQ 71.09375 17.671875 61.125 8.828125 \nQ 51.171875 0 30.078125 0 \nL 9.8125 0 \nz\n\" id=\"DejaVuSans-68\"/>\n     <path d=\"M 34.28125 27.484375 \nQ 23.390625 27.484375 19.1875 25 \nQ 14.984375 22.515625 14.984375 16.5 \nQ 14.984375 11.71875 18.140625 8.90625 \nQ 21.296875 6.109375 26.703125 6.109375 \nQ 34.1875 6.109375 38.703125 11.40625 \nQ 43.21875 16.703125 43.21875 25.484375 \nL 43.21875 27.484375 \nz\nM 52.203125 31.203125 \nL 52.203125 0 \nL 43.21875 0 \nL 43.21875 8.296875 \nQ 40.140625 3.328125 35.546875 0.953125 \nQ 30.953125 -1.421875 24.3125 -1.421875 \nQ 15.921875 -1.421875 10.953125 3.296875 \nQ 6 8.015625 6 15.921875 \nQ 6 25.140625 12.171875 29.828125 \nQ 18.359375 34.515625 30.609375 34.515625 \nL 43.21875 34.515625 \nL 43.21875 35.40625 \nQ 43.21875 41.609375 39.140625 45 \nQ 35.0625 48.390625 27.6875 48.390625 \nQ 23 48.390625 18.546875 47.265625 \nQ 14.109375 46.140625 10.015625 43.890625 \nL 10.015625 52.203125 \nQ 14.9375 54.109375 19.578125 55.046875 \nQ 24.21875 56 28.609375 56 \nQ 40.484375 56 46.34375 49.84375 \nQ 52.203125 43.703125 52.203125 31.203125 \nz\n\" id=\"DejaVuSans-97\"/>\n     <path d=\"M 18.3125 70.21875 \nL 18.3125 54.6875 \nL 36.8125 54.6875 \nL 36.8125 47.703125 \nL 18.3125 47.703125 \nL 18.3125 18.015625 \nQ 18.3125 11.328125 20.140625 9.421875 \nQ 21.96875 7.515625 27.59375 7.515625 \nL 36.8125 7.515625 \nL 36.8125 0 \nL 27.59375 0 \nQ 17.1875 0 13.234375 3.875 \nQ 9.28125 7.765625 9.28125 18.015625 \nL 9.28125 47.703125 \nL 2.6875 47.703125 \nL 2.6875 54.6875 \nL 9.28125 54.6875 \nL 9.28125 70.21875 \nz\n\" id=\"DejaVuSans-116\"/>\n     <path d=\"M 44.28125 53.078125 \nL 44.28125 44.578125 \nQ 40.484375 46.53125 36.375 47.5 \nQ 32.28125 48.484375 27.875 48.484375 \nQ 21.1875 48.484375 17.84375 46.4375 \nQ 14.5 44.390625 14.5 40.28125 \nQ 14.5 37.15625 16.890625 35.375 \nQ 19.28125 33.59375 26.515625 31.984375 \nL 29.59375 31.296875 \nQ 39.15625 29.25 43.1875 25.515625 \nQ 47.21875 21.78125 47.21875 15.09375 \nQ 47.21875 7.46875 41.1875 3.015625 \nQ 35.15625 -1.421875 24.609375 -1.421875 \nQ 20.21875 -1.421875 15.453125 -0.5625 \nQ 10.6875 0.296875 5.421875 2 \nL 5.421875 11.28125 \nQ 10.40625 8.6875 15.234375 7.390625 \nQ 20.0625 6.109375 24.8125 6.109375 \nQ 31.15625 6.109375 34.5625 8.28125 \nQ 37.984375 10.453125 37.984375 14.40625 \nQ 37.984375 18.0625 35.515625 20.015625 \nQ 33.0625 21.96875 24.703125 23.78125 \nL 21.578125 24.515625 \nQ 13.234375 26.265625 9.515625 29.90625 \nQ 5.8125 33.546875 5.8125 39.890625 \nQ 5.8125 47.609375 11.28125 51.796875 \nQ 16.75 56 26.8125 56 \nQ 31.78125 56 36.171875 55.265625 \nQ 40.578125 54.546875 44.28125 53.078125 \nz\n\" id=\"DejaVuSans-115\"/>\n     <path d=\"M 56.203125 29.59375 \nL 56.203125 25.203125 \nL 14.890625 25.203125 \nQ 15.484375 15.921875 20.484375 11.0625 \nQ 25.484375 6.203125 34.421875 6.203125 \nQ 39.59375 6.203125 44.453125 7.46875 \nQ 49.3125 8.734375 54.109375 11.28125 \nL 54.109375 2.78125 \nQ 49.265625 0.734375 44.1875 -0.34375 \nQ 39.109375 -1.421875 33.890625 -1.421875 \nQ 20.796875 -1.421875 13.15625 6.1875 \nQ 5.515625 13.8125 5.515625 26.8125 \nQ 5.515625 40.234375 12.765625 48.109375 \nQ 20.015625 56 32.328125 56 \nQ 43.359375 56 49.78125 48.890625 \nQ 56.203125 41.796875 56.203125 29.59375 \nz\nM 47.21875 32.234375 \nQ 47.125 39.59375 43.09375 43.984375 \nQ 39.0625 48.390625 32.421875 48.390625 \nQ 24.90625 48.390625 20.390625 44.140625 \nQ 15.875 39.890625 15.1875 32.171875 \nz\n\" id=\"DejaVuSans-101\"/>\n     <path id=\"DejaVuSans-32\"/>\n     <path d=\"M 52 44.1875 \nQ 55.375 50.25 60.0625 53.125 \nQ 64.75 56 71.09375 56 \nQ 79.640625 56 84.28125 50.015625 \nQ 88.921875 44.046875 88.921875 33.015625 \nL 88.921875 0 \nL 79.890625 0 \nL 79.890625 32.71875 \nQ 79.890625 40.578125 77.09375 44.375 \nQ 74.3125 48.1875 68.609375 48.1875 \nQ 61.625 48.1875 57.5625 43.546875 \nQ 53.515625 38.921875 53.515625 30.90625 \nL 53.515625 0 \nL 44.484375 0 \nL 44.484375 32.71875 \nQ 44.484375 40.625 41.703125 44.40625 \nQ 38.921875 48.1875 33.109375 48.1875 \nQ 26.21875 48.1875 22.15625 43.53125 \nQ 18.109375 38.875 18.109375 30.90625 \nL 18.109375 0 \nL 9.078125 0 \nL 9.078125 54.6875 \nL 18.109375 54.6875 \nL 18.109375 46.1875 \nQ 21.1875 51.21875 25.484375 53.609375 \nQ 29.78125 56 35.6875 56 \nQ 41.65625 56 45.828125 52.96875 \nQ 50 49.953125 52 44.1875 \nz\n\" id=\"DejaVuSans-109\"/>\n     <path d=\"M 18.109375 8.203125 \nL 18.109375 -20.796875 \nL 9.078125 -20.796875 \nL 9.078125 54.6875 \nL 18.109375 54.6875 \nL 18.109375 46.390625 \nQ 20.953125 51.265625 25.265625 53.625 \nQ 29.59375 56 35.59375 56 \nQ 45.5625 56 51.78125 48.09375 \nQ 58.015625 40.1875 58.015625 27.296875 \nQ 58.015625 14.40625 51.78125 6.484375 \nQ 45.5625 -1.421875 35.59375 -1.421875 \nQ 29.59375 -1.421875 25.265625 0.953125 \nQ 20.953125 3.328125 18.109375 8.203125 \nz\nM 48.6875 27.296875 \nQ 48.6875 37.203125 44.609375 42.84375 \nQ 40.53125 48.484375 33.40625 48.484375 \nQ 26.265625 48.484375 22.1875 42.84375 \nQ 18.109375 37.203125 18.109375 27.296875 \nQ 18.109375 17.390625 22.1875 11.75 \nQ 26.265625 6.109375 33.40625 6.109375 \nQ 40.53125 6.109375 44.609375 11.75 \nQ 48.6875 17.390625 48.6875 27.296875 \nz\n\" id=\"DejaVuSans-112\"/>\n     <path d=\"M 9.421875 75.984375 \nL 18.40625 75.984375 \nL 18.40625 0 \nL 9.421875 0 \nz\n\" id=\"DejaVuSans-108\"/>\n    </defs>\n    <g transform=\"translate(113.418125 16.318125)scale(0.12 -0.12)\">\n     <use xlink:href=\"#DejaVuSans-68\"/>\n     <use x=\"77.001953\" xlink:href=\"#DejaVuSans-97\"/>\n     <use x=\"138.28125\" xlink:href=\"#DejaVuSans-116\"/>\n     <use x=\"177.490234\" xlink:href=\"#DejaVuSans-97\"/>\n     <use x=\"238.769531\" xlink:href=\"#DejaVuSans-115\"/>\n     <use x=\"290.869141\" xlink:href=\"#DejaVuSans-101\"/>\n     <use x=\"352.392578\" xlink:href=\"#DejaVuSans-116\"/>\n     <use x=\"391.601562\" xlink:href=\"#DejaVuSans-32\"/>\n     <use x=\"423.388672\" xlink:href=\"#DejaVuSans-115\"/>\n     <use x=\"475.488281\" xlink:href=\"#DejaVuSans-97\"/>\n     <use x=\"536.767578\" xlink:href=\"#DejaVuSans-109\"/>\n     <use x=\"634.179688\" xlink:href=\"#DejaVuSans-112\"/>\n     <use x=\"697.65625\" xlink:href=\"#DejaVuSans-108\"/>\n     <use x=\"725.439453\" xlink:href=\"#DejaVuSans-101\"/>\n     <use x=\"786.962891\" xlink:href=\"#DejaVuSans-115\"/>\n    </g>\n   </g>\n   <g id=\"legend_1\">\n    <g id=\"patch_7\">\n     <path d=\"M 200.5125 147.21625 \nL 268.360937 147.21625 \nQ 270.360937 147.21625 270.360937 145.21625 \nL 270.360937 116.86 \nQ 270.360937 114.86 268.360937 114.86 \nL 200.5125 114.86 \nQ 198.5125 114.86 198.5125 116.86 \nL 198.5125 145.21625 \nQ 198.5125 147.21625 200.5125 147.21625 \nz\n\" style=\"fill:#ffffff;opacity:0.8;stroke:#cccccc;stroke-linejoin:miter;\"/>\n    </g>\n    <g id=\"PathCollection_3\">\n     <g>\n      <use style=\"fill:#1f77b4;stroke:#333333;\" x=\"212.5125\" xlink:href=\"#mb605862fc8\" y=\"123.833437\"/>\n     </g>\n    </g>\n    <g id=\"text_19\">\n     <!-- Class 0 -->\n     <defs>\n      <path d=\"M 64.40625 67.28125 \nL 64.40625 56.890625 \nQ 59.421875 61.53125 53.78125 63.8125 \nQ 48.140625 66.109375 41.796875 66.109375 \nQ 29.296875 66.109375 22.65625 58.46875 \nQ 16.015625 50.828125 16.015625 36.375 \nQ 16.015625 21.96875 22.65625 14.328125 \nQ 29.296875 6.6875 41.796875 6.6875 \nQ 48.140625 6.6875 53.78125 8.984375 \nQ 59.421875 11.28125 64.40625 15.921875 \nL 64.40625 5.609375 \nQ 59.234375 2.09375 53.4375 0.328125 \nQ 47.65625 -1.421875 41.21875 -1.421875 \nQ 24.65625 -1.421875 15.125 8.703125 \nQ 5.609375 18.84375 5.609375 36.375 \nQ 5.609375 53.953125 15.125 64.078125 \nQ 24.65625 74.21875 41.21875 74.21875 \nQ 47.75 74.21875 53.53125 72.484375 \nQ 59.328125 70.75 64.40625 67.28125 \nz\n\" id=\"DejaVuSans-67\"/>\n     </defs>\n     <g transform=\"translate(230.5125 126.458437)scale(0.1 -0.1)\">\n      <use xlink:href=\"#DejaVuSans-67\"/>\n      <use x=\"69.824219\" xlink:href=\"#DejaVuSans-108\"/>\n      <use x=\"97.607422\" xlink:href=\"#DejaVuSans-97\"/>\n      <use x=\"158.886719\" xlink:href=\"#DejaVuSans-115\"/>\n      <use x=\"210.986328\" xlink:href=\"#DejaVuSans-115\"/>\n      <use x=\"263.085938\" xlink:href=\"#DejaVuSans-32\"/>\n      <use x=\"294.873047\" xlink:href=\"#DejaVuSans-48\"/>\n     </g>\n    </g>\n    <g id=\"PathCollection_4\">\n     <g>\n      <use style=\"fill:#ff7f0e;stroke:#333333;\" x=\"212.5125\" xlink:href=\"#mf5c840f96a\" y=\"138.511562\"/>\n     </g>\n    </g>\n    <g id=\"text_20\">\n     <!-- Class 1 -->\n     <g transform=\"translate(230.5125 141.136562)scale(0.1 -0.1)\">\n      <use xlink:href=\"#DejaVuSans-67\"/>\n      <use x=\"69.824219\" xlink:href=\"#DejaVuSans-108\"/>\n      <use x=\"97.607422\" xlink:href=\"#DejaVuSans-97\"/>\n      <use x=\"158.886719\" xlink:href=\"#DejaVuSans-115\"/>\n      <use x=\"210.986328\" xlink:href=\"#DejaVuSans-115\"/>\n      <use x=\"263.085938\" xlink:href=\"#DejaVuSans-32\"/>\n      <use x=\"294.873047\" xlink:href=\"#DejaVuSans-49\"/>\n     </g>\n    </g>\n   </g>\n  </g>\n </g>\n <defs>\n  <clipPath id=\"pfe8b1e6faf\">\n   <rect height=\"217.44\" width=\"223.2\" x=\"52.160938\" y=\"22.318125\"/>\n  </clipPath>\n </defs>\n</svg>\n",
            "application/pdf": "[encoded data removed]"
          },
          "metadata": {
            "needs_background": "light"
          }
        }
      ],
      "source": [
        "visualize_samples(dataset.data, dataset.label)\n",
        "plt.show()"
      ]
    },
    {
      "cell_type": "markdown",
      "id": "15517be1",
      "metadata": {
        "papermill": {
          "duration": 0.018173,
          "end_time": "2022-05-12T11:44:51.091968",
          "exception": false,
          "start_time": "2022-05-12T11:44:51.073795",
          "status": "completed"
        },
        "tags": [],
        "id": "15517be1"
      },
      "source": [
        "#### The data loader class\n",
        "\n",
        "The class `torch.utils.data.DataLoader` represents a Python iterable over a dataset with support for automatic batching, multi-process data loading and many more features.\n",
        "The data loader communicates with the dataset using the function `__getitem__`, and stacks its outputs as tensors over the first dimension to form a batch.\n",
        "In contrast to the dataset class, we usually don't have to define our own data loader class, but can just create an object of it with the dataset as input.\n",
        "Additionally, we can configure our data loader with the following input arguments (only a selection, see full list [here](https://pytorch.org/docs/stable/data.html#torch.utils.data.DataLoader)):\n",
        "\n",
        "* `batch_size`: Number of samples to stack per batch\n",
        "* `shuffle`: If True, the data is returned in a random order.\n",
        "This is important during training for introducing stochasticity.\n",
        "* `num_workers`: Number of subprocesses to use for data loading.\n",
        "The default, 0, means that the data will be loaded in the main process which can slow down training for datasets where loading a data point takes a considerable amount of time (e.g. large images).\n",
        "More workers are recommended for those, but can cause issues on Windows computers.\n",
        "For tiny datasets as ours, 0 workers are usually faster.\n",
        "* `pin_memory`: If True, the data loader will copy Tensors into CUDA pinned memory before returning them.\n",
        "This can save some time for large data points on GPUs.\n",
        "Usually a good practice to use for a training set, but not necessarily for validation and test to save memory on the GPU.\n",
        "* `drop_last`: If True, the last batch is dropped in case it is smaller than the specified batch size.\n",
        "This occurs when the dataset size is not a multiple of the batch size.\n",
        "Only potentially helpful during training to keep a consistent batch size.\n",
        "\n",
        "Let's create a simple data loader below:"
      ]
    },
    {
      "cell_type": "code",
      "execution_count": 43,
      "id": "c92e0b1f",
      "metadata": {
        "execution": {
          "iopub.execute_input": "2022-05-12T11:44:51.132953Z",
          "iopub.status.busy": "2022-05-12T11:44:51.132455Z",
          "iopub.status.idle": "2022-05-12T11:44:51.137249Z",
          "shell.execute_reply": "2022-05-12T11:44:51.136504Z"
        },
        "papermill": {
          "duration": 0.027282,
          "end_time": "2022-05-12T11:44:51.138825",
          "exception": false,
          "start_time": "2022-05-12T11:44:51.111543",
          "status": "completed"
        },
        "tags": [],
        "id": "c92e0b1f"
      },
      "outputs": [],
      "source": [
        "data_loader = data.DataLoader(dataset, batch_size=8, shuffle=True)"
      ]
    },
    {
      "cell_type": "code",
      "execution_count": 44,
      "id": "3cecbb71",
      "metadata": {
        "execution": {
          "iopub.execute_input": "2022-05-12T11:44:51.179767Z",
          "iopub.status.busy": "2022-05-12T11:44:51.179277Z",
          "iopub.status.idle": "2022-05-12T11:44:51.186082Z",
          "shell.execute_reply": "2022-05-12T11:44:51.185384Z"
        },
        "papermill": {
          "duration": 0.029377,
          "end_time": "2022-05-12T11:44:51.187671",
          "exception": false,
          "start_time": "2022-05-12T11:44:51.158294",
          "status": "completed"
        },
        "tags": [],
        "id": "3cecbb71",
        "outputId": "ece90078-700c-48f0-cd7f-ec09adf66990",
        "colab": {
          "base_uri": "https://localhost:8080/"
        }
      },
      "outputs": [
        {
          "output_type": "stream",
          "name": "stdout",
          "text": [
            "Data inputs torch.Size([8, 2]) \n",
            " tensor([[-0.0890,  0.8608],\n",
            "        [ 1.0905, -0.0128],\n",
            "        [ 0.7967,  0.2268],\n",
            "        [-0.0688,  0.0371],\n",
            "        [ 0.8732, -0.2240],\n",
            "        [-0.0559, -0.0282],\n",
            "        [ 0.9277,  0.0978],\n",
            "        [ 1.0150,  0.9689]])\n",
            "Data labels torch.Size([8]) \n",
            " tensor([1, 1, 1, 0, 1, 0, 1, 0])\n"
          ]
        }
      ],
      "source": [
        "# next(iter(...)) catches the first batch of the data loader\n",
        "# If shuffle is True, this will return a different batch every time we run this cell\n",
        "# For iterating over the whole dataset, we can simple use \"for batch in data_loader: ...\"\n",
        "data_inputs, data_labels = next(iter(data_loader))\n",
        "\n",
        "# The shape of the outputs are [batch_size, d_1,...,d_N] where d_1,...,d_N are the\n",
        "# dimensions of the data point returned from the dataset class\n",
        "print(\"Data inputs\", data_inputs.shape, \"\\n\", data_inputs)\n",
        "print(\"Data labels\", data_labels.shape, \"\\n\", data_labels)"
      ]
    },
    {
      "cell_type": "markdown",
      "id": "0ea28926",
      "metadata": {
        "papermill": {
          "duration": 0.018884,
          "end_time": "2022-05-12T11:44:51.225856",
          "exception": false,
          "start_time": "2022-05-12T11:44:51.206972",
          "status": "completed"
        },
        "tags": [],
        "id": "0ea28926"
      },
      "source": [
        "### Optimization\n",
        "\n",
        "After defining the model and the dataset, it is time to prepare the optimization of the model.\n",
        "During training, we will perform the following steps:\n",
        "\n",
        "1. Get a batch from the data loader\n",
        "2. Obtain the predictions from the model for the batch\n",
        "3. Calculate the loss based on the difference between predictions and labels\n",
        "4. Backpropagation: calculate the gradients for every parameter with respect to the loss\n",
        "5. Update the parameters of the model in the direction of the gradients\n",
        "\n",
        "We have seen how we can do step 1, 2 and 4 in PyTorch. Now, we will look at step 3 and 5."
      ]
    },
    {
      "cell_type": "markdown",
      "id": "23d434aa",
      "metadata": {
        "papermill": {
          "duration": 0.018939,
          "end_time": "2022-05-12T11:44:51.265448",
          "exception": false,
          "start_time": "2022-05-12T11:44:51.246509",
          "status": "completed"
        },
        "tags": [],
        "id": "23d434aa"
      },
      "source": [
        "#### Loss modules\n",
        "\n",
        "We can calculate the loss for a batch by simply performing a few tensor operations as those are automatically added to the computation graph.\n",
        "For instance, for binary classification, we can use Binary Cross Entropy (BCE) which is defined as follows:\n",
        "\n",
        "$$\\mathcal{L}_{BCE} = -\\sum_i \\left[ y_i \\log x_i + (1 - y_i) \\log (1 - x_i) \\right]$$\n",
        "\n",
        "where $y$ are our labels, and $x$ our predictions, both in the range of $[0,1]$.\n",
        "However, PyTorch already provides a list of predefined loss functions which we can use (see [here](https://pytorch.org/docs/stable/nn.html#loss-functions) for a full list).\n",
        "For instance, for BCE, PyTorch has two modules: `nn.BCELoss()`, `nn.BCEWithLogitsLoss()`.\n",
        "While `nn.BCELoss` expects the inputs $x$ to be in the range $[0,1]$, i.e. the output of a sigmoid, `nn.BCEWithLogitsLoss` combines a sigmoid layer and the BCE loss in a single class.\n",
        "This version is numerically more stable than using a plain Sigmoid followed by a BCE loss because of the logarithms applied in the loss function.\n",
        "Hence, it is adviced to use loss functions applied on \"logits\" where possible (remember to not apply a sigmoid on the output of the model in this case!).\n",
        "For our model defined above, we therefore use the module `nn.BCEWithLogitsLoss`."
      ]
    },
    {
      "cell_type": "code",
      "execution_count": 45,
      "id": "1bd60358",
      "metadata": {
        "execution": {
          "iopub.execute_input": "2022-05-12T11:44:51.305947Z",
          "iopub.status.busy": "2022-05-12T11:44:51.305432Z",
          "iopub.status.idle": "2022-05-12T11:44:51.309449Z",
          "shell.execute_reply": "2022-05-12T11:44:51.308812Z"
        },
        "papermill": {
          "duration": 0.026566,
          "end_time": "2022-05-12T11:44:51.310959",
          "exception": false,
          "start_time": "2022-05-12T11:44:51.284393",
          "status": "completed"
        },
        "tags": [],
        "id": "1bd60358"
      },
      "outputs": [],
      "source": [
        "loss_module = nn.BCEWithLogitsLoss()"
      ]
    },
    {
      "cell_type": "markdown",
      "id": "c5c33644",
      "metadata": {
        "papermill": {
          "duration": 0.020223,
          "end_time": "2022-05-12T11:44:51.350213",
          "exception": false,
          "start_time": "2022-05-12T11:44:51.329990",
          "status": "completed"
        },
        "tags": [],
        "id": "c5c33644"
      },
      "source": [
        "#### Stochastic Gradient Descent\n",
        "\n",
        "For updating the parameters, PyTorch provides the package `torch.optim` that has most popular optimizers implemented.\n",
        "We will discuss the specific optimizers and their differences later in the course, but will for now use the simplest of them: `torch.optim.SGD`.\n",
        "Stochastic Gradient Descent updates parameters by multiplying the gradients with a small constant, called learning rate, and subtracting those from the parameters (hence minimizing the loss).\n",
        "Therefore, we slowly move towards the direction of minimizing the loss.\n",
        "A good default value of the learning rate for a small network as ours is 0.1."
      ]
    },
    {
      "cell_type": "code",
      "execution_count": 46,
      "id": "efbcc924",
      "metadata": {
        "execution": {
          "iopub.execute_input": "2022-05-12T11:44:51.389163Z",
          "iopub.status.busy": "2022-05-12T11:44:51.388685Z",
          "iopub.status.idle": "2022-05-12T11:44:51.392786Z",
          "shell.execute_reply": "2022-05-12T11:44:51.392156Z"
        },
        "papermill": {
          "duration": 0.025047,
          "end_time": "2022-05-12T11:44:51.394344",
          "exception": false,
          "start_time": "2022-05-12T11:44:51.369297",
          "status": "completed"
        },
        "tags": [],
        "id": "efbcc924"
      },
      "outputs": [],
      "source": [
        "# Input to the optimizer are the parameters of the model: model.parameters()\n",
        "optimizer = torch.optim.SGD(model.parameters(), lr=0.1)"
      ]
    },
    {
      "cell_type": "markdown",
      "id": "19480eaf",
      "metadata": {
        "papermill": {
          "duration": 0.017798,
          "end_time": "2022-05-12T11:44:51.429939",
          "exception": false,
          "start_time": "2022-05-12T11:44:51.412141",
          "status": "completed"
        },
        "tags": [],
        "id": "19480eaf"
      },
      "source": [
        "The optimizer provides two useful functions: `optimizer.step()`, and `optimizer.zero_grad()`.\n",
        "The step function updates the parameters based on the gradients as explained above.\n",
        "The function `optimizer.zero_grad()` sets the gradients of all parameters to zero.\n",
        "While this function seems less relevant at first, it is a crucial pre-step before performing backpropagation.\n",
        "If we would call the `backward` function on the loss while the parameter gradients are non-zero from the previous batch, the new gradients would actually be added to the previous ones instead of overwriting them.\n",
        "This is done because a parameter might occur multiple times in a computation graph, and we need to sum the gradients in this case instead of replacing them.\n",
        "Hence, remember to call `optimizer.zero_grad()` before calculating the gradients of a batch."
      ]
    },
    {
      "cell_type": "markdown",
      "id": "ccaab844",
      "metadata": {
        "papermill": {
          "duration": 0.017645,
          "end_time": "2022-05-12T11:44:51.465911",
          "exception": false,
          "start_time": "2022-05-12T11:44:51.448266",
          "status": "completed"
        },
        "tags": [],
        "id": "ccaab844"
      },
      "source": [
        "### Training\n",
        "\n",
        "Finally, we are ready to train our model.\n",
        "As a first step, we create a slightly larger dataset and specify a data loader with a larger batch size."
      ]
    },
    {
      "cell_type": "code",
      "execution_count": 47,
      "id": "460b33b3",
      "metadata": {
        "execution": {
          "iopub.execute_input": "2022-05-12T11:44:51.503355Z",
          "iopub.status.busy": "2022-05-12T11:44:51.502870Z",
          "iopub.status.idle": "2022-05-12T11:44:51.507486Z",
          "shell.execute_reply": "2022-05-12T11:44:51.506855Z"
        },
        "papermill": {
          "duration": 0.025412,
          "end_time": "2022-05-12T11:44:51.508996",
          "exception": false,
          "start_time": "2022-05-12T11:44:51.483584",
          "status": "completed"
        },
        "tags": [],
        "id": "460b33b3"
      },
      "outputs": [],
      "source": [
        "train_dataset = XORDataset(size=1000)\n",
        "train_data_loader = data.DataLoader(train_dataset, batch_size=128, shuffle=True)"
      ]
    },
    {
      "cell_type": "markdown",
      "id": "f44c0887",
      "metadata": {
        "papermill": {
          "duration": 0.017844,
          "end_time": "2022-05-12T11:44:51.544208",
          "exception": false,
          "start_time": "2022-05-12T11:44:51.526364",
          "status": "completed"
        },
        "tags": [],
        "id": "f44c0887"
      },
      "source": [
        "Now, we can write a small training function.\n",
        "Remember our five steps: load a batch, obtain the predictions, calculate the loss, backpropagate, and update.\n",
        "Additionally, we have to push all data and model parameters to the device of our choice (GPU if available).\n",
        "For the tiny neural network we have, communicating the data to the GPU actually takes much more time than we could save from running the operation on GPU.\n",
        "For large networks, the communication time is significantly smaller than the actual runtime making a GPU crucial in these cases.\n",
        "Still, to practice, we will push the data to GPU here."
      ]
    },
    {
      "cell_type": "code",
      "execution_count": 48,
      "id": "149cf212",
      "metadata": {
        "execution": {
          "iopub.execute_input": "2022-05-12T11:44:51.580193Z",
          "iopub.status.busy": "2022-05-12T11:44:51.579757Z",
          "iopub.status.idle": "2022-05-12T11:44:51.585260Z",
          "shell.execute_reply": "2022-05-12T11:44:51.584669Z"
        },
        "papermill": {
          "duration": 0.025374,
          "end_time": "2022-05-12T11:44:51.586790",
          "exception": false,
          "start_time": "2022-05-12T11:44:51.561416",
          "status": "completed"
        },
        "tags": [],
        "id": "149cf212",
        "outputId": "826b617b-adf6-46cf-e770-fecf11a10c69",
        "colab": {
          "base_uri": "https://localhost:8080/"
        }
      },
      "outputs": [
        {
          "output_type": "execute_result",
          "data": {
            "text/plain": [
              "SimpleClassifier(\n",
              "  (linear1): Linear(in_features=2, out_features=4, bias=True)\n",
              "  (act_fn): Tanh()\n",
              "  (linear2): Linear(in_features=4, out_features=1, bias=True)\n",
              ")"
            ]
          },
          "metadata": {},
          "execution_count": 48
        }
      ],
      "source": [
        "# Push model to device. Has to be only done once\n",
        "model.to(device)"
      ]
    },
    {
      "cell_type": "markdown",
      "id": "96a036aa",
      "metadata": {
        "lines_to_next_cell": 2,
        "papermill": {
          "duration": 0.017275,
          "end_time": "2022-05-12T11:44:51.621536",
          "exception": false,
          "start_time": "2022-05-12T11:44:51.604261",
          "status": "completed"
        },
        "tags": [],
        "id": "96a036aa"
      },
      "source": [
        "In addition, we set our model to training mode.\n",
        "This is done by calling `model.train()`.\n",
        "There exist certain modules that need to perform a different forward\n",
        "step during training than during testing (e.g. BatchNorm and Dropout),\n",
        "and we can switch between them using `model.train()` and `model.eval()`."
      ]
    },
    {
      "cell_type": "code",
      "execution_count": 49,
      "id": "751e4fec",
      "metadata": {
        "execution": {
          "iopub.execute_input": "2022-05-12T11:44:51.658853Z",
          "iopub.status.busy": "2022-05-12T11:44:51.658393Z",
          "iopub.status.idle": "2022-05-12T11:44:51.663890Z",
          "shell.execute_reply": "2022-05-12T11:44:51.663279Z"
        },
        "papermill": {
          "duration": 0.025777,
          "end_time": "2022-05-12T11:44:51.665380",
          "exception": false,
          "start_time": "2022-05-12T11:44:51.639603",
          "status": "completed"
        },
        "tags": [],
        "id": "751e4fec"
      },
      "outputs": [],
      "source": [
        "def train_model(model, optimizer, data_loader, loss_module, num_epochs=100):\n",
        "    # Set model to train mode\n",
        "    model.train()\n",
        "\n",
        "    # Training loop\n",
        "    for epoch in tqdm(range(num_epochs)):\n",
        "        for data_inputs, data_labels in data_loader:\n",
        "\n",
        "            # Step 1: Move input data to device (only strictly necessary if we use GPU)\n",
        "            data_inputs = data_inputs.to(device)\n",
        "            data_labels = data_labels.to(device)\n",
        "\n",
        "            # Step 2: Run the model on the input data\n",
        "            preds = model(data_inputs)\n",
        "            preds = preds.squeeze(dim=1)  # Output is [Batch size, 1], but we want [Batch size]\n",
        "\n",
        "            # Step 3: Calculate the loss\n",
        "            loss = loss_module(preds, data_labels.float())\n",
        "\n",
        "            # Step 4: Perform backpropagation\n",
        "            # Before calculating the gradients, we need to ensure that they are all zero.\n",
        "            # The gradients would not be overwritten, but actually added to the existing ones.\n",
        "            optimizer.zero_grad()\n",
        "            # Perform backpropagation\n",
        "            loss.backward()\n",
        "\n",
        "            # Step 5: Update the parameters\n",
        "            optimizer.step()"
      ]
    },
    {
      "cell_type": "code",
      "execution_count": 50,
      "id": "32bacfb9",
      "metadata": {
        "execution": {
          "iopub.execute_input": "2022-05-12T11:44:51.701338Z",
          "iopub.status.busy": "2022-05-12T11:44:51.700790Z",
          "iopub.status.idle": "2022-05-12T11:44:52.936363Z",
          "shell.execute_reply": "2022-05-12T11:44:52.935636Z"
        },
        "papermill": {
          "duration": 1.255539,
          "end_time": "2022-05-12T11:44:52.938272",
          "exception": false,
          "start_time": "2022-05-12T11:44:51.682733",
          "status": "completed"
        },
        "tags": [],
        "id": "32bacfb9",
        "outputId": "ad2465e9-ebce-479a-9711-909b170faaa1",
        "colab": {
          "referenced_widgets": [
            "c1786eb12ba144cd8814e9965b9a715c",
            "05c049eed6a6444887d1b4931ebb41df",
            "62892a5e2fe0428dadfdac9fed5663a5",
            "05bd4a1308e34e11a60d18231f656406",
            "a9bc53595990421c814dddbefcaab0a8",
            "7430fb69cb894f2ba223a64a5e155ad5",
            "42346f7b6588451787136809148cb4ef",
            "2508c215503d4718989baf75feb514e4",
            "b9f3b5bc2a9a45c3bfe4ce2f0f5934b9",
            "277befda0d1a494193995fd61e44f522",
            "4f0f51e74c1a492ba835c46c137fe492"
          ],
          "base_uri": "https://localhost:8080/",
          "height": 49
        }
      },
      "outputs": [
        {
          "output_type": "display_data",
          "data": {
            "text/plain": [
              "  0%|          | 0/100 [00:00<?, ?it/s]"
            ],
            "application/vnd.jupyter.widget-view+json": {
              "version_major": 2,
              "version_minor": 0,
              "model_id": "c1786eb12ba144cd8814e9965b9a715c"
            }
          },
          "metadata": {}
        }
      ],
      "source": [
        "train_model(model, optimizer, train_data_loader, loss_module)"
      ]
    },
    {
      "cell_type": "markdown",
      "id": "3a0e4186",
      "metadata": {
        "papermill": {
          "duration": 0.017549,
          "end_time": "2022-05-12T11:44:52.975305",
          "exception": false,
          "start_time": "2022-05-12T11:44:52.957756",
          "status": "completed"
        },
        "tags": [],
        "id": "3a0e4186"
      },
      "source": [
        "#### Saving a model\n",
        "\n",
        "After finish training a model, we save the model to disk so that we can load the same weights at a later time.\n",
        "For this, we extract the so-called `state_dict` from the model which contains all learnable parameters.\n",
        "For our simple model, the state dict contains the following entries:"
      ]
    },
    {
      "cell_type": "code",
      "execution_count": 51,
      "id": "2667b854",
      "metadata": {
        "execution": {
          "iopub.execute_input": "2022-05-12T11:44:53.011804Z",
          "iopub.status.busy": "2022-05-12T11:44:53.011367Z",
          "iopub.status.idle": "2022-05-12T11:44:53.018660Z",
          "shell.execute_reply": "2022-05-12T11:44:53.018057Z"
        },
        "papermill": {
          "duration": 0.027403,
          "end_time": "2022-05-12T11:44:53.020101",
          "exception": false,
          "start_time": "2022-05-12T11:44:52.992698",
          "status": "completed"
        },
        "tags": [],
        "id": "2667b854",
        "outputId": "51d9da39-4496-45ef-9cd1-329034d0e9eb",
        "colab": {
          "base_uri": "https://localhost:8080/"
        }
      },
      "outputs": [
        {
          "output_type": "stream",
          "name": "stdout",
          "text": [
            "OrderedDict([('linear1.weight', tensor([[-2.0209, -2.3101],\n",
            "        [ 1.3066, -1.8463],\n",
            "        [-1.5089, -0.6550],\n",
            "        [-0.7824, -0.9385]])), ('linear1.bias', tensor([ 0.7382, -0.9136,  1.4607, -0.1769])), ('linear2.weight', tensor([[-2.5543,  1.9722,  2.1591, -0.4553]])), ('linear2.bias', tensor([-1.0225]))])\n"
          ]
        }
      ],
      "source": [
        "state_dict = model.state_dict()\n",
        "print(state_dict)"
      ]
    },
    {
      "cell_type": "markdown",
      "id": "1b541cb7",
      "metadata": {
        "papermill": {
          "duration": 0.018227,
          "end_time": "2022-05-12T11:44:53.056004",
          "exception": false,
          "start_time": "2022-05-12T11:44:53.037777",
          "status": "completed"
        },
        "tags": [],
        "id": "1b541cb7"
      },
      "source": [
        "To save the state dictionary, we can use `torch.save`:"
      ]
    },
    {
      "cell_type": "code",
      "execution_count": 52,
      "id": "e7a963bc",
      "metadata": {
        "execution": {
          "iopub.execute_input": "2022-05-12T11:44:53.093500Z",
          "iopub.status.busy": "2022-05-12T11:44:53.093039Z",
          "iopub.status.idle": "2022-05-12T11:44:53.097830Z",
          "shell.execute_reply": "2022-05-12T11:44:53.097177Z"
        },
        "papermill": {
          "duration": 0.025423,
          "end_time": "2022-05-12T11:44:53.099286",
          "exception": false,
          "start_time": "2022-05-12T11:44:53.073863",
          "status": "completed"
        },
        "tags": [],
        "id": "e7a963bc"
      },
      "outputs": [],
      "source": [
        "# torch.save(object, filename). For the filename, any extension can be used\n",
        "torch.save(state_dict, \"our_model.tar\")"
      ]
    },
    {
      "cell_type": "markdown",
      "id": "4230e123",
      "metadata": {
        "papermill": {
          "duration": 0.017977,
          "end_time": "2022-05-12T11:44:53.134726",
          "exception": false,
          "start_time": "2022-05-12T11:44:53.116749",
          "status": "completed"
        },
        "tags": [],
        "id": "4230e123"
      },
      "source": [
        "To load a model from a state dict, we use the function `torch.load` to\n",
        "load the state dict from the disk, and the module function\n",
        "`load_state_dict` to overwrite our parameters with the new values:"
      ]
    },
    {
      "cell_type": "code",
      "execution_count": 53,
      "id": "e03d71e7",
      "metadata": {
        "execution": {
          "iopub.execute_input": "2022-05-12T11:44:53.173704Z",
          "iopub.status.busy": "2022-05-12T11:44:53.173212Z",
          "iopub.status.idle": "2022-05-12T11:44:53.185212Z",
          "shell.execute_reply": "2022-05-12T11:44:53.184498Z"
        },
        "papermill": {
          "duration": 0.033241,
          "end_time": "2022-05-12T11:44:53.186899",
          "exception": false,
          "start_time": "2022-05-12T11:44:53.153658",
          "status": "completed"
        },
        "tags": [],
        "id": "e03d71e7",
        "outputId": "fc87ea14-f5f9-4643-d2f6-590fc15745bf",
        "colab": {
          "base_uri": "https://localhost:8080/"
        }
      },
      "outputs": [
        {
          "output_type": "stream",
          "name": "stdout",
          "text": [
            "Original model\n",
            " OrderedDict([('linear1.weight', tensor([[-2.0209, -2.3101],\n",
            "        [ 1.3066, -1.8463],\n",
            "        [-1.5089, -0.6550],\n",
            "        [-0.7824, -0.9385]])), ('linear1.bias', tensor([ 0.7382, -0.9136,  1.4607, -0.1769])), ('linear2.weight', tensor([[-2.5543,  1.9722,  2.1591, -0.4553]])), ('linear2.bias', tensor([-1.0225]))])\n",
            "\n",
            "Loaded model\n",
            " OrderedDict([('linear1.weight', tensor([[-2.0209, -2.3101],\n",
            "        [ 1.3066, -1.8463],\n",
            "        [-1.5089, -0.6550],\n",
            "        [-0.7824, -0.9385]])), ('linear1.bias', tensor([ 0.7382, -0.9136,  1.4607, -0.1769])), ('linear2.weight', tensor([[-2.5543,  1.9722,  2.1591, -0.4553]])), ('linear2.bias', tensor([-1.0225]))])\n"
          ]
        }
      ],
      "source": [
        "# Load state dict from the disk (make sure it is the same name as above)\n",
        "state_dict = torch.load(\"our_model.tar\")\n",
        "\n",
        "# Create a new model and load the state\n",
        "new_model = SimpleClassifier(num_inputs=2, num_hidden=4, num_outputs=1)\n",
        "new_model.load_state_dict(state_dict)\n",
        "\n",
        "# Verify that the parameters are the same\n",
        "print(\"Original model\\n\", model.state_dict())\n",
        "print(\"\\nLoaded model\\n\", new_model.state_dict())"
      ]
    },
    {
      "cell_type": "markdown",
      "id": "aa8be316",
      "metadata": {
        "papermill": {
          "duration": 0.266822,
          "end_time": "2022-05-12T11:44:53.473399",
          "exception": false,
          "start_time": "2022-05-12T11:44:53.206577",
          "status": "completed"
        },
        "tags": [],
        "id": "aa8be316"
      },
      "source": [
        "A detailed tutorial on saving and loading models in PyTorch can be found\n",
        "[here](https://pytorch.org/tutorials/beginner/saving_loading_models.html)."
      ]
    },
    {
      "cell_type": "markdown",
      "id": "0b7a0e3f",
      "metadata": {
        "papermill": {
          "duration": 0.031138,
          "end_time": "2022-05-12T11:44:53.523764",
          "exception": false,
          "start_time": "2022-05-12T11:44:53.492626",
          "status": "completed"
        },
        "tags": [],
        "id": "0b7a0e3f"
      },
      "source": [
        "### Evaluation\n",
        "\n",
        "Once we have trained a model, it is time to evaluate it on a held-out test set.\n",
        "As our dataset consist of randomly generated data points, we need to\n",
        "first create a test set with a corresponding data loader."
      ]
    },
    {
      "cell_type": "code",
      "execution_count": 54,
      "id": "5c6f8bdf",
      "metadata": {
        "execution": {
          "iopub.execute_input": "2022-05-12T11:44:53.561402Z",
          "iopub.status.busy": "2022-05-12T11:44:53.560936Z",
          "iopub.status.idle": "2022-05-12T11:44:53.565688Z",
          "shell.execute_reply": "2022-05-12T11:44:53.565043Z"
        },
        "papermill": {
          "duration": 0.025562,
          "end_time": "2022-05-12T11:44:53.567189",
          "exception": false,
          "start_time": "2022-05-12T11:44:53.541627",
          "status": "completed"
        },
        "tags": [],
        "id": "5c6f8bdf"
      },
      "outputs": [],
      "source": [
        "test_dataset = XORDataset(size=500)\n",
        "# drop_last -> Don't drop the last batch although it is smaller than 128\n",
        "test_data_loader = data.DataLoader(test_dataset, batch_size=128, shuffle=False, drop_last=False)"
      ]
    },
    {
      "cell_type": "markdown",
      "id": "301f14ee",
      "metadata": {
        "lines_to_next_cell": 2,
        "papermill": {
          "duration": 0.017588,
          "end_time": "2022-05-12T11:44:53.602593",
          "exception": false,
          "start_time": "2022-05-12T11:44:53.585005",
          "status": "completed"
        },
        "tags": [],
        "id": "301f14ee"
      },
      "source": [
        "As metric, we will use accuracy which is calculated as follows:\n",
        "\n",
        "$$acc = \\frac{\\#\\text{correct predictions}}{\\#\\text{all predictions}} = \\frac{TP+TN}{TP+TN+FP+FN}$$\n",
        "\n",
        "where TP are the true positives, TN true negatives, FP false positives, and FN the fale negatives.\n",
        "\n",
        "When evaluating the model, we don't need to keep track of the computation graph as we don't intend to calculate the gradients.\n",
        "This reduces the required memory and speed up the model.\n",
        "In PyTorch, we can deactivate the computation graph using `with torch.no_grad(): ...`.\n",
        "Remember to additionally set the model to eval mode."
      ]
    },
    {
      "cell_type": "code",
      "execution_count": 55,
      "id": "2ce4dfdc",
      "metadata": {
        "execution": {
          "iopub.execute_input": "2022-05-12T11:44:53.639163Z",
          "iopub.status.busy": "2022-05-12T11:44:53.638572Z",
          "iopub.status.idle": "2022-05-12T11:44:53.644410Z",
          "shell.execute_reply": "2022-05-12T11:44:53.643234Z"
        },
        "papermill": {
          "duration": 0.025573,
          "end_time": "2022-05-12T11:44:53.645950",
          "exception": false,
          "start_time": "2022-05-12T11:44:53.620377",
          "status": "completed"
        },
        "tags": [],
        "id": "2ce4dfdc"
      },
      "outputs": [],
      "source": [
        "def eval_model(model, data_loader):\n",
        "    model.eval()  # Set model to eval mode\n",
        "    true_preds, num_preds = 0.0, 0.0\n",
        "\n",
        "    with torch.no_grad():  # Deactivate gradients for the following code\n",
        "        for data_inputs, data_labels in data_loader:\n",
        "\n",
        "            # Determine prediction of model on dev set\n",
        "            data_inputs, data_labels = data_inputs.to(device), data_labels.to(device)\n",
        "            preds = model(data_inputs)\n",
        "            preds = preds.squeeze(dim=1)\n",
        "            preds = torch.sigmoid(preds)  # Sigmoid to map predictions between 0 and 1\n",
        "            pred_labels = (preds >= 0.5).long()  # Binarize predictions to 0 and 1\n",
        "\n",
        "            # Keep records of predictions for the accuracy metric (true_preds=TP+TN, num_preds=TP+TN+FP+FN)\n",
        "            true_preds += (pred_labels == data_labels).sum()\n",
        "            num_preds += data_labels.shape[0]\n",
        "\n",
        "    acc = true_preds / num_preds\n",
        "    print(f\"Accuracy of the model: {100.0*acc:4.2f}%\")"
      ]
    },
    {
      "cell_type": "code",
      "execution_count": 56,
      "id": "50dd638b",
      "metadata": {
        "execution": {
          "iopub.execute_input": "2022-05-12T11:44:53.684343Z",
          "iopub.status.busy": "2022-05-12T11:44:53.683785Z",
          "iopub.status.idle": "2022-05-12T11:44:53.692547Z",
          "shell.execute_reply": "2022-05-12T11:44:53.691898Z"
        },
        "papermill": {
          "duration": 0.030384,
          "end_time": "2022-05-12T11:44:53.694096",
          "exception": false,
          "start_time": "2022-05-12T11:44:53.663712",
          "status": "completed"
        },
        "tags": [],
        "id": "50dd638b",
        "outputId": "82ffb129-9d7d-44e9-b7db-8650265947ba",
        "colab": {
          "base_uri": "https://localhost:8080/"
        }
      },
      "outputs": [
        {
          "output_type": "stream",
          "name": "stdout",
          "text": [
            "Accuracy of the model: 100.00%\n"
          ]
        }
      ],
      "source": [
        "eval_model(model, test_data_loader)"
      ]
    },
    {
      "cell_type": "markdown",
      "id": "c3591c0c",
      "metadata": {
        "papermill": {
          "duration": 0.018406,
          "end_time": "2022-05-12T11:44:53.730871",
          "exception": false,
          "start_time": "2022-05-12T11:44:53.712465",
          "status": "completed"
        },
        "tags": [],
        "id": "c3591c0c"
      },
      "source": [
        "If we trained our model correctly, we should see a score close to 100% accuracy.\n",
        "However, this is only possible because of our simple task, and\n",
        "unfortunately, we usually don't get such high scores on test sets of\n",
        "more complex tasks."
      ]
    },
    {
      "cell_type": "markdown",
      "id": "11d3d9f0",
      "metadata": {
        "lines_to_next_cell": 2,
        "papermill": {
          "duration": 0.019643,
          "end_time": "2022-05-12T11:44:53.770979",
          "exception": false,
          "start_time": "2022-05-12T11:44:53.751336",
          "status": "completed"
        },
        "tags": [],
        "id": "11d3d9f0"
      },
      "source": [
        "#### Visualizing classification boundaries\n",
        "\n",
        "To visualize what our model has learned, we can perform a prediction for every data point in a range of $[-0.5, 1.5]$, and visualize the predicted class as in the sample figure at the beginning of this section.\n",
        "This shows where the model has created decision boundaries, and which points would be classified as $0$, and which as $1$.\n",
        "We therefore get a background image out of blue (class 0) and orange (class 1).\n",
        "The spots where the model is uncertain we will see a blurry overlap.\n",
        "The specific code is less relevant compared to the output figure which\n",
        "should hopefully show us a clear separation of classes:"
      ]
    },
    {
      "cell_type": "code",
      "execution_count": 57,
      "id": "21d8dddf",
      "metadata": {
        "execution": {
          "iopub.execute_input": "2022-05-12T11:44:53.812221Z",
          "iopub.status.busy": "2022-05-12T11:44:53.811746Z",
          "iopub.status.idle": "2022-05-12T11:44:54.277287Z",
          "shell.execute_reply": "2022-05-12T11:44:54.276542Z"
        },
        "papermill": {
          "duration": 0.489666,
          "end_time": "2022-05-12T11:44:54.280158",
          "exception": false,
          "start_time": "2022-05-12T11:44:53.790492",
          "status": "completed"
        },
        "tags": [],
        "id": "21d8dddf",
        "outputId": "ba87b887-701d-42de-e6ae-d839ebb9c82b",
        "colab": {
          "base_uri": "https://localhost:8080/",
          "height": 446
        }
      },
      "outputs": [
        {
          "output_type": "stream",
          "name": "stderr",
          "text": [
            "/usr/local/lib/python3.8/dist-packages/torch/functional.py:504: UserWarning: torch.meshgrid: in an upcoming release, it will be required to pass the indexing argument. (Triggered internally at ../aten/src/ATen/native/TensorShape.cpp:3190.)\n",
            "  return _VF.meshgrid(tensors, **kwargs)  # type: ignore[attr-defined]\n"
          ]
        },
        {
          "output_type": "display_data",
          "data": {
            "text/plain": [
              "<Figure size 288x288 with 1 Axes>"
            ],
            "image/svg+xml": "<?xml version=\"1.0\" encoding=\"utf-8\" standalone=\"no\"?>\n<!DOCTYPE svg PUBLIC \"-//W3C//DTD SVG 1.1//EN\"\n  \"http://www.w3.org/Graphics/SVG/1.1/DTD/svg11.dtd\">\n<!-- Created with matplotlib (https://matplotlib.org/) -->\n<svg height=\"277.314375pt\" version=\"1.1\" viewBox=\"0 0 291.115 277.314375\" width=\"291.115pt\" xmlns=\"http://www.w3.org/2000/svg\" xmlns:xlink=\"http://www.w3.org/1999/xlink\">\n <defs>\n  <style type=\"text/css\">\n*{stroke-linecap:butt;stroke-linejoin:round;}\n  </style>\n </defs>\n <g id=\"figure_1\">\n  <g id=\"patch_1\">\n   <path d=\"M 0 277.314375 \nL 291.115 277.314375 \nL 291.115 0 \nL 0 0 \nz\n\" style=\"fill:none;\"/>\n  </g>\n  <g id=\"axes_1\">\n   <g id=\"patch_2\">\n    <path d=\"M 58.523438 239.758125 \nL 275.963437 239.758125 \nL 275.963437 22.318125 \nL 58.523438 22.318125 \nz\n\" style=\"fill:#ffffff;\"/>\n   </g>\n   <g clip-path=\"url(#p6fe0a9f74e)\">\n    <image height=\"218\" id=\"image085a7d7acc\" transform=\"scale(1 -1)translate(0 -218)\" width=\"218\" x=\"58.523438\" xlink:href=\"data:image/png;base64,\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\" y=\"-21.758125\"/>\n   </g>\n   <g id=\"PathCollection_1\">\n    <defs>\n     <path d=\"M 0 3 \nC 0.795609 3 1.55874 2.683901 2.12132 2.12132 \nC 2.683901 1.55874 3 0.795609 3 0 \nC 3 -0.795609 2.683901 -1.55874 2.12132 -2.12132 \nC 1.55874 -2.683901 0.795609 -3 0 -3 \nC -0.795609 -3 -1.55874 -2.683901 -2.12132 -2.12132 \nC -2.683901 -1.55874 -3 -0.795609 -3 0 \nC -3 0.795609 -2.683901 1.55874 -2.12132 2.12132 \nC -1.55874 2.683901 -0.795609 3 0 3 \nz\n\" id=\"m886e1bc21a\" style=\"stroke:#333333;\"/>\n    </defs>\n    <g clip-path=\"url(#p6fe0a9f74e)\">\n     <use style=\"fill:#1f77b4;stroke:#333333;\" x=\"112.130475\" xlink:href=\"#m886e1bc21a\" y=\"183.02716\"/>\n     <use style=\"fill:#1f77b4;stroke:#333333;\" x=\"218.531808\" xlink:href=\"#m886e1bc21a\" y=\"79.706304\"/>\n     <use style=\"fill:#1f77b4;stroke:#333333;\" x=\"239.633825\" xlink:href=\"#m886e1bc21a\" y=\"80.994397\"/>\n     <use style=\"fill:#1f77b4;stroke:#333333;\" x=\"122.008015\" xlink:href=\"#m886e1bc21a\" y=\"191.757377\"/>\n     <use style=\"fill:#1f77b4;stroke:#333333;\" x=\"116.060682\" xlink:href=\"#m886e1bc21a\" y=\"192.256288\"/>\n     <use style=\"fill:#1f77b4;stroke:#333333;\" x=\"92.277532\" xlink:href=\"#m886e1bc21a\" y=\"180.061819\"/>\n     <use style=\"fill:#1f77b4;stroke:#333333;\" x=\"227.018994\" xlink:href=\"#m886e1bc21a\" y=\"76.887462\"/>\n     <use style=\"fill:#1f77b4;stroke:#333333;\" x=\"218.499712\" xlink:href=\"#m886e1bc21a\" y=\"71.275153\"/>\n     <use style=\"fill:#1f77b4;stroke:#333333;\" x=\"110.302013\" xlink:href=\"#m886e1bc21a\" y=\"191.868518\"/>\n     <use style=\"fill:#1f77b4;stroke:#333333;\" x=\"222.828211\" xlink:href=\"#m886e1bc21a\" y=\"72.953996\"/>\n     <use style=\"fill:#1f77b4;stroke:#333333;\" x=\"117.798662\" xlink:href=\"#m886e1bc21a\" y=\"188.528318\"/>\n     <use style=\"fill:#1f77b4;stroke:#333333;\" x=\"236.949732\" xlink:href=\"#m886e1bc21a\" y=\"56.122229\"/>\n     <use style=\"fill:#1f77b4;stroke:#333333;\" x=\"223.235039\" xlink:href=\"#m886e1bc21a\" y=\"80.056541\"/>\n     <use style=\"fill:#1f77b4;stroke:#333333;\" x=\"218.619913\" xlink:href=\"#m886e1bc21a\" y=\"76.248163\"/>\n     <use style=\"fill:#1f77b4;stroke:#333333;\" x=\"110.525586\" xlink:href=\"#m886e1bc21a\" y=\"198.228967\"/>\n     <use style=\"fill:#1f77b4;stroke:#333333;\" x=\"106.581102\" xlink:href=\"#m886e1bc21a\" y=\"176.499583\"/>\n     <use style=\"fill:#1f77b4;stroke:#333333;\" x=\"233.588936\" xlink:href=\"#m886e1bc21a\" y=\"102.286439\"/>\n     <use style=\"fill:#1f77b4;stroke:#333333;\" x=\"236.369999\" xlink:href=\"#m886e1bc21a\" y=\"96.725344\"/>\n     <use style=\"fill:#1f77b4;stroke:#333333;\" x=\"213.86622\" xlink:href=\"#m886e1bc21a\" y=\"77.338064\"/>\n     <use style=\"fill:#1f77b4;stroke:#333333;\" x=\"100.93054\" xlink:href=\"#m886e1bc21a\" y=\"195.532199\"/>\n     <use style=\"fill:#1f77b4;stroke:#333333;\" x=\"235.709742\" xlink:href=\"#m886e1bc21a\" y=\"56.455519\"/>\n     <use style=\"fill:#1f77b4;stroke:#333333;\" x=\"228.794651\" xlink:href=\"#m886e1bc21a\" y=\"77.981996\"/>\n     <use style=\"fill:#1f77b4;stroke:#333333;\" x=\"126.325818\" xlink:href=\"#m886e1bc21a\" y=\"169.253244\"/>\n     <use style=\"fill:#1f77b4;stroke:#333333;\" x=\"215.866897\" xlink:href=\"#m886e1bc21a\" y=\"56.228154\"/>\n     <use style=\"fill:#1f77b4;stroke:#333333;\" x=\"114.849831\" xlink:href=\"#m886e1bc21a\" y=\"184.170689\"/>\n     <use style=\"fill:#1f77b4;stroke:#333333;\" x=\"215.200167\" xlink:href=\"#m886e1bc21a\" y=\"71.325868\"/>\n     <use style=\"fill:#1f77b4;stroke:#333333;\" x=\"104.738732\" xlink:href=\"#m886e1bc21a\" y=\"172.132264\"/>\n     <use style=\"fill:#1f77b4;stroke:#333333;\" x=\"233.165389\" xlink:href=\"#m886e1bc21a\" y=\"69.175006\"/>\n     <use style=\"fill:#1f77b4;stroke:#333333;\" x=\"229.770805\" xlink:href=\"#m886e1bc21a\" y=\"79.208287\"/>\n     <use style=\"fill:#1f77b4;stroke:#333333;\" x=\"224.897941\" xlink:href=\"#m886e1bc21a\" y=\"65.173809\"/>\n     <use style=\"fill:#1f77b4;stroke:#333333;\" x=\"109.018133\" xlink:href=\"#m886e1bc21a\" y=\"175.976269\"/>\n     <use style=\"fill:#1f77b4;stroke:#333333;\" x=\"118.553492\" xlink:href=\"#m886e1bc21a\" y=\"195.931899\"/>\n     <use style=\"fill:#1f77b4;stroke:#333333;\" x=\"105.114252\" xlink:href=\"#m886e1bc21a\" y=\"164.360655\"/>\n     <use style=\"fill:#1f77b4;stroke:#333333;\" x=\"113.25433\" xlink:href=\"#m886e1bc21a\" y=\"189.323026\"/>\n     <use style=\"fill:#1f77b4;stroke:#333333;\" x=\"124.586091\" xlink:href=\"#m886e1bc21a\" y=\"188.967644\"/>\n     <use style=\"fill:#1f77b4;stroke:#333333;\" x=\"109.837824\" xlink:href=\"#m886e1bc21a\" y=\"184.898956\"/>\n     <use style=\"fill:#1f77b4;stroke:#333333;\" x=\"125.181761\" xlink:href=\"#m886e1bc21a\" y=\"197.902563\"/>\n     <use style=\"fill:#1f77b4;stroke:#333333;\" x=\"204.317789\" xlink:href=\"#m886e1bc21a\" y=\"61.965272\"/>\n     <use style=\"fill:#1f77b4;stroke:#333333;\" x=\"235.267519\" xlink:href=\"#m886e1bc21a\" y=\"81.643688\"/>\n     <use style=\"fill:#1f77b4;stroke:#333333;\" x=\"223.348378\" xlink:href=\"#m886e1bc21a\" y=\"80.978112\"/>\n     <use style=\"fill:#1f77b4;stroke:#333333;\" x=\"109.797084\" xlink:href=\"#m886e1bc21a\" y=\"192.545811\"/>\n     <use style=\"fill:#1f77b4;stroke:#333333;\" x=\"211.194686\" xlink:href=\"#m886e1bc21a\" y=\"100.930901\"/>\n     <use style=\"fill:#1f77b4;stroke:#333333;\" x=\"229.513113\" xlink:href=\"#m886e1bc21a\" y=\"75.481734\"/>\n     <use style=\"fill:#1f77b4;stroke:#333333;\" x=\"113.381992\" xlink:href=\"#m886e1bc21a\" y=\"197.835874\"/>\n     <use style=\"fill:#1f77b4;stroke:#333333;\" x=\"123.337028\" xlink:href=\"#m886e1bc21a\" y=\"202.207751\"/>\n     <use style=\"fill:#1f77b4;stroke:#333333;\" x=\"130.132567\" xlink:href=\"#m886e1bc21a\" y=\"170.190943\"/>\n     <use style=\"fill:#1f77b4;stroke:#333333;\" x=\"216.473179\" xlink:href=\"#m886e1bc21a\" y=\"87.364405\"/>\n     <use style=\"fill:#1f77b4;stroke:#333333;\" x=\"206.813885\" xlink:href=\"#m886e1bc21a\" y=\"65.697345\"/>\n     <use style=\"fill:#1f77b4;stroke:#333333;\" x=\"107.513202\" xlink:href=\"#m886e1bc21a\" y=\"192.863185\"/>\n     <use style=\"fill:#1f77b4;stroke:#333333;\" x=\"217.41874\" xlink:href=\"#m886e1bc21a\" y=\"84.700348\"/>\n     <use style=\"fill:#1f77b4;stroke:#333333;\" x=\"113.95745\" xlink:href=\"#m886e1bc21a\" y=\"189.098171\"/>\n     <use style=\"fill:#1f77b4;stroke:#333333;\" x=\"226.55733\" xlink:href=\"#m886e1bc21a\" y=\"57.230812\"/>\n     <use style=\"fill:#1f77b4;stroke:#333333;\" x=\"111.233278\" xlink:href=\"#m886e1bc21a\" y=\"179.431408\"/>\n     <use style=\"fill:#1f77b4;stroke:#333333;\" x=\"215.084754\" xlink:href=\"#m886e1bc21a\" y=\"91.072443\"/>\n     <use style=\"fill:#1f77b4;stroke:#333333;\" x=\"224.100848\" xlink:href=\"#m886e1bc21a\" y=\"68.121491\"/>\n     <use style=\"fill:#1f77b4;stroke:#333333;\" x=\"92.279163\" xlink:href=\"#m886e1bc21a\" y=\"180.887702\"/>\n     <use style=\"fill:#1f77b4;stroke:#333333;\" x=\"206.717206\" xlink:href=\"#m886e1bc21a\" y=\"67.932904\"/>\n     <use style=\"fill:#1f77b4;stroke:#333333;\" x=\"230.512427\" xlink:href=\"#m886e1bc21a\" y=\"82.439245\"/>\n     <use style=\"fill:#1f77b4;stroke:#333333;\" x=\"101.651362\" xlink:href=\"#m886e1bc21a\" y=\"185.78207\"/>\n     <use style=\"fill:#1f77b4;stroke:#333333;\" x=\"110.796814\" xlink:href=\"#m886e1bc21a\" y=\"211.814172\"/>\n     <use style=\"fill:#1f77b4;stroke:#333333;\" x=\"110.369579\" xlink:href=\"#m886e1bc21a\" y=\"188.183661\"/>\n     <use style=\"fill:#1f77b4;stroke:#333333;\" x=\"96.152024\" xlink:href=\"#m886e1bc21a\" y=\"188.29022\"/>\n     <use style=\"fill:#1f77b4;stroke:#333333;\" x=\"241.658206\" xlink:href=\"#m886e1bc21a\" y=\"82.547711\"/>\n     <use style=\"fill:#1f77b4;stroke:#333333;\" x=\"215.078112\" xlink:href=\"#m886e1bc21a\" y=\"88.854193\"/>\n     <use style=\"fill:#1f77b4;stroke:#333333;\" x=\"235.390643\" xlink:href=\"#m886e1bc21a\" y=\"62.012163\"/>\n     <use style=\"fill:#1f77b4;stroke:#333333;\" x=\"96.594278\" xlink:href=\"#m886e1bc21a\" y=\"176.722784\"/>\n     <use style=\"fill:#1f77b4;stroke:#333333;\" x=\"223.89308\" xlink:href=\"#m886e1bc21a\" y=\"95.68291\"/>\n     <use style=\"fill:#1f77b4;stroke:#333333;\" x=\"231.986534\" xlink:href=\"#m886e1bc21a\" y=\"101.379014\"/>\n     <use style=\"fill:#1f77b4;stroke:#333333;\" x=\"129.434435\" xlink:href=\"#m886e1bc21a\" y=\"202.700628\"/>\n     <use style=\"fill:#1f77b4;stroke:#333333;\" x=\"121.849164\" xlink:href=\"#m886e1bc21a\" y=\"193.853222\"/>\n     <use style=\"fill:#1f77b4;stroke:#333333;\" x=\"111.071273\" xlink:href=\"#m886e1bc21a\" y=\"180.426817\"/>\n     <use style=\"fill:#1f77b4;stroke:#333333;\" x=\"111.73278\" xlink:href=\"#m886e1bc21a\" y=\"178.6056\"/>\n     <use style=\"fill:#1f77b4;stroke:#333333;\" x=\"224.372642\" xlink:href=\"#m886e1bc21a\" y=\"73.188217\"/>\n     <use style=\"fill:#1f77b4;stroke:#333333;\" x=\"214.544764\" xlink:href=\"#m886e1bc21a\" y=\"100.191683\"/>\n     <use style=\"fill:#1f77b4;stroke:#333333;\" x=\"111.037176\" xlink:href=\"#m886e1bc21a\" y=\"184.756952\"/>\n     <use style=\"fill:#1f77b4;stroke:#333333;\" x=\"120.501423\" xlink:href=\"#m886e1bc21a\" y=\"177.927389\"/>\n     <use style=\"fill:#1f77b4;stroke:#333333;\" x=\"121.737273\" xlink:href=\"#m886e1bc21a\" y=\"183.651319\"/>\n     <use style=\"fill:#1f77b4;stroke:#333333;\" x=\"224.151653\" xlink:href=\"#m886e1bc21a\" y=\"60.366512\"/>\n     <use style=\"fill:#1f77b4;stroke:#333333;\" x=\"223.43835\" xlink:href=\"#m886e1bc21a\" y=\"58.920283\"/>\n     <use style=\"fill:#1f77b4;stroke:#333333;\" x=\"112.665686\" xlink:href=\"#m886e1bc21a\" y=\"194.670616\"/>\n     <use style=\"fill:#1f77b4;stroke:#333333;\" x=\"232.62061\" xlink:href=\"#m886e1bc21a\" y=\"60.454033\"/>\n     <use style=\"fill:#1f77b4;stroke:#333333;\" x=\"218.768323\" xlink:href=\"#m886e1bc21a\" y=\"87.76343\"/>\n     <use style=\"fill:#1f77b4;stroke:#333333;\" x=\"231.184386\" xlink:href=\"#m886e1bc21a\" y=\"57.202935\"/>\n     <use style=\"fill:#1f77b4;stroke:#333333;\" x=\"105.951856\" xlink:href=\"#m886e1bc21a\" y=\"182.733923\"/>\n     <use style=\"fill:#1f77b4;stroke:#333333;\" x=\"220.266348\" xlink:href=\"#m886e1bc21a\" y=\"68.561718\"/>\n     <use style=\"fill:#1f77b4;stroke:#333333;\" x=\"113.873959\" xlink:href=\"#m886e1bc21a\" y=\"198.141743\"/>\n     <use style=\"fill:#1f77b4;stroke:#333333;\" x=\"121.135411\" xlink:href=\"#m886e1bc21a\" y=\"191.679503\"/>\n     <use style=\"fill:#1f77b4;stroke:#333333;\" x=\"105.401412\" xlink:href=\"#m886e1bc21a\" y=\"181.366251\"/>\n     <use style=\"fill:#1f77b4;stroke:#333333;\" x=\"203.450464\" xlink:href=\"#m886e1bc21a\" y=\"73.166107\"/>\n     <use style=\"fill:#1f77b4;stroke:#333333;\" x=\"213.131642\" xlink:href=\"#m886e1bc21a\" y=\"68.440188\"/>\n     <use style=\"fill:#1f77b4;stroke:#333333;\" x=\"195.475611\" xlink:href=\"#m886e1bc21a\" y=\"65.960727\"/>\n     <use style=\"fill:#1f77b4;stroke:#333333;\" x=\"104.817254\" xlink:href=\"#m886e1bc21a\" y=\"181.616921\"/>\n     <use style=\"fill:#1f77b4;stroke:#333333;\" x=\"128.101527\" xlink:href=\"#m886e1bc21a\" y=\"193.778082\"/>\n     <use style=\"fill:#1f77b4;stroke:#333333;\" x=\"108.575899\" xlink:href=\"#m886e1bc21a\" y=\"196.017082\"/>\n     <use style=\"fill:#1f77b4;stroke:#333333;\" x=\"213.699076\" xlink:href=\"#m886e1bc21a\" y=\"102.201172\"/>\n     <use style=\"fill:#1f77b4;stroke:#333333;\" x=\"116.657511\" xlink:href=\"#m886e1bc21a\" y=\"184.585026\"/>\n     <use style=\"fill:#1f77b4;stroke:#333333;\" x=\"111.028071\" xlink:href=\"#m886e1bc21a\" y=\"179.737071\"/>\n     <use style=\"fill:#1f77b4;stroke:#333333;\" x=\"106.803829\" xlink:href=\"#m886e1bc21a\" y=\"188.460235\"/>\n     <use style=\"fill:#1f77b4;stroke:#333333;\" x=\"114.368679\" xlink:href=\"#m886e1bc21a\" y=\"194.747632\"/>\n     <use style=\"fill:#1f77b4;stroke:#333333;\" x=\"202.479261\" xlink:href=\"#m886e1bc21a\" y=\"76.337577\"/>\n     <use style=\"fill:#1f77b4;stroke:#333333;\" x=\"209.669671\" xlink:href=\"#m886e1bc21a\" y=\"63.421804\"/>\n     <use style=\"fill:#1f77b4;stroke:#333333;\" x=\"93.182322\" xlink:href=\"#m886e1bc21a\" y=\"199.661904\"/>\n     <use style=\"fill:#1f77b4;stroke:#333333;\" x=\"221.556365\" xlink:href=\"#m886e1bc21a\" y=\"94.135493\"/>\n    </g>\n   </g>\n   <g id=\"PathCollection_2\">\n    <defs>\n     <path d=\"M 0 3 \nC 0.795609 3 1.55874 2.683901 2.12132 2.12132 \nC 2.683901 1.55874 3 0.795609 3 0 \nC 3 -0.795609 2.683901 -1.55874 2.12132 -2.12132 \nC 1.55874 -2.683901 0.795609 -3 0 -3 \nC -0.795609 -3 -1.55874 -2.683901 -2.12132 -2.12132 \nC -2.683901 -1.55874 -3 -0.795609 -3 0 \nC -3 0.795609 -2.683901 1.55874 -2.12132 2.12132 \nC -1.55874 2.683901 -0.795609 3 0 3 \nz\n\" id=\"m3e6113e1a5\" style=\"stroke:#333333;\"/>\n    </defs>\n    <g clip-path=\"url(#p6fe0a9f74e)\">\n     <use style=\"fill:#ff7f0e;stroke:#333333;\" x=\"217.606427\" xlink:href=\"#m3e6113e1a5\" y=\"173.251328\"/>\n     <use style=\"fill:#ff7f0e;stroke:#333333;\" x=\"227.769027\" xlink:href=\"#m3e6113e1a5\" y=\"173.464324\"/>\n     <use style=\"fill:#ff7f0e;stroke:#333333;\" x=\"218.500016\" xlink:href=\"#m3e6113e1a5\" y=\"187.443356\"/>\n     <use style=\"fill:#ff7f0e;stroke:#333333;\" x=\"106.984413\" xlink:href=\"#m3e6113e1a5\" y=\"66.511974\"/>\n     <use style=\"fill:#ff7f0e;stroke:#333333;\" x=\"233.133545\" xlink:href=\"#m3e6113e1a5\" y=\"189.544269\"/>\n     <use style=\"fill:#ff7f0e;stroke:#333333;\" x=\"115.335326\" xlink:href=\"#m3e6113e1a5\" y=\"80.815627\"/>\n     <use style=\"fill:#ff7f0e;stroke:#333333;\" x=\"208.972555\" xlink:href=\"#m3e6113e1a5\" y=\"197.223837\"/>\n     <use style=\"fill:#ff7f0e;stroke:#333333;\" x=\"139.005527\" xlink:href=\"#m3e6113e1a5\" y=\"77.700995\"/>\n     <use style=\"fill:#ff7f0e;stroke:#333333;\" x=\"230.664194\" xlink:href=\"#m3e6113e1a5\" y=\"201.829041\"/>\n     <use style=\"fill:#ff7f0e;stroke:#333333;\" x=\"205.002573\" xlink:href=\"#m3e6113e1a5\" y=\"176.909335\"/>\n     <use style=\"fill:#ff7f0e;stroke:#333333;\" x=\"216.845993\" xlink:href=\"#m3e6113e1a5\" y=\"167.032503\"/>\n     <use style=\"fill:#ff7f0e;stroke:#333333;\" x=\"88.160629\" xlink:href=\"#m3e6113e1a5\" y=\"65.861243\"/>\n     <use style=\"fill:#ff7f0e;stroke:#333333;\" x=\"128.021696\" xlink:href=\"#m3e6113e1a5\" y=\"66.622254\"/>\n     <use style=\"fill:#ff7f0e;stroke:#333333;\" x=\"112.260448\" xlink:href=\"#m3e6113e1a5\" y=\"91.009332\"/>\n     <use style=\"fill:#ff7f0e;stroke:#333333;\" x=\"112.50413\" xlink:href=\"#m3e6113e1a5\" y=\"63.911605\"/>\n     <use style=\"fill:#ff7f0e;stroke:#333333;\" x=\"95.981186\" xlink:href=\"#m3e6113e1a5\" y=\"61.50077\"/>\n     <use style=\"fill:#ff7f0e;stroke:#333333;\" x=\"219.993175\" xlink:href=\"#m3e6113e1a5\" y=\"189.668312\"/>\n     <use style=\"fill:#ff7f0e;stroke:#333333;\" x=\"206.167029\" xlink:href=\"#m3e6113e1a5\" y=\"173.135684\"/>\n     <use style=\"fill:#ff7f0e;stroke:#333333;\" x=\"213.740977\" xlink:href=\"#m3e6113e1a5\" y=\"174.762918\"/>\n     <use style=\"fill:#ff7f0e;stroke:#333333;\" x=\"121.204965\" xlink:href=\"#m3e6113e1a5\" y=\"77.433213\"/>\n     <use style=\"fill:#ff7f0e;stroke:#333333;\" x=\"203.018823\" xlink:href=\"#m3e6113e1a5\" y=\"182.099388\"/>\n     <use style=\"fill:#ff7f0e;stroke:#333333;\" x=\"238.152369\" xlink:href=\"#m3e6113e1a5\" y=\"188.7116\"/>\n     <use style=\"fill:#ff7f0e;stroke:#333333;\" x=\"231.441781\" xlink:href=\"#m3e6113e1a5\" y=\"186.794029\"/>\n     <use style=\"fill:#ff7f0e;stroke:#333333;\" x=\"211.648243\" xlink:href=\"#m3e6113e1a5\" y=\"189.950709\"/>\n     <use style=\"fill:#ff7f0e;stroke:#333333;\" x=\"236.220422\" xlink:href=\"#m3e6113e1a5\" y=\"169.740566\"/>\n     <use style=\"fill:#ff7f0e;stroke:#333333;\" x=\"101.853762\" xlink:href=\"#m3e6113e1a5\" y=\"86.031191\"/>\n     <use style=\"fill:#ff7f0e;stroke:#333333;\" x=\"233.94689\" xlink:href=\"#m3e6113e1a5\" y=\"172.051387\"/>\n     <use style=\"fill:#ff7f0e;stroke:#333333;\" x=\"123.501925\" xlink:href=\"#m3e6113e1a5\" y=\"74.175724\"/>\n     <use style=\"fill:#ff7f0e;stroke:#333333;\" x=\"218.585652\" xlink:href=\"#m3e6113e1a5\" y=\"171.48351\"/>\n     <use style=\"fill:#ff7f0e;stroke:#333333;\" x=\"90.32929\" xlink:href=\"#m3e6113e1a5\" y=\"75.633164\"/>\n     <use style=\"fill:#ff7f0e;stroke:#333333;\" x=\"111.280011\" xlink:href=\"#m3e6113e1a5\" y=\"82.837267\"/>\n     <use style=\"fill:#ff7f0e;stroke:#333333;\" x=\"211.740197\" xlink:href=\"#m3e6113e1a5\" y=\"195.115065\"/>\n     <use style=\"fill:#ff7f0e;stroke:#333333;\" x=\"205.118653\" xlink:href=\"#m3e6113e1a5\" y=\"174.999985\"/>\n     <use style=\"fill:#ff7f0e;stroke:#333333;\" x=\"115.182647\" xlink:href=\"#m3e6113e1a5\" y=\"78.537928\"/>\n     <use style=\"fill:#ff7f0e;stroke:#333333;\" x=\"227.992219\" xlink:href=\"#m3e6113e1a5\" y=\"175.571697\"/>\n     <use style=\"fill:#ff7f0e;stroke:#333333;\" x=\"115.634509\" xlink:href=\"#m3e6113e1a5\" y=\"84.738407\"/>\n     <use style=\"fill:#ff7f0e;stroke:#333333;\" x=\"113.207682\" xlink:href=\"#m3e6113e1a5\" y=\"86.904679\"/>\n     <use style=\"fill:#ff7f0e;stroke:#333333;\" x=\"241.406644\" xlink:href=\"#m3e6113e1a5\" y=\"195.654551\"/>\n     <use style=\"fill:#ff7f0e;stroke:#333333;\" x=\"218.12314\" xlink:href=\"#m3e6113e1a5\" y=\"172.59052\"/>\n     <use style=\"fill:#ff7f0e;stroke:#333333;\" x=\"102.818896\" xlink:href=\"#m3e6113e1a5\" y=\"74.729342\"/>\n     <use style=\"fill:#ff7f0e;stroke:#333333;\" x=\"126.547202\" xlink:href=\"#m3e6113e1a5\" y=\"76.348126\"/>\n     <use style=\"fill:#ff7f0e;stroke:#333333;\" x=\"129.239769\" xlink:href=\"#m3e6113e1a5\" y=\"62.486839\"/>\n     <use style=\"fill:#ff7f0e;stroke:#333333;\" x=\"228.152228\" xlink:href=\"#m3e6113e1a5\" y=\"193.26863\"/>\n     <use style=\"fill:#ff7f0e;stroke:#333333;\" x=\"103.215052\" xlink:href=\"#m3e6113e1a5\" y=\"78.005027\"/>\n     <use style=\"fill:#ff7f0e;stroke:#333333;\" x=\"216.222162\" xlink:href=\"#m3e6113e1a5\" y=\"176.670472\"/>\n     <use style=\"fill:#ff7f0e;stroke:#333333;\" x=\"114.916325\" xlink:href=\"#m3e6113e1a5\" y=\"88.653235\"/>\n     <use style=\"fill:#ff7f0e;stroke:#333333;\" x=\"121.115357\" xlink:href=\"#m3e6113e1a5\" y=\"70.241533\"/>\n     <use style=\"fill:#ff7f0e;stroke:#333333;\" x=\"120.258643\" xlink:href=\"#m3e6113e1a5\" y=\"72.957314\"/>\n     <use style=\"fill:#ff7f0e;stroke:#333333;\" x=\"209.315916\" xlink:href=\"#m3e6113e1a5\" y=\"177.378942\"/>\n     <use style=\"fill:#ff7f0e;stroke:#333333;\" x=\"103.210102\" xlink:href=\"#m3e6113e1a5\" y=\"91.806632\"/>\n     <use style=\"fill:#ff7f0e;stroke:#333333;\" x=\"119.325862\" xlink:href=\"#m3e6113e1a5\" y=\"68.692592\"/>\n     <use style=\"fill:#ff7f0e;stroke:#333333;\" x=\"202.824093\" xlink:href=\"#m3e6113e1a5\" y=\"174.268046\"/>\n     <use style=\"fill:#ff7f0e;stroke:#333333;\" x=\"223.801372\" xlink:href=\"#m3e6113e1a5\" y=\"196.626833\"/>\n     <use style=\"fill:#ff7f0e;stroke:#333333;\" x=\"117.310993\" xlink:href=\"#m3e6113e1a5\" y=\"69.094029\"/>\n     <use style=\"fill:#ff7f0e;stroke:#333333;\" x=\"122.253941\" xlink:href=\"#m3e6113e1a5\" y=\"84.153386\"/>\n     <use style=\"fill:#ff7f0e;stroke:#333333;\" x=\"208.231426\" xlink:href=\"#m3e6113e1a5\" y=\"184.433377\"/>\n     <use style=\"fill:#ff7f0e;stroke:#333333;\" x=\"201.565732\" xlink:href=\"#m3e6113e1a5\" y=\"186.557453\"/>\n     <use style=\"fill:#ff7f0e;stroke:#333333;\" x=\"120.045207\" xlink:href=\"#m3e6113e1a5\" y=\"79.883512\"/>\n     <use style=\"fill:#ff7f0e;stroke:#333333;\" x=\"85.476218\" xlink:href=\"#m3e6113e1a5\" y=\"85.530225\"/>\n     <use style=\"fill:#ff7f0e;stroke:#333333;\" x=\"108.621104\" xlink:href=\"#m3e6113e1a5\" y=\"91.775968\"/>\n     <use style=\"fill:#ff7f0e;stroke:#333333;\" x=\"122.454711\" xlink:href=\"#m3e6113e1a5\" y=\"71.807464\"/>\n     <use style=\"fill:#ff7f0e;stroke:#333333;\" x=\"105.245089\" xlink:href=\"#m3e6113e1a5\" y=\"80.555517\"/>\n     <use style=\"fill:#ff7f0e;stroke:#333333;\" x=\"110.345637\" xlink:href=\"#m3e6113e1a5\" y=\"74.684201\"/>\n     <use style=\"fill:#ff7f0e;stroke:#333333;\" x=\"122.948606\" xlink:href=\"#m3e6113e1a5\" y=\"84.523445\"/>\n     <use style=\"fill:#ff7f0e;stroke:#333333;\" x=\"238.331781\" xlink:href=\"#m3e6113e1a5\" y=\"190.109778\"/>\n     <use style=\"fill:#ff7f0e;stroke:#333333;\" x=\"99.158482\" xlink:href=\"#m3e6113e1a5\" y=\"62.144579\"/>\n     <use style=\"fill:#ff7f0e;stroke:#333333;\" x=\"238.904126\" xlink:href=\"#m3e6113e1a5\" y=\"176.479967\"/>\n     <use style=\"fill:#ff7f0e;stroke:#333333;\" x=\"228.511103\" xlink:href=\"#m3e6113e1a5\" y=\"166.124698\"/>\n     <use style=\"fill:#ff7f0e;stroke:#333333;\" x=\"204.749573\" xlink:href=\"#m3e6113e1a5\" y=\"197.183933\"/>\n     <use style=\"fill:#ff7f0e;stroke:#333333;\" x=\"207.817035\" xlink:href=\"#m3e6113e1a5\" y=\"209.749946\"/>\n     <use style=\"fill:#ff7f0e;stroke:#333333;\" x=\"113.647455\" xlink:href=\"#m3e6113e1a5\" y=\"63.325534\"/>\n     <use style=\"fill:#ff7f0e;stroke:#333333;\" x=\"209.936021\" xlink:href=\"#m3e6113e1a5\" y=\"171.712521\"/>\n     <use style=\"fill:#ff7f0e;stroke:#333333;\" x=\"199.504867\" xlink:href=\"#m3e6113e1a5\" y=\"160.73698\"/>\n     <use style=\"fill:#ff7f0e;stroke:#333333;\" x=\"102.861494\" xlink:href=\"#m3e6113e1a5\" y=\"67.872443\"/>\n     <use style=\"fill:#ff7f0e;stroke:#333333;\" x=\"121.543306\" xlink:href=\"#m3e6113e1a5\" y=\"77.896386\"/>\n     <use style=\"fill:#ff7f0e;stroke:#333333;\" x=\"230.263574\" xlink:href=\"#m3e6113e1a5\" y=\"175.913803\"/>\n     <use style=\"fill:#ff7f0e;stroke:#333333;\" x=\"108.769772\" xlink:href=\"#m3e6113e1a5\" y=\"71.243232\"/>\n     <use style=\"fill:#ff7f0e;stroke:#333333;\" x=\"118.137999\" xlink:href=\"#m3e6113e1a5\" y=\"79.260109\"/>\n     <use style=\"fill:#ff7f0e;stroke:#333333;\" x=\"116.883422\" xlink:href=\"#m3e6113e1a5\" y=\"81.810632\"/>\n     <use style=\"fill:#ff7f0e;stroke:#333333;\" x=\"217.332054\" xlink:href=\"#m3e6113e1a5\" y=\"170.303854\"/>\n     <use style=\"fill:#ff7f0e;stroke:#333333;\" x=\"223.569574\" xlink:href=\"#m3e6113e1a5\" y=\"163.041048\"/>\n     <use style=\"fill:#ff7f0e;stroke:#333333;\" x=\"230.510522\" xlink:href=\"#m3e6113e1a5\" y=\"176.611656\"/>\n     <use style=\"fill:#ff7f0e;stroke:#333333;\" x=\"142.305392\" xlink:href=\"#m3e6113e1a5\" y=\"77.469185\"/>\n     <use style=\"fill:#ff7f0e;stroke:#333333;\" x=\"204.163476\" xlink:href=\"#m3e6113e1a5\" y=\"198.978781\"/>\n     <use style=\"fill:#ff7f0e;stroke:#333333;\" x=\"244.521801\" xlink:href=\"#m3e6113e1a5\" y=\"198.229188\"/>\n     <use style=\"fill:#ff7f0e;stroke:#333333;\" x=\"214.441631\" xlink:href=\"#m3e6113e1a5\" y=\"195.840128\"/>\n     <use style=\"fill:#ff7f0e;stroke:#333333;\" x=\"105.972186\" xlink:href=\"#m3e6113e1a5\" y=\"85.737332\"/>\n     <use style=\"fill:#ff7f0e;stroke:#333333;\" x=\"104.205171\" xlink:href=\"#m3e6113e1a5\" y=\"77.466631\"/>\n     <use style=\"fill:#ff7f0e;stroke:#333333;\" x=\"232.367065\" xlink:href=\"#m3e6113e1a5\" y=\"198.103735\"/>\n     <use style=\"fill:#ff7f0e;stroke:#333333;\" x=\"104.549328\" xlink:href=\"#m3e6113e1a5\" y=\"83.321073\"/>\n     <use style=\"fill:#ff7f0e;stroke:#333333;\" x=\"93.504718\" xlink:href=\"#m3e6113e1a5\" y=\"79.424966\"/>\n     <use style=\"fill:#ff7f0e;stroke:#333333;\" x=\"127.819202\" xlink:href=\"#m3e6113e1a5\" y=\"69.050871\"/>\n     <use style=\"fill:#ff7f0e;stroke:#333333;\" x=\"106.888986\" xlink:href=\"#m3e6113e1a5\" y=\"71.394117\"/>\n     <use style=\"fill:#ff7f0e;stroke:#333333;\" x=\"238.372282\" xlink:href=\"#m3e6113e1a5\" y=\"196.147065\"/>\n     <use style=\"fill:#ff7f0e;stroke:#333333;\" x=\"200.720575\" xlink:href=\"#m3e6113e1a5\" y=\"181.948403\"/>\n     <use style=\"fill:#ff7f0e;stroke:#333333;\" x=\"113.562585\" xlink:href=\"#m3e6113e1a5\" y=\"65.860828\"/>\n     <use style=\"fill:#ff7f0e;stroke:#333333;\" x=\"236.216055\" xlink:href=\"#m3e6113e1a5\" y=\"194.238972\"/>\n    </g>\n   </g>\n   <g id=\"matplotlib.axis_1\">\n    <g id=\"xtick_1\">\n     <g id=\"line2d_1\">\n      <defs>\n       <path d=\"M 0 0 \nL 0 3.5 \n\" id=\"m2766766326\" style=\"stroke:#000000;stroke-width:0.8;\"/>\n      </defs>\n      <g>\n       <use style=\"stroke:#000000;stroke-width:0.8;\" x=\"58.523438\" xlink:href=\"#m2766766326\" y=\"239.758125\"/>\n      </g>\n     </g>\n     <g id=\"text_1\">\n      <!-- −0.5 -->\n      <defs>\n       <path d=\"M 10.59375 35.5 \nL 73.1875 35.5 \nL 73.1875 27.203125 \nL 10.59375 27.203125 \nz\n\" id=\"DejaVuSans-8722\"/>\n       <path d=\"M 31.78125 66.40625 \nQ 24.171875 66.40625 20.328125 58.90625 \nQ 16.5 51.421875 16.5 36.375 \nQ 16.5 21.390625 20.328125 13.890625 \nQ 24.171875 6.390625 31.78125 6.390625 \nQ 39.453125 6.390625 43.28125 13.890625 \nQ 47.125 21.390625 47.125 36.375 \nQ 47.125 51.421875 43.28125 58.90625 \nQ 39.453125 66.40625 31.78125 66.40625 \nz\nM 31.78125 74.21875 \nQ 44.046875 74.21875 50.515625 64.515625 \nQ 56.984375 54.828125 56.984375 36.375 \nQ 56.984375 17.96875 50.515625 8.265625 \nQ 44.046875 -1.421875 31.78125 -1.421875 \nQ 19.53125 -1.421875 13.0625 8.265625 \nQ 6.59375 17.96875 6.59375 36.375 \nQ 6.59375 54.828125 13.0625 64.515625 \nQ 19.53125 74.21875 31.78125 74.21875 \nz\n\" id=\"DejaVuSans-48\"/>\n       <path d=\"M 10.6875 12.40625 \nL 21 12.40625 \nL 21 0 \nL 10.6875 0 \nz\n\" id=\"DejaVuSans-46\"/>\n       <path d=\"M 10.796875 72.90625 \nL 49.515625 72.90625 \nL 49.515625 64.59375 \nL 19.828125 64.59375 \nL 19.828125 46.734375 \nQ 21.96875 47.46875 24.109375 47.828125 \nQ 26.265625 48.1875 28.421875 48.1875 \nQ 40.625 48.1875 47.75 41.5 \nQ 54.890625 34.8125 54.890625 23.390625 \nQ 54.890625 11.625 47.5625 5.09375 \nQ 40.234375 -1.421875 26.90625 -1.421875 \nQ 22.3125 -1.421875 17.546875 -0.640625 \nQ 12.796875 0.140625 7.71875 1.703125 \nL 7.71875 11.625 \nQ 12.109375 9.234375 16.796875 8.0625 \nQ 21.484375 6.890625 26.703125 6.890625 \nQ 35.15625 6.890625 40.078125 11.328125 \nQ 45.015625 15.765625 45.015625 23.390625 \nQ 45.015625 31 40.078125 35.4375 \nQ 35.15625 39.890625 26.703125 39.890625 \nQ 22.75 39.890625 18.8125 39.015625 \nQ 14.890625 38.140625 10.796875 36.28125 \nz\n\" id=\"DejaVuSans-53\"/>\n      </defs>\n      <g transform=\"translate(46.382031 254.356562)scale(0.1 -0.1)\">\n       <use xlink:href=\"#DejaVuSans-8722\"/>\n       <use x=\"83.789062\" xlink:href=\"#DejaVuSans-48\"/>\n       <use x=\"147.412109\" xlink:href=\"#DejaVuSans-46\"/>\n       <use x=\"179.199219\" xlink:href=\"#DejaVuSans-53\"/>\n      </g>\n     </g>\n    </g>\n    <g id=\"xtick_2\">\n     <g id=\"line2d_2\">\n      <g>\n       <use style=\"stroke:#000000;stroke-width:0.8;\" x=\"112.883437\" xlink:href=\"#m2766766326\" y=\"239.758125\"/>\n      </g>\n     </g>\n     <g id=\"text_2\">\n      <!-- 0.0 -->\n      <g transform=\"translate(104.931875 254.356562)scale(0.1 -0.1)\">\n       <use xlink:href=\"#DejaVuSans-48\"/>\n       <use x=\"63.623047\" xlink:href=\"#DejaVuSans-46\"/>\n       <use x=\"95.410156\" xlink:href=\"#DejaVuSans-48\"/>\n      </g>\n     </g>\n    </g>\n    <g id=\"xtick_3\">\n     <g id=\"line2d_3\">\n      <g>\n       <use style=\"stroke:#000000;stroke-width:0.8;\" x=\"167.243437\" xlink:href=\"#m2766766326\" y=\"239.758125\"/>\n      </g>\n     </g>\n     <g id=\"text_3\">\n      <!-- 0.5 -->\n      <g transform=\"translate(159.291875 254.356562)scale(0.1 -0.1)\">\n       <use xlink:href=\"#DejaVuSans-48\"/>\n       <use x=\"63.623047\" xlink:href=\"#DejaVuSans-46\"/>\n       <use x=\"95.410156\" xlink:href=\"#DejaVuSans-53\"/>\n      </g>\n     </g>\n    </g>\n    <g id=\"xtick_4\">\n     <g id=\"line2d_4\">\n      <g>\n       <use style=\"stroke:#000000;stroke-width:0.8;\" x=\"221.603437\" xlink:href=\"#m2766766326\" y=\"239.758125\"/>\n      </g>\n     </g>\n     <g id=\"text_4\">\n      <!-- 1.0 -->\n      <defs>\n       <path d=\"M 12.40625 8.296875 \nL 28.515625 8.296875 \nL 28.515625 63.921875 \nL 10.984375 60.40625 \nL 10.984375 69.390625 \nL 28.421875 72.90625 \nL 38.28125 72.90625 \nL 38.28125 8.296875 \nL 54.390625 8.296875 \nL 54.390625 0 \nL 12.40625 0 \nz\n\" id=\"DejaVuSans-49\"/>\n      </defs>\n      <g transform=\"translate(213.651875 254.356562)scale(0.1 -0.1)\">\n       <use xlink:href=\"#DejaVuSans-49\"/>\n       <use x=\"63.623047\" xlink:href=\"#DejaVuSans-46\"/>\n       <use x=\"95.410156\" xlink:href=\"#DejaVuSans-48\"/>\n      </g>\n     </g>\n    </g>\n    <g id=\"xtick_5\">\n     <g id=\"line2d_5\">\n      <g>\n       <use style=\"stroke:#000000;stroke-width:0.8;\" x=\"275.963437\" xlink:href=\"#m2766766326\" y=\"239.758125\"/>\n      </g>\n     </g>\n     <g id=\"text_5\">\n      <!-- 1.5 -->\n      <g transform=\"translate(268.011875 254.356562)scale(0.1 -0.1)\">\n       <use xlink:href=\"#DejaVuSans-49\"/>\n       <use x=\"63.623047\" xlink:href=\"#DejaVuSans-46\"/>\n       <use x=\"95.410156\" xlink:href=\"#DejaVuSans-53\"/>\n      </g>\n     </g>\n    </g>\n    <g id=\"text_6\">\n     <!-- $x_1$ -->\n     <defs>\n      <path d=\"M 60.015625 54.6875 \nL 34.90625 27.875 \nL 50.296875 0 \nL 39.984375 0 \nL 28.421875 21.6875 \nL 8.296875 0 \nL -2.59375 0 \nL 24.3125 28.8125 \nL 10.015625 54.6875 \nL 20.3125 54.6875 \nL 30.8125 34.90625 \nL 49.125 54.6875 \nz\n\" id=\"DejaVuSans-Oblique-120\"/>\n     </defs>\n     <g transform=\"translate(161.893438 268.034687)scale(0.1 -0.1)\">\n      <use transform=\"translate(0 0.3125)\" xlink:href=\"#DejaVuSans-Oblique-120\"/>\n      <use transform=\"translate(59.179688 -16.09375)scale(0.7)\" xlink:href=\"#DejaVuSans-49\"/>\n     </g>\n    </g>\n   </g>\n   <g id=\"matplotlib.axis_2\">\n    <g id=\"ytick_1\">\n     <g id=\"line2d_6\">\n      <defs>\n       <path d=\"M 0 0 \nL -3.5 0 \n\" id=\"m2d927699ca\" style=\"stroke:#000000;stroke-width:0.8;\"/>\n      </defs>\n      <g>\n       <use style=\"stroke:#000000;stroke-width:0.8;\" x=\"58.523438\" xlink:href=\"#m2d927699ca\" y=\"239.758125\"/>\n      </g>\n     </g>\n     <g id=\"text_7\">\n      <!-- −0.50 -->\n      <g transform=\"translate(20.878125 243.557344)scale(0.1 -0.1)\">\n       <use xlink:href=\"#DejaVuSans-8722\"/>\n       <use x=\"83.789062\" xlink:href=\"#DejaVuSans-48\"/>\n       <use x=\"147.412109\" xlink:href=\"#DejaVuSans-46\"/>\n       <use x=\"179.199219\" xlink:href=\"#DejaVuSans-53\"/>\n       <use x=\"242.822266\" xlink:href=\"#DejaVuSans-48\"/>\n      </g>\n     </g>\n    </g>\n    <g id=\"ytick_2\">\n     <g id=\"line2d_7\">\n      <g>\n       <use style=\"stroke:#000000;stroke-width:0.8;\" x=\"58.523438\" xlink:href=\"#m2d927699ca\" y=\"212.578125\"/>\n      </g>\n     </g>\n     <g id=\"text_8\">\n      <!-- −0.25 -->\n      <defs>\n       <path d=\"M 19.1875 8.296875 \nL 53.609375 8.296875 \nL 53.609375 0 \nL 7.328125 0 \nL 7.328125 8.296875 \nQ 12.9375 14.109375 22.625 23.890625 \nQ 32.328125 33.6875 34.8125 36.53125 \nQ 39.546875 41.84375 41.421875 45.53125 \nQ 43.3125 49.21875 43.3125 52.78125 \nQ 43.3125 58.59375 39.234375 62.25 \nQ 35.15625 65.921875 28.609375 65.921875 \nQ 23.96875 65.921875 18.8125 64.3125 \nQ 13.671875 62.703125 7.8125 59.421875 \nL 7.8125 69.390625 \nQ 13.765625 71.78125 18.9375 73 \nQ 24.125 74.21875 28.421875 74.21875 \nQ 39.75 74.21875 46.484375 68.546875 \nQ 53.21875 62.890625 53.21875 53.421875 \nQ 53.21875 48.921875 51.53125 44.890625 \nQ 49.859375 40.875 45.40625 35.40625 \nQ 44.1875 33.984375 37.640625 27.21875 \nQ 31.109375 20.453125 19.1875 8.296875 \nz\n\" id=\"DejaVuSans-50\"/>\n      </defs>\n      <g transform=\"translate(20.878125 216.377344)scale(0.1 -0.1)\">\n       <use xlink:href=\"#DejaVuSans-8722\"/>\n       <use x=\"83.789062\" xlink:href=\"#DejaVuSans-48\"/>\n       <use x=\"147.412109\" xlink:href=\"#DejaVuSans-46\"/>\n       <use x=\"179.199219\" xlink:href=\"#DejaVuSans-50\"/>\n       <use x=\"242.822266\" xlink:href=\"#DejaVuSans-53\"/>\n      </g>\n     </g>\n    </g>\n    <g id=\"ytick_3\">\n     <g id=\"line2d_8\">\n      <g>\n       <use style=\"stroke:#000000;stroke-width:0.8;\" x=\"58.523438\" xlink:href=\"#m2d927699ca\" y=\"185.398125\"/>\n      </g>\n     </g>\n     <g id=\"text_9\">\n      <!-- 0.00 -->\n      <g transform=\"translate(29.257812 189.197344)scale(0.1 -0.1)\">\n       <use xlink:href=\"#DejaVuSans-48\"/>\n       <use x=\"63.623047\" xlink:href=\"#DejaVuSans-46\"/>\n       <use x=\"95.410156\" xlink:href=\"#DejaVuSans-48\"/>\n       <use x=\"159.033203\" xlink:href=\"#DejaVuSans-48\"/>\n      </g>\n     </g>\n    </g>\n    <g id=\"ytick_4\">\n     <g id=\"line2d_9\">\n      <g>\n       <use style=\"stroke:#000000;stroke-width:0.8;\" x=\"58.523438\" xlink:href=\"#m2d927699ca\" y=\"158.218125\"/>\n      </g>\n     </g>\n     <g id=\"text_10\">\n      <!-- 0.25 -->\n      <g transform=\"translate(29.257812 162.017344)scale(0.1 -0.1)\">\n       <use xlink:href=\"#DejaVuSans-48\"/>\n       <use x=\"63.623047\" xlink:href=\"#DejaVuSans-46\"/>\n       <use x=\"95.410156\" xlink:href=\"#DejaVuSans-50\"/>\n       <use x=\"159.033203\" xlink:href=\"#DejaVuSans-53\"/>\n      </g>\n     </g>\n    </g>\n    <g id=\"ytick_5\">\n     <g id=\"line2d_10\">\n      <g>\n       <use style=\"stroke:#000000;stroke-width:0.8;\" x=\"58.523438\" xlink:href=\"#m2d927699ca\" y=\"131.038125\"/>\n      </g>\n     </g>\n     <g id=\"text_11\">\n      <!-- 0.50 -->\n      <g transform=\"translate(29.257812 134.837344)scale(0.1 -0.1)\">\n       <use xlink:href=\"#DejaVuSans-48\"/>\n       <use x=\"63.623047\" xlink:href=\"#DejaVuSans-46\"/>\n       <use x=\"95.410156\" xlink:href=\"#DejaVuSans-53\"/>\n       <use x=\"159.033203\" xlink:href=\"#DejaVuSans-48\"/>\n      </g>\n     </g>\n    </g>\n    <g id=\"ytick_6\">\n     <g id=\"line2d_11\">\n      <g>\n       <use style=\"stroke:#000000;stroke-width:0.8;\" x=\"58.523438\" xlink:href=\"#m2d927699ca\" y=\"103.858125\"/>\n      </g>\n     </g>\n     <g id=\"text_12\">\n      <!-- 0.75 -->\n      <defs>\n       <path d=\"M 8.203125 72.90625 \nL 55.078125 72.90625 \nL 55.078125 68.703125 \nL 28.609375 0 \nL 18.3125 0 \nL 43.21875 64.59375 \nL 8.203125 64.59375 \nz\n\" id=\"DejaVuSans-55\"/>\n      </defs>\n      <g transform=\"translate(29.257812 107.657344)scale(0.1 -0.1)\">\n       <use xlink:href=\"#DejaVuSans-48\"/>\n       <use x=\"63.623047\" xlink:href=\"#DejaVuSans-46\"/>\n       <use x=\"95.410156\" xlink:href=\"#DejaVuSans-55\"/>\n       <use x=\"159.033203\" xlink:href=\"#DejaVuSans-53\"/>\n      </g>\n     </g>\n    </g>\n    <g id=\"ytick_7\">\n     <g id=\"line2d_12\">\n      <g>\n       <use style=\"stroke:#000000;stroke-width:0.8;\" x=\"58.523438\" xlink:href=\"#m2d927699ca\" y=\"76.678125\"/>\n      </g>\n     </g>\n     <g id=\"text_13\">\n      <!-- 1.00 -->\n      <g transform=\"translate(29.257812 80.477344)scale(0.1 -0.1)\">\n       <use xlink:href=\"#DejaVuSans-49\"/>\n       <use x=\"63.623047\" xlink:href=\"#DejaVuSans-46\"/>\n       <use x=\"95.410156\" xlink:href=\"#DejaVuSans-48\"/>\n       <use x=\"159.033203\" xlink:href=\"#DejaVuSans-48\"/>\n      </g>\n     </g>\n    </g>\n    <g id=\"ytick_8\">\n     <g id=\"line2d_13\">\n      <g>\n       <use style=\"stroke:#000000;stroke-width:0.8;\" x=\"58.523438\" xlink:href=\"#m2d927699ca\" y=\"49.498125\"/>\n      </g>\n     </g>\n     <g id=\"text_14\">\n      <!-- 1.25 -->\n      <g transform=\"translate(29.257812 53.297344)scale(0.1 -0.1)\">\n       <use xlink:href=\"#DejaVuSans-49\"/>\n       <use x=\"63.623047\" xlink:href=\"#DejaVuSans-46\"/>\n       <use x=\"95.410156\" xlink:href=\"#DejaVuSans-50\"/>\n       <use x=\"159.033203\" xlink:href=\"#DejaVuSans-53\"/>\n      </g>\n     </g>\n    </g>\n    <g id=\"ytick_9\">\n     <g id=\"line2d_14\">\n      <g>\n       <use style=\"stroke:#000000;stroke-width:0.8;\" x=\"58.523438\" xlink:href=\"#m2d927699ca\" y=\"22.318125\"/>\n      </g>\n     </g>\n     <g id=\"text_15\">\n      <!-- 1.50 -->\n      <g transform=\"translate(29.257812 26.117344)scale(0.1 -0.1)\">\n       <use xlink:href=\"#DejaVuSans-49\"/>\n       <use x=\"63.623047\" xlink:href=\"#DejaVuSans-46\"/>\n       <use x=\"95.410156\" xlink:href=\"#DejaVuSans-53\"/>\n       <use x=\"159.033203\" xlink:href=\"#DejaVuSans-48\"/>\n      </g>\n     </g>\n    </g>\n    <g id=\"text_16\">\n     <!-- $x_2$ -->\n     <g transform=\"translate(14.798437 136.388125)rotate(-90)scale(0.1 -0.1)\">\n      <use transform=\"translate(0 0.3125)\" xlink:href=\"#DejaVuSans-Oblique-120\"/>\n      <use transform=\"translate(59.179688 -16.09375)scale(0.7)\" xlink:href=\"#DejaVuSans-50\"/>\n     </g>\n    </g>\n   </g>\n   <g id=\"patch_3\">\n    <path d=\"M 58.523438 239.758125 \nL 58.523438 22.318125 \n\" style=\"fill:none;stroke:#000000;stroke-linecap:square;stroke-linejoin:miter;stroke-width:0.8;\"/>\n   </g>\n   <g id=\"patch_4\">\n    <path d=\"M 275.963437 239.758125 \nL 275.963437 22.318125 \n\" style=\"fill:none;stroke:#000000;stroke-linecap:square;stroke-linejoin:miter;stroke-width:0.8;\"/>\n   </g>\n   <g id=\"patch_5\">\n    <path d=\"M 58.523438 239.758125 \nL 275.963437 239.758125 \n\" style=\"fill:none;stroke:#000000;stroke-linecap:square;stroke-linejoin:miter;stroke-width:0.8;\"/>\n   </g>\n   <g id=\"patch_6\">\n    <path d=\"M 58.523438 22.318125 \nL 275.963437 22.318125 \n\" style=\"fill:none;stroke:#000000;stroke-linecap:square;stroke-linejoin:miter;stroke-width:0.8;\"/>\n   </g>\n   <g id=\"text_17\">\n    <!-- Dataset samples -->\n    <defs>\n     <path d=\"M 19.671875 64.796875 \nL 19.671875 8.109375 \nL 31.59375 8.109375 \nQ 46.6875 8.109375 53.6875 14.9375 \nQ 60.6875 21.78125 60.6875 36.53125 \nQ 60.6875 51.171875 53.6875 57.984375 \nQ 46.6875 64.796875 31.59375 64.796875 \nz\nM 9.8125 72.90625 \nL 30.078125 72.90625 \nQ 51.265625 72.90625 61.171875 64.09375 \nQ 71.09375 55.28125 71.09375 36.53125 \nQ 71.09375 17.671875 61.125 8.828125 \nQ 51.171875 0 30.078125 0 \nL 9.8125 0 \nz\n\" id=\"DejaVuSans-68\"/>\n     <path d=\"M 34.28125 27.484375 \nQ 23.390625 27.484375 19.1875 25 \nQ 14.984375 22.515625 14.984375 16.5 \nQ 14.984375 11.71875 18.140625 8.90625 \nQ 21.296875 6.109375 26.703125 6.109375 \nQ 34.1875 6.109375 38.703125 11.40625 \nQ 43.21875 16.703125 43.21875 25.484375 \nL 43.21875 27.484375 \nz\nM 52.203125 31.203125 \nL 52.203125 0 \nL 43.21875 0 \nL 43.21875 8.296875 \nQ 40.140625 3.328125 35.546875 0.953125 \nQ 30.953125 -1.421875 24.3125 -1.421875 \nQ 15.921875 -1.421875 10.953125 3.296875 \nQ 6 8.015625 6 15.921875 \nQ 6 25.140625 12.171875 29.828125 \nQ 18.359375 34.515625 30.609375 34.515625 \nL 43.21875 34.515625 \nL 43.21875 35.40625 \nQ 43.21875 41.609375 39.140625 45 \nQ 35.0625 48.390625 27.6875 48.390625 \nQ 23 48.390625 18.546875 47.265625 \nQ 14.109375 46.140625 10.015625 43.890625 \nL 10.015625 52.203125 \nQ 14.9375 54.109375 19.578125 55.046875 \nQ 24.21875 56 28.609375 56 \nQ 40.484375 56 46.34375 49.84375 \nQ 52.203125 43.703125 52.203125 31.203125 \nz\n\" id=\"DejaVuSans-97\"/>\n     <path d=\"M 18.3125 70.21875 \nL 18.3125 54.6875 \nL 36.8125 54.6875 \nL 36.8125 47.703125 \nL 18.3125 47.703125 \nL 18.3125 18.015625 \nQ 18.3125 11.328125 20.140625 9.421875 \nQ 21.96875 7.515625 27.59375 7.515625 \nL 36.8125 7.515625 \nL 36.8125 0 \nL 27.59375 0 \nQ 17.1875 0 13.234375 3.875 \nQ 9.28125 7.765625 9.28125 18.015625 \nL 9.28125 47.703125 \nL 2.6875 47.703125 \nL 2.6875 54.6875 \nL 9.28125 54.6875 \nL 9.28125 70.21875 \nz\n\" id=\"DejaVuSans-116\"/>\n     <path d=\"M 44.28125 53.078125 \nL 44.28125 44.578125 \nQ 40.484375 46.53125 36.375 47.5 \nQ 32.28125 48.484375 27.875 48.484375 \nQ 21.1875 48.484375 17.84375 46.4375 \nQ 14.5 44.390625 14.5 40.28125 \nQ 14.5 37.15625 16.890625 35.375 \nQ 19.28125 33.59375 26.515625 31.984375 \nL 29.59375 31.296875 \nQ 39.15625 29.25 43.1875 25.515625 \nQ 47.21875 21.78125 47.21875 15.09375 \nQ 47.21875 7.46875 41.1875 3.015625 \nQ 35.15625 -1.421875 24.609375 -1.421875 \nQ 20.21875 -1.421875 15.453125 -0.5625 \nQ 10.6875 0.296875 5.421875 2 \nL 5.421875 11.28125 \nQ 10.40625 8.6875 15.234375 7.390625 \nQ 20.0625 6.109375 24.8125 6.109375 \nQ 31.15625 6.109375 34.5625 8.28125 \nQ 37.984375 10.453125 37.984375 14.40625 \nQ 37.984375 18.0625 35.515625 20.015625 \nQ 33.0625 21.96875 24.703125 23.78125 \nL 21.578125 24.515625 \nQ 13.234375 26.265625 9.515625 29.90625 \nQ 5.8125 33.546875 5.8125 39.890625 \nQ 5.8125 47.609375 11.28125 51.796875 \nQ 16.75 56 26.8125 56 \nQ 31.78125 56 36.171875 55.265625 \nQ 40.578125 54.546875 44.28125 53.078125 \nz\n\" id=\"DejaVuSans-115\"/>\n     <path d=\"M 56.203125 29.59375 \nL 56.203125 25.203125 \nL 14.890625 25.203125 \nQ 15.484375 15.921875 20.484375 11.0625 \nQ 25.484375 6.203125 34.421875 6.203125 \nQ 39.59375 6.203125 44.453125 7.46875 \nQ 49.3125 8.734375 54.109375 11.28125 \nL 54.109375 2.78125 \nQ 49.265625 0.734375 44.1875 -0.34375 \nQ 39.109375 -1.421875 33.890625 -1.421875 \nQ 20.796875 -1.421875 13.15625 6.1875 \nQ 5.515625 13.8125 5.515625 26.8125 \nQ 5.515625 40.234375 12.765625 48.109375 \nQ 20.015625 56 32.328125 56 \nQ 43.359375 56 49.78125 48.890625 \nQ 56.203125 41.796875 56.203125 29.59375 \nz\nM 47.21875 32.234375 \nQ 47.125 39.59375 43.09375 43.984375 \nQ 39.0625 48.390625 32.421875 48.390625 \nQ 24.90625 48.390625 20.390625 44.140625 \nQ 15.875 39.890625 15.1875 32.171875 \nz\n\" id=\"DejaVuSans-101\"/>\n     <path id=\"DejaVuSans-32\"/>\n     <path d=\"M 52 44.1875 \nQ 55.375 50.25 60.0625 53.125 \nQ 64.75 56 71.09375 56 \nQ 79.640625 56 84.28125 50.015625 \nQ 88.921875 44.046875 88.921875 33.015625 \nL 88.921875 0 \nL 79.890625 0 \nL 79.890625 32.71875 \nQ 79.890625 40.578125 77.09375 44.375 \nQ 74.3125 48.1875 68.609375 48.1875 \nQ 61.625 48.1875 57.5625 43.546875 \nQ 53.515625 38.921875 53.515625 30.90625 \nL 53.515625 0 \nL 44.484375 0 \nL 44.484375 32.71875 \nQ 44.484375 40.625 41.703125 44.40625 \nQ 38.921875 48.1875 33.109375 48.1875 \nQ 26.21875 48.1875 22.15625 43.53125 \nQ 18.109375 38.875 18.109375 30.90625 \nL 18.109375 0 \nL 9.078125 0 \nL 9.078125 54.6875 \nL 18.109375 54.6875 \nL 18.109375 46.1875 \nQ 21.1875 51.21875 25.484375 53.609375 \nQ 29.78125 56 35.6875 56 \nQ 41.65625 56 45.828125 52.96875 \nQ 50 49.953125 52 44.1875 \nz\n\" id=\"DejaVuSans-109\"/>\n     <path d=\"M 18.109375 8.203125 \nL 18.109375 -20.796875 \nL 9.078125 -20.796875 \nL 9.078125 54.6875 \nL 18.109375 54.6875 \nL 18.109375 46.390625 \nQ 20.953125 51.265625 25.265625 53.625 \nQ 29.59375 56 35.59375 56 \nQ 45.5625 56 51.78125 48.09375 \nQ 58.015625 40.1875 58.015625 27.296875 \nQ 58.015625 14.40625 51.78125 6.484375 \nQ 45.5625 -1.421875 35.59375 -1.421875 \nQ 29.59375 -1.421875 25.265625 0.953125 \nQ 20.953125 3.328125 18.109375 8.203125 \nz\nM 48.6875 27.296875 \nQ 48.6875 37.203125 44.609375 42.84375 \nQ 40.53125 48.484375 33.40625 48.484375 \nQ 26.265625 48.484375 22.1875 42.84375 \nQ 18.109375 37.203125 18.109375 27.296875 \nQ 18.109375 17.390625 22.1875 11.75 \nQ 26.265625 6.109375 33.40625 6.109375 \nQ 40.53125 6.109375 44.609375 11.75 \nQ 48.6875 17.390625 48.6875 27.296875 \nz\n\" id=\"DejaVuSans-112\"/>\n     <path d=\"M 9.421875 75.984375 \nL 18.40625 75.984375 \nL 18.40625 0 \nL 9.421875 0 \nz\n\" id=\"DejaVuSans-108\"/>\n    </defs>\n    <g transform=\"translate(116.900625 16.318125)scale(0.12 -0.12)\">\n     <use xlink:href=\"#DejaVuSans-68\"/>\n     <use x=\"77.001953\" xlink:href=\"#DejaVuSans-97\"/>\n     <use x=\"138.28125\" xlink:href=\"#DejaVuSans-116\"/>\n     <use x=\"177.490234\" xlink:href=\"#DejaVuSans-97\"/>\n     <use x=\"238.769531\" xlink:href=\"#DejaVuSans-115\"/>\n     <use x=\"290.869141\" xlink:href=\"#DejaVuSans-101\"/>\n     <use x=\"352.392578\" xlink:href=\"#DejaVuSans-116\"/>\n     <use x=\"391.601562\" xlink:href=\"#DejaVuSans-32\"/>\n     <use x=\"423.388672\" xlink:href=\"#DejaVuSans-115\"/>\n     <use x=\"475.488281\" xlink:href=\"#DejaVuSans-97\"/>\n     <use x=\"536.767578\" xlink:href=\"#DejaVuSans-109\"/>\n     <use x=\"634.179688\" xlink:href=\"#DejaVuSans-112\"/>\n     <use x=\"697.65625\" xlink:href=\"#DejaVuSans-108\"/>\n     <use x=\"725.439453\" xlink:href=\"#DejaVuSans-101\"/>\n     <use x=\"786.962891\" xlink:href=\"#DejaVuSans-115\"/>\n    </g>\n   </g>\n   <g id=\"legend_1\">\n    <g id=\"patch_7\">\n     <path d=\"M 65.523438 59.674375 \nL 133.371875 59.674375 \nQ 135.371875 59.674375 135.371875 57.674375 \nL 135.371875 29.318125 \nQ 135.371875 27.318125 133.371875 27.318125 \nL 65.523438 27.318125 \nQ 63.523438 27.318125 63.523438 29.318125 \nL 63.523438 57.674375 \nQ 63.523438 59.674375 65.523438 59.674375 \nz\n\" style=\"fill:#ffffff;opacity:0.8;stroke:#cccccc;stroke-linejoin:miter;\"/>\n    </g>\n    <g id=\"PathCollection_3\">\n     <g>\n      <use style=\"fill:#1f77b4;stroke:#333333;\" x=\"77.523438\" xlink:href=\"#m886e1bc21a\" y=\"36.291562\"/>\n     </g>\n    </g>\n    <g id=\"text_18\">\n     <!-- Class 0 -->\n     <defs>\n      <path d=\"M 64.40625 67.28125 \nL 64.40625 56.890625 \nQ 59.421875 61.53125 53.78125 63.8125 \nQ 48.140625 66.109375 41.796875 66.109375 \nQ 29.296875 66.109375 22.65625 58.46875 \nQ 16.015625 50.828125 16.015625 36.375 \nQ 16.015625 21.96875 22.65625 14.328125 \nQ 29.296875 6.6875 41.796875 6.6875 \nQ 48.140625 6.6875 53.78125 8.984375 \nQ 59.421875 11.28125 64.40625 15.921875 \nL 64.40625 5.609375 \nQ 59.234375 2.09375 53.4375 0.328125 \nQ 47.65625 -1.421875 41.21875 -1.421875 \nQ 24.65625 -1.421875 15.125 8.703125 \nQ 5.609375 18.84375 5.609375 36.375 \nQ 5.609375 53.953125 15.125 64.078125 \nQ 24.65625 74.21875 41.21875 74.21875 \nQ 47.75 74.21875 53.53125 72.484375 \nQ 59.328125 70.75 64.40625 67.28125 \nz\n\" id=\"DejaVuSans-67\"/>\n     </defs>\n     <g transform=\"translate(95.523438 38.916562)scale(0.1 -0.1)\">\n      <use xlink:href=\"#DejaVuSans-67\"/>\n      <use x=\"69.824219\" xlink:href=\"#DejaVuSans-108\"/>\n      <use x=\"97.607422\" xlink:href=\"#DejaVuSans-97\"/>\n      <use x=\"158.886719\" xlink:href=\"#DejaVuSans-115\"/>\n      <use x=\"210.986328\" xlink:href=\"#DejaVuSans-115\"/>\n      <use x=\"263.085938\" xlink:href=\"#DejaVuSans-32\"/>\n      <use x=\"294.873047\" xlink:href=\"#DejaVuSans-48\"/>\n     </g>\n    </g>\n    <g id=\"PathCollection_4\">\n     <g>\n      <use style=\"fill:#ff7f0e;stroke:#333333;\" x=\"77.523438\" xlink:href=\"#m3e6113e1a5\" y=\"50.969687\"/>\n     </g>\n    </g>\n    <g id=\"text_19\">\n     <!-- Class 1 -->\n     <g transform=\"translate(95.523438 53.594687)scale(0.1 -0.1)\">\n      <use xlink:href=\"#DejaVuSans-67\"/>\n      <use x=\"69.824219\" xlink:href=\"#DejaVuSans-108\"/>\n      <use x=\"97.607422\" xlink:href=\"#DejaVuSans-97\"/>\n      <use x=\"158.886719\" xlink:href=\"#DejaVuSans-115\"/>\n      <use x=\"210.986328\" xlink:href=\"#DejaVuSans-115\"/>\n      <use x=\"263.085938\" xlink:href=\"#DejaVuSans-32\"/>\n      <use x=\"294.873047\" xlink:href=\"#DejaVuSans-49\"/>\n     </g>\n    </g>\n   </g>\n  </g>\n </g>\n <defs>\n  <clipPath id=\"p6fe0a9f74e\">\n   <rect height=\"217.44\" width=\"217.44\" x=\"58.523438\" y=\"22.318125\"/>\n  </clipPath>\n </defs>\n</svg>\n",
            "application/pdf": "[encoded data removed]"
          },
          "metadata": {
            "needs_background": "light"
          }
        }
      ],
      "source": [
        "@torch.no_grad()  # Decorator, same effect as \"with torch.no_grad(): ...\" over the whole function.\n",
        "def visualize_classification(model, data, label):\n",
        "    if isinstance(data, Tensor):\n",
        "        data = data.cpu().numpy()\n",
        "    if isinstance(label, Tensor):\n",
        "        label = label.cpu().numpy()\n",
        "    data_0 = data[label == 0]\n",
        "    data_1 = data[label == 1]\n",
        "\n",
        "    plt.figure(figsize=(4, 4))\n",
        "    plt.scatter(data_0[:, 0], data_0[:, 1], edgecolor=\"#333\", label=\"Class 0\")\n",
        "    plt.scatter(data_1[:, 0], data_1[:, 1], edgecolor=\"#333\", label=\"Class 1\")\n",
        "    plt.title(\"Dataset samples\")\n",
        "    plt.ylabel(r\"$x_2$\")\n",
        "    plt.xlabel(r\"$x_1$\")\n",
        "    plt.legend()\n",
        "\n",
        "    # Let's make use of a lot of operations we have learned above\n",
        "    model.to(device)\n",
        "    c0 = Tensor(to_rgba(\"C0\")).to(device)\n",
        "    c1 = Tensor(to_rgba(\"C1\")).to(device)\n",
        "    x1 = torch.arange(-0.5, 1.5, step=0.01, device=device)\n",
        "    x2 = torch.arange(-0.5, 1.5, step=0.01, device=device)\n",
        "    xx1, xx2 = torch.meshgrid(x1, x2)  # Meshgrid function as in numpy\n",
        "    model_inputs = torch.stack([xx1, xx2], dim=-1)\n",
        "    preds = model(model_inputs)\n",
        "    preds = torch.sigmoid(preds)\n",
        "    # Specifying \"None\" in a dimension creates a new one\n",
        "    output_image = (1 - preds) * c0[None, None] + preds * c1[None, None]\n",
        "    output_image = (\n",
        "        output_image.cpu().numpy()\n",
        "    )  # Convert to numpy array. This only works for tensors on CPU, hence first push to CPU\n",
        "    plt.imshow(output_image, origin=\"lower\", extent=(-0.5, 1.5, -0.5, 1.5))\n",
        "    plt.grid(False)\n",
        "\n",
        "\n",
        "visualize_classification(model, dataset.data, dataset.label)\n",
        "plt.show()"
      ]
    },
    {
      "cell_type": "markdown",
      "id": "59da563c",
      "metadata": {
        "papermill": {
          "duration": 0.019724,
          "end_time": "2022-05-12T11:44:54.321449",
          "exception": false,
          "start_time": "2022-05-12T11:44:54.301725",
          "status": "completed"
        },
        "tags": [],
        "id": "59da563c"
      },
      "source": [
        "The decision boundaries might not look exactly as in the figure in the preamble of this section which can be caused by running it on CPU or a different GPU architecture.\n",
        "Nevertheless, the result on the accuracy metric should be the approximately the same."
      ]
    },
    {
      "cell_type": "markdown",
      "id": "25062ca3",
      "metadata": {
        "papermill": {
          "duration": 0.02104,
          "end_time": "2022-05-12T11:44:54.362467",
          "exception": false,
          "start_time": "2022-05-12T11:44:54.341427",
          "status": "completed"
        },
        "tags": [],
        "id": "25062ca3"
      },
      "source": [
        "## Additional features we didn't get to discuss yet\n",
        "\n",
        "Finally, you are all set to start with your own PyTorch project!\n",
        "In summary, we have looked at how we can build neural networks in PyTorch, and train and test them on data.\n",
        "However, there is still much more to PyTorch we haven't discussed yet.\n",
        "In the comming series of Jupyter notebooks, we will discover more and more functionalities of PyTorch, so that you also get familiar to PyTorch concepts beyond the basics.\n",
        "If you are already interested in learning more of PyTorch, we recommend the official [tutorial website](https://pytorch.org/tutorials/) that contains many tutorials on various topics.\n",
        "Especially logging with Tensorboard ([tutorial\n",
        "here](https://pytorch.org/tutorials/intermediate/tensorboard_tutorial.html))\n",
        "is a good practice that we will explore from Tutorial 5 on."
      ]
    }
  ],
  "metadata": {
    "jupytext": {
      "cell_metadata_filter": "colab,id,colab_type,-all",
      "formats": "ipynb,py:percent",
      "main_language": "python"
    },
    "language_info": {
      "name": "python"
    },
    "papermill": {
      "default_parameters": {},
      "duration": 20.166319,
      "end_time": "2022-05-12T11:44:55.247041",
      "environment_variables": {},
      "exception": null,
      "input_path": "course_UvA-DL/01-introduction-to-pytorch/Introduction_to_PyTorch.ipynb",
      "output_path": ".notebooks/course_UvA-DL/01-introduction-to-pytorch.ipynb",
      "parameters": {},
      "start_time": "2022-05-12T11:44:35.080722",
      "version": "2.3.4"
    },
    "widgets": {
      "application/vnd.jupyter.widget-state+json": {
        "c1786eb12ba144cd8814e9965b9a715c": {
          "model_module": "@jupyter-widgets/controls",
          "model_name": "HBoxModel",
          "model_module_version": "1.5.0",
          "state": {
            "_dom_classes": [],
            "_model_module": "@jupyter-widgets/controls",
            "_model_module_version": "1.5.0",
            "_model_name": "HBoxModel",
            "_view_count": null,
            "_view_module": "@jupyter-widgets/controls",
            "_view_module_version": "1.5.0",
            "_view_name": "HBoxView",
            "box_style": "",
            "children": [
              "IPY_MODEL_05c049eed6a6444887d1b4931ebb41df",
              "IPY_MODEL_62892a5e2fe0428dadfdac9fed5663a5",
              "IPY_MODEL_05bd4a1308e34e11a60d18231f656406"
            ],
            "layout": "IPY_MODEL_a9bc53595990421c814dddbefcaab0a8"
          }
        },
        "05c049eed6a6444887d1b4931ebb41df": {
          "model_module": "@jupyter-widgets/controls",
          "model_name": "HTMLModel",
          "model_module_version": "1.5.0",
          "state": {
            "_dom_classes": [],
            "_model_module": "@jupyter-widgets/controls",
            "_model_module_version": "1.5.0",
            "_model_name": "HTMLModel",
            "_view_count": null,
            "_view_module": "@jupyter-widgets/controls",
            "_view_module_version": "1.5.0",
            "_view_name": "HTMLView",
            "description": "",
            "description_tooltip": null,
            "layout": "IPY_MODEL_7430fb69cb894f2ba223a64a5e155ad5",
            "placeholder": "​",
            "style": "IPY_MODEL_42346f7b6588451787136809148cb4ef",
            "value": "100%"
          }
        },
        "62892a5e2fe0428dadfdac9fed5663a5": {
          "model_module": "@jupyter-widgets/controls",
          "model_name": "FloatProgressModel",
          "model_module_version": "1.5.0",
          "state": {
            "_dom_classes": [],
            "_model_module": "@jupyter-widgets/controls",
            "_model_module_version": "1.5.0",
            "_model_name": "FloatProgressModel",
            "_view_count": null,
            "_view_module": "@jupyter-widgets/controls",
            "_view_module_version": "1.5.0",
            "_view_name": "ProgressView",
            "bar_style": "success",
            "description": "",
            "description_tooltip": null,
            "layout": "IPY_MODEL_2508c215503d4718989baf75feb514e4",
            "max": 100,
            "min": 0,
            "orientation": "horizontal",
            "style": "IPY_MODEL_b9f3b5bc2a9a45c3bfe4ce2f0f5934b9",
            "value": 100
          }
        },
        "05bd4a1308e34e11a60d18231f656406": {
          "model_module": "@jupyter-widgets/controls",
          "model_name": "HTMLModel",
          "model_module_version": "1.5.0",
          "state": {
            "_dom_classes": [],
            "_model_module": "@jupyter-widgets/controls",
            "_model_module_version": "1.5.0",
            "_model_name": "HTMLModel",
            "_view_count": null,
            "_view_module": "@jupyter-widgets/controls",
            "_view_module_version": "1.5.0",
            "_view_name": "HTMLView",
            "description": "",
            "description_tooltip": null,
            "layout": "IPY_MODEL_277befda0d1a494193995fd61e44f522",
            "placeholder": "​",
            "style": "IPY_MODEL_4f0f51e74c1a492ba835c46c137fe492",
            "value": " 100/100 [00:00&lt;00:00, 154.79it/s]"
          }
        },
        "a9bc53595990421c814dddbefcaab0a8": {
          "model_module": "@jupyter-widgets/base",
          "model_name": "LayoutModel",
          "model_module_version": "1.2.0",
          "state": {
            "_model_module": "@jupyter-widgets/base",
            "_model_module_version": "1.2.0",
            "_model_name": "LayoutModel",
            "_view_count": null,
            "_view_module": "@jupyter-widgets/base",
            "_view_module_version": "1.2.0",
            "_view_name": "LayoutView",
            "align_content": null,
            "align_items": null,
            "align_self": null,
            "border": null,
            "bottom": null,
            "display": null,
            "flex": null,
            "flex_flow": null,
            "grid_area": null,
            "grid_auto_columns": null,
            "grid_auto_flow": null,
            "grid_auto_rows": null,
            "grid_column": null,
            "grid_gap": null,
            "grid_row": null,
            "grid_template_areas": null,
            "grid_template_columns": null,
            "grid_template_rows": null,
            "height": null,
            "justify_content": null,
            "justify_items": null,
            "left": null,
            "margin": null,
            "max_height": null,
            "max_width": null,
            "min_height": null,
            "min_width": null,
            "object_fit": null,
            "object_position": null,
            "order": null,
            "overflow": null,
            "overflow_x": null,
            "overflow_y": null,
            "padding": null,
            "right": null,
            "top": null,
            "visibility": null,
            "width": null
          }
        },
        "7430fb69cb894f2ba223a64a5e155ad5": {
          "model_module": "@jupyter-widgets/base",
          "model_name": "LayoutModel",
          "model_module_version": "1.2.0",
          "state": {
            "_model_module": "@jupyter-widgets/base",
            "_model_module_version": "1.2.0",
            "_model_name": "LayoutModel",
            "_view_count": null,
            "_view_module": "@jupyter-widgets/base",
            "_view_module_version": "1.2.0",
            "_view_name": "LayoutView",
            "align_content": null,
            "align_items": null,
            "align_self": null,
            "border": null,
            "bottom": null,
            "display": null,
            "flex": null,
            "flex_flow": null,
            "grid_area": null,
            "grid_auto_columns": null,
            "grid_auto_flow": null,
            "grid_auto_rows": null,
            "grid_column": null,
            "grid_gap": null,
            "grid_row": null,
            "grid_template_areas": null,
            "grid_template_columns": null,
            "grid_template_rows": null,
            "height": null,
            "justify_content": null,
            "justify_items": null,
            "left": null,
            "margin": null,
            "max_height": null,
            "max_width": null,
            "min_height": null,
            "min_width": null,
            "object_fit": null,
            "object_position": null,
            "order": null,
            "overflow": null,
            "overflow_x": null,
            "overflow_y": null,
            "padding": null,
            "right": null,
            "top": null,
            "visibility": null,
            "width": null
          }
        },
        "42346f7b6588451787136809148cb4ef": {
          "model_module": "@jupyter-widgets/controls",
          "model_name": "DescriptionStyleModel",
          "model_module_version": "1.5.0",
          "state": {
            "_model_module": "@jupyter-widgets/controls",
            "_model_module_version": "1.5.0",
            "_model_name": "DescriptionStyleModel",
            "_view_count": null,
            "_view_module": "@jupyter-widgets/base",
            "_view_module_version": "1.2.0",
            "_view_name": "StyleView",
            "description_width": ""
          }
        },
        "2508c215503d4718989baf75feb514e4": {
          "model_module": "@jupyter-widgets/base",
          "model_name": "LayoutModel",
          "model_module_version": "1.2.0",
          "state": {
            "_model_module": "@jupyter-widgets/base",
            "_model_module_version": "1.2.0",
            "_model_name": "LayoutModel",
            "_view_count": null,
            "_view_module": "@jupyter-widgets/base",
            "_view_module_version": "1.2.0",
            "_view_name": "LayoutView",
            "align_content": null,
            "align_items": null,
            "align_self": null,
            "border": null,
            "bottom": null,
            "display": null,
            "flex": null,
            "flex_flow": null,
            "grid_area": null,
            "grid_auto_columns": null,
            "grid_auto_flow": null,
            "grid_auto_rows": null,
            "grid_column": null,
            "grid_gap": null,
            "grid_row": null,
            "grid_template_areas": null,
            "grid_template_columns": null,
            "grid_template_rows": null,
            "height": null,
            "justify_content": null,
            "justify_items": null,
            "left": null,
            "margin": null,
            "max_height": null,
            "max_width": null,
            "min_height": null,
            "min_width": null,
            "object_fit": null,
            "object_position": null,
            "order": null,
            "overflow": null,
            "overflow_x": null,
            "overflow_y": null,
            "padding": null,
            "right": null,
            "top": null,
            "visibility": null,
            "width": null
          }
        },
        "b9f3b5bc2a9a45c3bfe4ce2f0f5934b9": {
          "model_module": "@jupyter-widgets/controls",
          "model_name": "ProgressStyleModel",
          "model_module_version": "1.5.0",
          "state": {
            "_model_module": "@jupyter-widgets/controls",
            "_model_module_version": "1.5.0",
            "_model_name": "ProgressStyleModel",
            "_view_count": null,
            "_view_module": "@jupyter-widgets/base",
            "_view_module_version": "1.2.0",
            "_view_name": "StyleView",
            "bar_color": null,
            "description_width": ""
          }
        },
        "277befda0d1a494193995fd61e44f522": {
          "model_module": "@jupyter-widgets/base",
          "model_name": "LayoutModel",
          "model_module_version": "1.2.0",
          "state": {
            "_model_module": "@jupyter-widgets/base",
            "_model_module_version": "1.2.0",
            "_model_name": "LayoutModel",
            "_view_count": null,
            "_view_module": "@jupyter-widgets/base",
            "_view_module_version": "1.2.0",
            "_view_name": "LayoutView",
            "align_content": null,
            "align_items": null,
            "align_self": null,
            "border": null,
            "bottom": null,
            "display": null,
            "flex": null,
            "flex_flow": null,
            "grid_area": null,
            "grid_auto_columns": null,
            "grid_auto_flow": null,
            "grid_auto_rows": null,
            "grid_column": null,
            "grid_gap": null,
            "grid_row": null,
            "grid_template_areas": null,
            "grid_template_columns": null,
            "grid_template_rows": null,
            "height": null,
            "justify_content": null,
            "justify_items": null,
            "left": null,
            "margin": null,
            "max_height": null,
            "max_width": null,
            "min_height": null,
            "min_width": null,
            "object_fit": null,
            "object_position": null,
            "order": null,
            "overflow": null,
            "overflow_x": null,
            "overflow_y": null,
            "padding": null,
            "right": null,
            "top": null,
            "visibility": null,
            "width": null
          }
        },
        "4f0f51e74c1a492ba835c46c137fe492": {
          "model_module": "@jupyter-widgets/controls",
          "model_name": "DescriptionStyleModel",
          "model_module_version": "1.5.0",
          "state": {
            "_model_module": "@jupyter-widgets/controls",
            "_model_module_version": "1.5.0",
            "_model_name": "DescriptionStyleModel",
            "_view_count": null,
            "_view_module": "@jupyter-widgets/base",
            "_view_module_version": "1.2.0",
            "_view_name": "StyleView",
            "description_width": ""
          }
        }
      }
    },
    "colab": {
      "provenance": []
    },
    "kernelspec": {
      "name": "python3",
      "display_name": "Python 3"
    },
    "gpuClass": "standard"
  },
  "nbformat": 4,
  "nbformat_minor": 5
}